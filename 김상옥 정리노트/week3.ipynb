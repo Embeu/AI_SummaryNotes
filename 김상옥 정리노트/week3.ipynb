{
 "cells": [
  {
   "cell_type": "code",
   "execution_count": 3,
   "id": "dd78a10d-c7e2-4951-b325-9c1e7d5d91da",
   "metadata": {},
   "outputs": [],
   "source": [
    "# y = x1w1 + x2w2\n",
    "import numpy as np"
   ]
  },
  {
   "cell_type": "code",
   "execution_count": 4,
   "id": "39037690-21d5-4429-b53c-cc4923ccf668",
   "metadata": {
    "scrolled": true
   },
   "outputs": [],
   "source": [
    "# w1 = float(input()) \n",
    "# w2 = float(input())\n",
    "# theta = float(input())"
   ]
  },
  {
   "cell_type": "code",
   "execution_count": 5,
   "id": "1401e4d7-00be-41e1-a188-d6ad08588fcf",
   "metadata": {},
   "outputs": [],
   "source": [
    "# y1 = 0*w1 + 0*w2\n",
    "# y2 = 0*w1 + 1*w2\n",
    "# y3 = 1*w1 + 0*w2\n",
    "# y4 = 1*w1 + 1*w2"
   ]
  },
  {
   "cell_type": "code",
   "execution_count": 6,
   "id": "fcaac8ed-4df8-4580-bc6c-f0f50653086d",
   "metadata": {},
   "outputs": [],
   "source": [
    "# print(\"결과1 : \", 1 if y1 > theta else 0)\n",
    "# print(\"결과2 : \", 1 if y2 > theta else 0)\n",
    "# print(\"결과3 : \", 1 if y3 > theta else 0)\n",
    "# print(\"결과4 : \", 1 if y4 > theta else 0)"
   ]
  },
  {
   "cell_type": "code",
   "execution_count": 7,
   "id": "af48e050-8549-4d6c-96f9-8b0550c414df",
   "metadata": {},
   "outputs": [],
   "source": [
    "# 0.5, 0.5, 0.7 -> 0 0 0 1\n",
    "# 위 과정 w1, w2, theta값의 데이터를 알아내는 게 기계학습"
   ]
  },
  {
   "cell_type": "code",
   "execution_count": null,
   "id": "b173c6bf-ee78-45e3-8faf-7746be3b618b",
   "metadata": {},
   "outputs": [],
   "source": []
  },
  {
   "cell_type": "code",
   "execution_count": 8,
   "id": "8a3ff16d-fef2-408e-b0a1-1a68d6c615dd",
   "metadata": {},
   "outputs": [],
   "source": [
    "def AND_Theta(x1, x2):\n",
    "    w1, w2, theta = 0.5, 0.5, 0.7\n",
    "    tmp = x1*w1 + x2*w2\n",
    "    return 0 if tmp <= theta else 1"
   ]
  },
  {
   "cell_type": "code",
   "execution_count": 9,
   "id": "85f8118d-c218-451b-bcbd-ef54163cbfc1",
   "metadata": {},
   "outputs": [
    {
     "name": "stdout",
     "output_type": "stream",
     "text": [
      "AND 0 0 |  0\n",
      "AND 0 1 |  0\n",
      "AND 1 0 |  0\n",
      "AND 1 1 |  1\n"
     ]
    }
   ],
   "source": [
    "print(\"AND 0 0 | \", AND_Theta(0, 0))\n",
    "print(\"AND 0 1 | \", AND_Theta(0, 1))\n",
    "print(\"AND 1 0 | \", AND_Theta(1, 0))\n",
    "print(\"AND 1 1 | \", AND_Theta(1, 1))"
   ]
  },
  {
   "cell_type": "code",
   "execution_count": null,
   "id": "86770d38-27b8-41f2-96b9-3cbb2ca29492",
   "metadata": {},
   "outputs": [],
   "source": []
  },
  {
   "cell_type": "markdown",
   "id": "83adcddb-27f2-48a3-bfdf-c1c2672606a0",
   "metadata": {},
   "source": [
    "### 가중치와 편향 값에 따라 AND, OR, NAND -> 계산은 똑같음"
   ]
  },
  {
   "cell_type": "code",
   "execution_count": 10,
   "id": "291a8056-984e-46f1-be90-56566e512eff",
   "metadata": {},
   "outputs": [],
   "source": [
    "def AND(x1, x2):\n",
    "    x = np.array([x1, x2])\n",
    "    w = np.array([0.5, 0.5])\n",
    "    b = -0.7\n",
    "    tmp = np.sum(w*x) + b\n",
    "    return 0 if tmp <= 0 else 1"
   ]
  },
  {
   "cell_type": "code",
   "execution_count": 11,
   "id": "9957b9c5-eb6f-48c4-aff2-8647dc789b5f",
   "metadata": {},
   "outputs": [
    {
     "name": "stdout",
     "output_type": "stream",
     "text": [
      "AND 0 0 |  0\n",
      "AND 0 1 |  0\n",
      "AND 1 0 |  0\n",
      "AND 1 1 |  1\n"
     ]
    }
   ],
   "source": [
    "print(\"AND 0 0 | \", AND(0, 0))\n",
    "print(\"AND 0 1 | \", AND(0, 1))\n",
    "print(\"AND 1 0 | \", AND(1, 0))\n",
    "print(\"AND 1 1 | \", AND(1, 1))"
   ]
  },
  {
   "cell_type": "code",
   "execution_count": null,
   "id": "60e2cf8b-fe4a-4961-a07d-713eba1adfec",
   "metadata": {},
   "outputs": [],
   "source": []
  },
  {
   "cell_type": "code",
   "execution_count": 12,
   "id": "6dc90ee1-caab-41b7-8445-bc7d7214b6c9",
   "metadata": {},
   "outputs": [],
   "source": [
    "def NAND(x1, x2):\n",
    "    x = np.array([x1, x2])\n",
    "    w = np.array([-0.5, -0.5])\n",
    "    b = 0.7\n",
    "    tmp = np.sum(w*x) + b\n",
    "    return 0 if tmp <= 0 else 1"
   ]
  },
  {
   "cell_type": "code",
   "execution_count": 13,
   "id": "7e1f0786-c7cf-42df-b4e8-0a308897c9b8",
   "metadata": {},
   "outputs": [
    {
     "name": "stdout",
     "output_type": "stream",
     "text": [
      "NAND 0 0 |  1\n",
      "NAND 0 1 |  1\n",
      "NAND 1 0 |  1\n",
      "NAND 1 1 |  0\n"
     ]
    }
   ],
   "source": [
    "print(\"NAND 0 0 | \", NAND(0, 0))\n",
    "print(\"NAND 0 1 | \", NAND(0, 1))\n",
    "print(\"NAND 1 0 | \", NAND(1, 0))\n",
    "print(\"NAND 1 1 | \", NAND(1, 1))"
   ]
  },
  {
   "cell_type": "code",
   "execution_count": null,
   "id": "35ca2e45-d756-4ccc-889b-049e33e0412e",
   "metadata": {},
   "outputs": [],
   "source": []
  },
  {
   "cell_type": "code",
   "execution_count": 14,
   "id": "3aab9cf9-f884-4a1f-aba3-cd4535a2f783",
   "metadata": {},
   "outputs": [],
   "source": [
    "def OR(x1, x2):\n",
    "    x = np.array([x1, x2])\n",
    "    w = np.array([0.5, 0.5])\n",
    "    b = -0.2\n",
    "    tmp = np.sum(w*x) + b\n",
    "    return 0 if tmp <= 0 else 1"
   ]
  },
  {
   "cell_type": "code",
   "execution_count": 15,
   "id": "d6da337d-2850-4557-af4b-c50222ce866a",
   "metadata": {},
   "outputs": [
    {
     "name": "stdout",
     "output_type": "stream",
     "text": [
      "OR 0 0 |  0\n",
      "OR 0 1 |  1\n",
      "OR 1 0 |  1\n",
      "OR 1 1 |  1\n"
     ]
    }
   ],
   "source": [
    "print(\"OR 0 0 | \", OR(0, 0))\n",
    "print(\"OR 0 1 | \", OR(0, 1))\n",
    "print(\"OR 1 0 | \", OR(1, 0))\n",
    "print(\"OR 1 1 | \", OR(1, 1))"
   ]
  },
  {
   "cell_type": "code",
   "execution_count": 16,
   "id": "ae34edd3-364b-4abd-9084-6aad271c14c6",
   "metadata": {},
   "outputs": [],
   "source": [
    "# 질문 : NOR을 만들 수 있을까"
   ]
  },
  {
   "cell_type": "code",
   "execution_count": 17,
   "id": "e3b5ec65-ab01-440d-887e-dcabec415b94",
   "metadata": {},
   "outputs": [],
   "source": [
    "def NOR(x1, x2):\n",
    "    x = np.array([x1, x2])\n",
    "    w = np.array([-0.5, -0.5])\n",
    "    b = 0.4\n",
    "    tmp = np.sum(w*x) + b\n",
    "    return 0 if tmp <= 0 else 1"
   ]
  },
  {
   "cell_type": "code",
   "execution_count": 18,
   "id": "401be78c-5015-429c-8ba3-080189650414",
   "metadata": {},
   "outputs": [
    {
     "name": "stdout",
     "output_type": "stream",
     "text": [
      "NOR 0 0 |  1\n",
      "NOR 0 1 |  0\n",
      "NOR 1 0 |  0\n",
      "NOR 1 1 |  0\n"
     ]
    }
   ],
   "source": [
    "print(\"NOR 0 0 | \", NOR(0, 0))\n",
    "print(\"NOR 0 1 | \", NOR(0, 1))\n",
    "print(\"NOR 1 0 | \", NOR(1, 0))\n",
    "print(\"NOR 1 1 | \", NOR(1, 1))"
   ]
  },
  {
   "cell_type": "code",
   "execution_count": null,
   "id": "ae0a77dd-aa32-4d6f-beb3-3428dde7ced4",
   "metadata": {},
   "outputs": [],
   "source": []
  },
  {
   "cell_type": "code",
   "execution_count": 27,
   "id": "b80c5076-e546-451e-9158-9713c14a385d",
   "metadata": {},
   "outputs": [],
   "source": [
    "def XOR(x1, x2):\n",
    "    return AND(NAND(x1, x2), OR(x1, x2))"
   ]
  },
  {
   "cell_type": "code",
   "execution_count": 28,
   "id": "2904c762-e7aa-4ffb-acb9-ed4ff5e14c3d",
   "metadata": {},
   "outputs": [
    {
     "name": "stdout",
     "output_type": "stream",
     "text": [
      "XOR 0 0 |  0\n",
      "XOR 0 1 |  1\n",
      "XOR 1 0 |  1\n",
      "XOR 1 1 |  0\n"
     ]
    }
   ],
   "source": [
    "print(\"XOR 0 0 | \", XOR(0, 0))\n",
    "print(\"XOR 0 1 | \", XOR(0, 1))\n",
    "print(\"XOR 1 0 | \", XOR(1, 0))\n",
    "print(\"XOR 1 1 | \", XOR(1, 1))"
   ]
  },
  {
   "cell_type": "code",
   "execution_count": null,
   "id": "3ced0c3f-4acd-4b2b-9b4a-9e9133c7e9d7",
   "metadata": {},
   "outputs": [],
   "source": []
  },
  {
   "cell_type": "code",
   "execution_count": 21,
   "id": "7047e6e9-3f2a-4d1e-aba2-e901b3c40c57",
   "metadata": {},
   "outputs": [],
   "source": [
    "def XOR_test(x1, x2):\n",
    "    w11 = 0.4\n",
    "    w12 = 0.4\n",
    "    w21 = 0.4\n",
    "    w22 = 0.8\n",
    "    w31 = 0.8\n",
    "    w32 = 0.8\n",
    "    \n",
    "    b1 = 0.6\n",
    "    b2 = -0.6\n",
    "    b3 = -0.01\n",
    "    \n",
    "    s1 = x1*w11 + x2*w21 + b1\n",
    "    s2 = x1*w12 + x2*w22 + b2\n",
    "\n",
    "    y = x1 * s1 + x2 * s2 + b3\n",
    "    \n",
    "    return 0 if y <= 0 else 1\n",
    "    \n",
    "    "
   ]
  },
  {
   "cell_type": "code",
   "execution_count": 22,
   "id": "a2d6d044-846a-47d6-942c-1cb66e9dbe5c",
   "metadata": {},
   "outputs": [
    {
     "name": "stdout",
     "output_type": "stream",
     "text": [
      "XOR_test 0 0 |  0\n",
      "XOR_test 0 1 |  1\n",
      "XOR_test 1 0 |  1\n",
      "XOR_test 1 1 |  1\n"
     ]
    }
   ],
   "source": [
    "print(\"XOR_test 0 0 | \", XOR_test(0, 0))\n",
    "print(\"XOR_test 0 1 | \", XOR_test(0, 1))\n",
    "print(\"XOR_test 1 0 | \", XOR_test(1, 0))\n",
    "print(\"XOR_test 1 1 | \", XOR_test(1, 1))"
   ]
  },
  {
   "cell_type": "code",
   "execution_count": null,
   "id": "d3d969a4-6055-4bd9-99d1-451cc046402c",
   "metadata": {},
   "outputs": [],
   "source": []
  },
  {
   "cell_type": "code",
   "execution_count": null,
   "id": "9e33c8cb-99fc-4f1b-b326-b1b217a67938",
   "metadata": {},
   "outputs": [],
   "source": []
  },
  {
   "cell_type": "code",
   "execution_count": 23,
   "id": "786faca7-979a-4316-8276-64dd268c30e5",
   "metadata": {},
   "outputs": [],
   "source": [
    "# 질문2 : NXOR을 만들 수 있을까?"
   ]
  },
  {
   "cell_type": "code",
   "execution_count": 24,
   "id": "e631293e-d311-49ee-b092-3ea34afc93ec",
   "metadata": {},
   "outputs": [],
   "source": [
    "def NXOR(x1, x2):\n",
    "    s1 = NAND(x1, x2)\n",
    "    s2 = OR(x1, x2)\n",
    "    y = NAND(s1, s2)\n",
    "    return y"
   ]
  },
  {
   "cell_type": "code",
   "execution_count": 25,
   "id": "dac5c8b0-2b39-4cd8-b8fa-6d7aa5eca931",
   "metadata": {},
   "outputs": [
    {
     "name": "stdout",
     "output_type": "stream",
     "text": [
      "NXOR 0 0 |  1\n",
      "NXOR 0 1 |  0\n",
      "NXOR 1 0 |  0\n",
      "NXOR 1 1 |  1\n"
     ]
    }
   ],
   "source": [
    "print(\"NXOR 0 0 | \", NXOR(0, 0))\n",
    "print(\"NXOR 0 1 | \", NXOR(0, 1))\n",
    "print(\"NXOR 1 0 | \", NXOR(1, 0))\n",
    "print(\"NXOR 1 1 | \", NXOR(1, 1))"
   ]
  },
  {
   "cell_type": "code",
   "execution_count": 26,
   "id": "d2ba45aa-1d01-428e-9dfb-10383c731c60",
   "metadata": {},
   "outputs": [],
   "source": [
    "# 질문3 : 다층 퍼셉트론이 필요한 이유는"
   ]
  },
  {
   "cell_type": "code",
   "execution_count": null,
   "id": "b6e174d4-8307-4392-a3fe-4b5b29ce6c95",
   "metadata": {},
   "outputs": [],
   "source": []
  },
  {
   "cell_type": "code",
   "execution_count": null,
   "id": "6762ab6a-284f-47c3-b71b-f1a3d9b5ec04",
   "metadata": {},
   "outputs": [],
   "source": []
  },
  {
   "cell_type": "code",
   "execution_count": null,
   "id": "7a80f4a2-344b-416b-94ac-3422a2479cee",
   "metadata": {},
   "outputs": [],
   "source": []
  }
 ],
 "metadata": {
  "kernelspec": {
   "display_name": "Python 3 (ipykernel)",
   "language": "python",
   "name": "python3"
  },
  "language_info": {
   "codemirror_mode": {
    "name": "ipython",
    "version": 3
   },
   "file_extension": ".py",
   "mimetype": "text/x-python",
   "name": "python",
   "nbconvert_exporter": "python",
   "pygments_lexer": "ipython3",
   "version": "3.11.7"
  }
 },
 "nbformat": 4,
 "nbformat_minor": 5
}
