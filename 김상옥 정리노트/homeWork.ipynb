{
 "cells": [
  {
   "cell_type": "markdown",
   "id": "512447ed-ca6f-4d09-bf72-ab84587f7798",
   "metadata": {},
   "source": [
    "# ◇ 라이브러리 설정 MNIST, numpy"
   ]
  },
  {
   "cell_type": "code",
   "execution_count": 194,
   "id": "703a29df-fcf6-41e2-a7f6-8f9123a1d087",
   "metadata": {
    "scrolled": true
   },
   "outputs": [],
   "source": [
    "import sys, os\n",
    "sys.path.append(os.pardir)\n",
    "import numpy as np\n",
    "from dataset.mnist import load_mnist\n",
    "import matplotlib.pyplot as plt\n",
    "from collections import OrderedDict"
   ]
  },
  {
   "attachments": {
    "8d7f22dd-1fe5-4f25-9a13-ed54f875196f.png": {
     "image/png": "[encoded data removed]"
    }
   },
   "cell_type": "markdown",
   "id": "f203ffeb-9f3c-4afb-99c2-ff7548439c2f",
   "metadata": {},
   "source": [
    "# ◇ 계층 클래스 Affine\n",
    "#### Affine클래스는 해당 부분을 저장\n",
    "![image.png](attachment:8d7f22dd-1fe5-4f25-9a13-ed54f875196f.png)"
   ]
  },
  {
   "cell_type": "code",
   "execution_count": 195,
   "id": "416b1d0a-13ea-44e5-9bdc-a7dbcbae826b",
   "metadata": {},
   "outputs": [],
   "source": [
    "class Affine:\n",
    "    def __init__(self, W, b):\n",
    "        self.W = W\n",
    "        self.b = b\n",
    "        \n",
    "        self.x = None\n",
    "        self.original_x_shape = None\n",
    "        # 가중치와 편향 매개변수의 미분\n",
    "        self.dW = None\n",
    "        self.db = None\n",
    "\n",
    "    def forward(self, x, flg):\n",
    "        # 텐서 대응\n",
    "        self.original_x_shape = x.shape\n",
    "        x = x.reshape(x.shape[0], -1)\n",
    "        self.x = x\n",
    "\n",
    "        #print(self.x.shape, self.W.shape)\n",
    "        out = np.dot(self.x, self.W) + self.b\n",
    "\n",
    "        return out\n",
    "\n",
    "    def backward(self, dout):\n",
    "        dx = np.dot(dout, self.W.T)\n",
    "        self.dW = np.dot(self.x.T, dout)\n",
    "        self.db = np.sum(dout, axis=0)\n",
    "        \n",
    "        dx = dx.reshape(*self.original_x_shape)  # 입력 데이터 모양 변경(텐서 대응)\n",
    "        return dx"
   ]
  },
  {
   "cell_type": "markdown",
   "id": "0f833bc6-a684-4aae-bfe6-1dc5eb1deea7",
   "metadata": {
    "jp-MarkdownHeadingCollapsed": true
   },
   "source": [
    "# ◇ 활성화 함수 Relu, softmax\n",
    "# ◇ 손실 함수 cross_entropy_error (교차 엔트로피 오차)\n",
    "# ◇ 수치미분-기울기 numerical_gradient\n",
    "# ◇ 출력층 클래스 -> 소프트맥스, 손실 함수 값을 계산-저장 SoftmaxWithLoss"
   ]
  },
  {
   "attachments": {
    "bd1cf732-a572-423f-b55b-73b2ffe87b4d.png": {
     "image/png": "[encoded data removed]"
    }
   },
   "cell_type": "markdown",
   "id": "5b826560-ed44-4924-a0b6-505c35fdb261",
   "metadata": {},
   "source": [
    "----\n",
    "#### class Relu는 해당 부분을 저장\n",
    "![image.png](attachment:bd1cf732-a572-423f-b55b-73b2ffe87b4d.png)"
   ]
  },
  {
   "cell_type": "code",
   "execution_count": 196,
   "id": "900abb2e-bfb9-445b-a126-c27b6a04fc56",
   "metadata": {},
   "outputs": [],
   "source": [
    "# Relu 활성화 함수 순전파, 역전파를 저장하는 클래스\n",
    "class Relu:\n",
    "    def __init__(self):\n",
    "        self.mask = None\n",
    "\n",
    "    def forward(self, x, flg):\n",
    "        self.mask = (x <= 0)\n",
    "        out = x.copy()\n",
    "        out[self.mask] = 0\n",
    "\n",
    "        return out\n",
    "\n",
    "    def backward(self, dout):\n",
    "        dout[self.mask] = 0\n",
    "        dx = dout\n",
    "\n",
    "        return dx"
   ]
  },
  {
   "cell_type": "code",
   "execution_count": 197,
   "id": "0269eb61-553f-439e-a374-83fc8f58d409",
   "metadata": {},
   "outputs": [],
   "source": [
    "def softmax(x):\n",
    "    if x.ndim == 2:\n",
    "        x = x.T\n",
    "        x = x - np.max(x, axis=0)\n",
    "        y = np.exp(x) / np.sum(np.exp(x), axis=0)\n",
    "        return y.T \n",
    "\n",
    "    x = x - np.max(x) # 오버플로 대책\n",
    "    return np.exp(x) / np.sum(np.exp(x))"
   ]
  },
  {
   "cell_type": "code",
   "execution_count": 198,
   "id": "b7b8e697-02c5-4dfe-b1ae-58b68d3a9c41",
   "metadata": {},
   "outputs": [],
   "source": [
    "def cross_entropy_error(y, t):\n",
    "    if y.ndim == 1:\n",
    "        t = t.reshape(1, t.size)\n",
    "        y = y.reshape(1, y.size)\n",
    "        \n",
    "    if t.size == y.size:\n",
    "        t = t.argmax(axis=1)\n",
    "             \n",
    "    batch_size = y.shape[0]\n",
    "    return -np.sum(np.log(y[np.arange(batch_size), t] + 1e-7)) / batch_size"
   ]
  },
  {
   "cell_type": "code",
   "execution_count": 199,
   "id": "03e460e1-bfc6-4a06-818b-02c9051cf088",
   "metadata": {},
   "outputs": [],
   "source": [
    "def numerical_gradient(f, x):\n",
    "    h = 1e-4 # 0.0001\n",
    "    grad = np.zeros_like(x)\n",
    "    \n",
    "    it = np.nditer(x, flags=['multi_index'], op_flags=['readwrite'])\n",
    "    while not it.finished:\n",
    "        idx = it.multi_index\n",
    "        tmp_val = x[idx]\n",
    "        x[idx] = float(tmp_val) + h\n",
    "        fxh1 = f(x) # f(x+h)\n",
    "        \n",
    "        x[idx] = tmp_val - h \n",
    "        fxh2 = f(x) # f(x-h)\n",
    "        grad[idx] = (fxh1 - fxh2) / (2*h)\n",
    "        \n",
    "        x[idx] = tmp_val # 값 복원\n",
    "        it.iternext()   \n",
    "        \n",
    "    return grad"
   ]
  },
  {
   "cell_type": "code",
   "execution_count": 200,
   "id": "161c7d2d-c4cc-4ce3-89c3-5ceac9417267",
   "metadata": {},
   "outputs": [],
   "source": [
    "class SoftmaxWithLoss:\n",
    "    def __init__(self):\n",
    "        self.loss = None # 손실함수\n",
    "        self.y = None    # softmax의 출력\n",
    "        self.t = None    # 정답 레이블(원-핫 인코딩 형태)\n",
    "        \n",
    "    def forward(self, x, t):\n",
    "        self.t = t\n",
    "        self.y = softmax(x)\n",
    "        self.loss = cross_entropy_error(self.y, self.t)\n",
    "        \n",
    "        return self.loss\n",
    "\n",
    "    def backward(self, dout=1):\n",
    "        batch_size = self.t.shape[0]\n",
    "        if self.t.size == self.y.size: # 정답 레이블이 원-핫 인코딩 형태일 때\n",
    "            dx = (self.y - self.t) / batch_size\n",
    "        else:\n",
    "            dx = self.y.copy()\n",
    "            dx[np.arange(batch_size), self.t] -= 1\n",
    "            dx = dx / batch_size\n",
    "        \n",
    "        return dx"
   ]
  },
  {
   "cell_type": "markdown",
   "id": "2537370a-1915-42f0-9c91-f5cc11998fc8",
   "metadata": {
    "jp-MarkdownHeadingCollapsed": true
   },
   "source": [
    "# ◇ 최적화 함수 SGD, Momentum, AdaGrad"
   ]
  },
  {
   "cell_type": "code",
   "execution_count": 201,
   "id": "30cb3c94-71ab-480f-ad5c-911166b74ffc",
   "metadata": {},
   "outputs": [],
   "source": [
    "class SGD:\n",
    "    def __init__(self, Ir=0.01):\n",
    "        self.Ir =Ir\n",
    "\n",
    "    def update(self, params, grads):\n",
    "        for key in params.keys():\n",
    "            params[key] -= self.Ir * grads[key]"
   ]
  },
  {
   "cell_type": "code",
   "execution_count": 202,
   "id": "0f0c4a9c-4131-4946-962d-154d22eddf8b",
   "metadata": {},
   "outputs": [],
   "source": [
    "class Momentum:\n",
    "    def __init__(self, lr=0.01, momentum=0.9):\n",
    "        self.lr = lr\n",
    "        self.momentum = momentum\n",
    "        self.v = None\n",
    "\n",
    "    def update(self, params, grads):\n",
    "        if self.v is None:\n",
    "            self.v = {}\n",
    "            for key, val in params.items():\n",
    "                self.v[key] = np.zeros_like(val)\n",
    "\n",
    "        for key in params.keys():\n",
    "            self.v[key] = self.momentum * self.v[key] - self.lr * grads[key]\n",
    "            params[key] += self.v[key]"
   ]
  },
  {
   "cell_type": "code",
   "execution_count": 203,
   "id": "df7ccc05-fa98-4a9a-8e0a-adf50ac4d2d3",
   "metadata": {},
   "outputs": [],
   "source": [
    "class AdaGrad:\n",
    "    def __init__ (self, Ir=0.01):\n",
    "        self.Ir =Ir\n",
    "        self.h = None\n",
    "        \n",
    "    def update(self, params, grads):\n",
    "        if self.h is None:\n",
    "            self.h = {}\n",
    "            for key, val in params.items():\n",
    "                self.h[key] = np.zeros_like(val)\n",
    "\n",
    "        for key in params.keys() :\n",
    "            self.h[key] += grads[key] * grads[key]\n",
    "            params[key] -= self.Ir * grads[key] / (np.sqrt(self.h[key]) + 1e-7)\n"
   ]
  },
  {
   "cell_type": "markdown",
   "id": "705ad2f6-185b-4724-a432-2e4638118105",
   "metadata": {
    "jp-MarkdownHeadingCollapsed": true
   },
   "source": [
    "# ◇ 학습 자료에 있는 배치 정규화 코드"
   ]
  },
  {
   "cell_type": "code",
   "execution_count": 204,
   "id": "e592201f-c9dc-49a6-a6d9-3f52dad159bf",
   "metadata": {},
   "outputs": [],
   "source": [
    "class BatchNormalization:\n",
    "    \"\"\"\n",
    "    http://arxiv.org/abs/1502.03167\n",
    "    \"\"\"\n",
    "    def __init__(self, gamma=1, beta=0, momentum=0.9, running_mean=None, running_var=None):\n",
    "        self.gamma = gamma\n",
    "        self.beta = beta\n",
    "        self.momentum = momentum\n",
    "        self.input_shape = None # 합성곱 계층은 4차원, 완전연결 계층은 2차원  \n",
    "\n",
    "        # 시험할 때 사용할 평균과 분산\n",
    "        self.running_mean = running_mean\n",
    "        self.running_var = running_var  \n",
    "        \n",
    "        # backward 시에 사용할 중간 데이터\n",
    "        self.batch_size = None\n",
    "        self.xc = None\n",
    "        self.std = None\n",
    "        self.dgamma = None\n",
    "        self.dbeta = None\n",
    "\n",
    "    def forward(self, x, train_flg=True):\n",
    "        self.input_shape = x.shape\n",
    "        if x.ndim != 2:\n",
    "            N, C, H, W = x.shape\n",
    "            x = x.reshape(N, -1)\n",
    "\n",
    "        out = self.__forward(x, train_flg)\n",
    "        \n",
    "        return out.reshape(*self.input_shape)\n",
    "            \n",
    "    def __forward(self, x, train_flg):\n",
    "        if self.running_mean is None:\n",
    "            N, D = x.shape\n",
    "            self.running_mean = np.zeros(D)\n",
    "            self.running_var = np.zeros(D)\n",
    "                        \n",
    "        if train_flg:\n",
    "            mu = x.mean(axis=0)\n",
    "            xc = x - mu\n",
    "            var = np.mean(xc**2, axis=0)\n",
    "            std = np.sqrt(var + 10e-7)\n",
    "            xn = xc / std\n",
    "            \n",
    "            self.batch_size = x.shape[0]\n",
    "            self.xc = xc\n",
    "            self.xn = xn\n",
    "            self.std = std\n",
    "            self.running_mean = self.momentum * self.running_mean + (1-self.momentum) * mu\n",
    "            self.running_var = self.momentum * self.running_var + (1-self.momentum) * var            \n",
    "        else:\n",
    "            xc = x - self.running_mean\n",
    "            xn = xc / ((np.sqrt(self.running_var + 10e-7)))\n",
    "            \n",
    "        out = self.gamma * xn + self.beta \n",
    "        return out\n",
    "\n",
    "    def backward(self, dout):\n",
    "        if dout.ndim != 2:\n",
    "            N, C, H, W = dout.shape\n",
    "            dout = dout.reshape(N, -1)\n",
    "\n",
    "        dx = self.__backward(dout)\n",
    "\n",
    "        dx = dx.reshape(*self.input_shape)\n",
    "        return dx\n",
    "\n",
    "    def __backward(self, dout):\n",
    "        dbeta = dout.sum(axis=0)\n",
    "        dgamma = np.sum(self.xn * dout, axis=0)\n",
    "        dxn = self.gamma * dout\n",
    "        dxc = dxn / self.std\n",
    "        dstd = -np.sum((dxn * self.xc) / (self.std * self.std), axis=0)\n",
    "        dvar = 0.5 * dstd / self.std\n",
    "        dxc += (2.0 / self.batch_size) * self.xc * dvar\n",
    "        dmu = np.sum(dxc, axis=0)\n",
    "        dx = dxc - dmu / self.batch_size\n",
    "        \n",
    "        self.dgamma = dgamma\n",
    "        self.dbeta = dbeta\n",
    "        \n",
    "        return dx"
   ]
  },
  {
   "cell_type": "markdown",
   "id": "e8d61b57-e961-4aba-907a-a7363c23a617",
   "metadata": {
    "jp-MarkdownHeadingCollapsed": true
   },
   "source": [
    "# ◇ 가중치 초기화 He"
   ]
  },
  {
   "cell_type": "code",
   "execution_count": 215,
   "id": "6e97a344-d757-4dfd-8c54-74d3316db214",
   "metadata": {},
   "outputs": [],
   "source": [
    "def He_init(input, ouput):\n",
    "    return np.sqrt(1.5 / input) * np.random.randn(input, ouput)"
   ]
  },
  {
   "cell_type": "markdown",
   "id": "ebca134e-acc5-4564-8087-4359506948b9",
   "metadata": {
    "jp-MarkdownHeadingCollapsed": true
   },
   "source": [
    "# ◇ 다층 신경망 클래스"
   ]
  },
  {
   "cell_type": "code",
   "execution_count": 216,
   "id": "efbc06eb-3fe1-40fb-9bde-7398eda3a619",
   "metadata": {},
   "outputs": [],
   "source": [
    "class TwoLayerNet:\n",
    "\n",
    "    def __init__(self, input_size, hidden_size, output_size, weight_init_std = 0.01):\n",
    "        # 가중치 초기화\n",
    "        self.maxIndex = len(hidden_size)\n",
    "        print(\"\\n\\n신경망 학습 시작 - 신경망: %d층\"%(self.maxIndex+1))\n",
    "        \n",
    "        self.params = {}        \n",
    "        self.params['W1'] = He_init(input_size, hidden_size[0])\n",
    "        self.params['b1'] = np.zeros(hidden_size[0])\n",
    "\n",
    "        #print(self.params['W1'].shape)\n",
    "\n",
    "        for i in range(1, self.maxIndex):\n",
    "            self.params['W' + str(i+1)] = He_init(hidden_size[i-1], hidden_size[i]) \n",
    "            self.params['b' + str(i+1)] = np.zeros(hidden_size[i])\n",
    "            #print(self.params['W'  + str(i+1)].shape)\n",
    "\n",
    "        self.params['W' + str(self.maxIndex)] = He_init(hidden_size[self.maxIndex - 1], output_size) \n",
    "        self.params['b' + str(self.maxIndex)] = np.zeros(output_size)\n",
    "        #print(self.params['W' + str(self.maxIndex)].shape)\n",
    "\n",
    "        # 계층 생성\n",
    "        self.layers = OrderedDict()\n",
    "        \n",
    "        for i in range(1, self.maxIndex):\n",
    "            self.layers['Affine' + str(i)] = Affine(self.params['W' + str(i)], self.params['b' + str(i)])\n",
    "            self.layers['BatchNormalization' + str(i)] = BatchNormalization()\n",
    "            self.layers['Relu' + str(i)] = Relu()\n",
    "    \n",
    "        self.layers['Affine' + str(self.maxIndex)] = Affine(self.params['W' + str(self.maxIndex)], self.params['b' + str(self.maxIndex)])\n",
    "\n",
    "        self.lastLayer = SoftmaxWithLoss()\n",
    "        \n",
    "    def predict(self, x, train_flg=True):\n",
    "        for layer in self.layers.values():\n",
    "            x = layer.forward(x, train_flg)\n",
    "        return x\n",
    "        \n",
    "    def loss(self, x, t):\n",
    "        y = self.predict(x)\n",
    "        return self.lastLayer.forward(y, t)\n",
    "    \n",
    "    def accuracy(self, x, t):\n",
    "        y = self.predict(x, False)\n",
    "        y = np.argmax(y, axis=1)\n",
    "        if t.ndim != 1 : t = np.argmax(t, axis=1)\n",
    "        accuracy = np.sum(y == t) / float(x.shape[0])\n",
    "        return accuracy\n",
    "        \n",
    "    # x : 입력 데이터, t : 정답 레이블\n",
    "    def numerical_gradient(self, x, t):\n",
    "        loss_W = lambda W: self.loss(x, t)\n",
    "        \n",
    "        grads = {}\n",
    "\n",
    "        for i in range(1, self.maxIndex+1):\n",
    "            grads['W' + str(i)] = numerical_gradient(loss_W, self.params['W' + str(i)])\n",
    "            grads['b' + str(i)] = numerical_gradient(loss_W, self.params['b' + str(i)])\n",
    "\n",
    "        return grads\n",
    "        \n",
    "    def gradient(self, x, t):\n",
    "        # forward\n",
    "        self.loss(x, t)\n",
    "\n",
    "        # 역전파\n",
    "        dout = 1\n",
    "        dout = self.lastLayer.backward(dout)\n",
    "\n",
    "        # 계층 레이어의 값을 리스트로 변환하여 가져옴 -> 해당 리스트를 거꾸로 정렬 -> 순서대로 계층의 역전파를 실행\n",
    "        layers = list(self.layers.values())\n",
    "        layers.reverse()\n",
    "        for layer in layers:\n",
    "            dout = layer.backward(dout)\n",
    "\n",
    "        # 기울기\n",
    "        grads = {}\n",
    "        for i in range(1, self.maxIndex+1):\n",
    "            grads['W' + str(i)], grads['b' + str(i)] = self.layers['Affine' + str(i)].dW, self.layers['Affine' + str(i)].db\n",
    "        \n",
    "        return grads\n"
   ]
  },
  {
   "cell_type": "markdown",
   "id": "fe045263-ea41-4b2d-9b4e-e6355b8731bf",
   "metadata": {},
   "source": [
    "# ◇ MNIST 불러오기"
   ]
  },
  {
   "cell_type": "code",
   "execution_count": 217,
   "id": "bac8b5d5-172c-4d85-b11a-47e141c19710",
   "metadata": {},
   "outputs": [],
   "source": [
    "(x_train, t_train), (x_test, t_test) = load_mnist(normalize=True, one_hot_label=True)"
   ]
  },
  {
   "cell_type": "markdown",
   "id": "c2faaf13-6d43-40cc-aad4-118070e02d56",
   "metadata": {},
   "source": [
    "----\n",
    "# 과제) 신경망 학습 코드 작성 시 발생한 문제와 해결 내용\n",
    "<br/>\n",
    "\n",
    "### 1) 기존 가중치 업데이트 방식 가중치 - (학습률*기울기) / 해당 방법으로 업데이트 시 학습이 잘 안됨\n",
    "#### &emsp;&emsp;&emsp;--> 해결방법 : SGD, 모멘텀, AdaGrad를 사용해서 적절한 기울기 업데이트 방법을 사용하니 학습이 잘되는 것을 확인\n",
    "<br/>\n",
    "\n",
    "### 2) 2층 신경망에서는 학습에 문제가 없었으나 4층으로 늘릴 시 학습이 안되는 문제가 발생\n",
    "#### &emsp;&emsp;&emsp;--> 해결방법 : 초기화 방법을 변경 / ReLu함수의 가중치 초기화를  He초기화(He_init 함수)로 하니 정상적으로 학습이 가능함\n",
    "#### &emsp;&emsp;&emsp;&emsp;&emsp; 이후 층을 늘려도 학습이 되는 것을 확인\n",
    "<br/>\n",
    "\n",
    "### 3) 초기값, 모멘텀, SGD 등을 통해 어느정도 학습은 가능하나 일정 수준 이상으로 학습이 되지 않음\n",
    "#### &emsp;&emsp;&emsp;--> 해결방법 : 교제에 나온 배치치 정규화를 시도\n",
    "<br/>"
   ]
  },
  {
   "cell_type": "markdown",
   "id": "b34859dd-c506-48e6-aea8-c0e96a414333",
   "metadata": {},
   "source": [
    "\n",
    "# ◇ 학습 알고리즘 \n",
    "<br />\n",
    "\n",
    "## 계산 과정\n",
    "1. TwoLayerNet클래스로 가중치 초기화 밑 신경망 구조를 설정 (hidden_size을 리스트로 보내어 좀 더 간단하게 층과 노드를 설정)\n",
    "2. 횟수는 1만번 진행하며, 하이퍼피라미터를 수정\n",
    "3. 배치 사이즈만큼 학습, 시험 데이터를 TwoLayerNet.gradient 으로 보내어 기울기를 구한다\n",
    "- - 1. loss함수에서 predict함수를 호출하여 순전파를 진행한다 (OrderedDict으로 순서가 있는 딕셔너리를 통해 입력층부터 계산)\n",
    "    2. predict함수는 출력층 전까지 값을 리턴한 후 loss함수에서 SoftmaxWithLoss클래스에 소프트맥스값, 교차 엔트로피 오차(손실)값을 설정한다.\n",
    "    3. 2번에서 설정한 SoftmaxWithLoss클래스를 역전파를 하고, OrderedDict를 리스트로 변환하여 거꾸로 정렬, 순서대로 Affine, ReLu클래스의 역전파를 실행\n",
    "    4. 역전파를 통해 각 Affine클래스에 저장된 dw, db값을 grads에 저장한 후 리턴\n",
    "4. 구한 기울기를 SGD, Momentum, AdaGrad 중 1개를 이용하여 기존 기울기에 업데이트를 진행\n",
    "\n",
    "## 하이퍼피라미터\n",
    "- #### iters_num : 반복 횟수 = **10,000 고정**\n",
    "- #### batch_size : 배치 사이즈 = **100~n?**\n",
    "- #### hidden_size : 은닉층 노드 수 = **5 ~ 15**\n",
    "- #### learning_rate : 학습률 = **0.001 ~ 0.019**"
   ]
  },
  {
   "cell_type": "code",
   "execution_count": 231,
   "id": "a4eb85f2-7534-48d2-a079-75bf36710c6d",
   "metadata": {},
   "outputs": [
    {
     "name": "stdout",
     "output_type": "stream",
     "text": [
      "\n",
      "\n",
      "신경망 학습 시작 - 신경망: 6층\n",
      " 1 번째 학습(에폭) --> train_acc : 6.88%, test_acc : 6.83%\n",
      " 2 번째 학습(에폭) --> train_acc : 82.59%, test_acc : 82.69%\n",
      " 3 번째 학습(에폭) --> train_acc : 90.62%, test_acc : 90.41%\n",
      " 4 번째 학습(에폭) --> train_acc : 92.36%, test_acc : 92.26%\n",
      " 5 번째 학습(에폭) --> train_acc : 93.39%, test_acc : 93.09%\n",
      " 6 번째 학습(에폭) --> train_acc : 93.88%, test_acc : 93.32%\n",
      " 7 번째 학습(에폭) --> train_acc : 94.32%, test_acc : 93.62%\n",
      " 8 번째 학습(에폭) --> train_acc : 94.64%, test_acc : 93.76%\n",
      " 9 번째 학습(에폭) --> train_acc : 94.98%, test_acc : 94.06%\n",
      "10 번째 학습(에폭) --> train_acc : 95.08%, test_acc : 94.07%\n",
      "11 번째 학습(에폭) --> train_acc : 95.30%, test_acc : 94.32%\n",
      "12 번째 학습(에폭) --> train_acc : 95.55%, test_acc : 94.45%\n",
      "13 번째 학습(에폭) --> train_acc : 95.69%, test_acc : 94.57%\n",
      "14 번째 학습(에폭) --> train_acc : 95.84%, test_acc : 94.61%\n",
      "15 번째 학습(에폭) --> train_acc : 96.00%, test_acc : 94.79%\n",
      "16 번째 학습(에폭) --> train_acc : 96.09%, test_acc : 94.67%\n",
      "17 번째 학습(에폭) --> train_acc : 96.18%, test_acc : 94.89%\n",
      "18 번째 학습(에폭) --> train_acc : 96.28%, test_acc : 94.90%\n",
      "19 번째 학습(에폭) --> train_acc : 96.36%, test_acc : 95.17%\n",
      "20 번째 학습(에폭) --> train_acc : 96.43%, test_acc : 95.10%\n",
      "21 번째 학습(에폭) --> train_acc : 96.53%, test_acc : 95.03%\n",
      "22 번째 학습(에폭) --> train_acc : 96.64%, test_acc : 95.22%\n",
      "23 번째 학습(에폭) --> train_acc : 96.71%, test_acc : 94.98%\n",
      "24 번째 학습(에폭) --> train_acc : 96.63%, test_acc : 95.12%\n",
      "25 번째 학습(에폭) --> train_acc : 96.76%, test_acc : 95.41%\n",
      "26 번째 학습(에폭) --> train_acc : 96.81%, test_acc : 95.14%\n",
      "27 번째 학습(에폭) --> train_acc : 96.84%, test_acc : 95.34%\n",
      "28 번째 학습(에폭) --> train_acc : 96.97%, test_acc : 95.23%\n",
      "29 번째 학습(에폭) --> train_acc : 96.99%, test_acc : 95.53%\n",
      "30 번째 학습(에폭) --> train_acc : 96.91%, test_acc : 95.35%\n",
      "31 번째 학습(에폭) --> train_acc : 97.04%, test_acc : 95.44%\n",
      "32 번째 학습(에폭) --> train_acc : 97.07%, test_acc : 95.53%\n",
      "33 번째 학습(에폭) --> train_acc : 97.11%, test_acc : 95.34%\n",
      "34 번째 학습(에폭) --> train_acc : 97.15%, test_acc : 95.48%\n",
      "35 번째 학습(에폭) --> train_acc : 97.10%, test_acc : 95.50%\n",
      "36 번째 학습(에폭) --> train_acc : 97.22%, test_acc : 95.49%\n",
      "37 번째 학습(에폭) --> train_acc : 97.31%, test_acc : 95.49%\n",
      "38 번째 학습(에폭) --> train_acc : 97.38%, test_acc : 95.50%\n",
      "39 번째 학습(에폭) --> train_acc : 97.43%, test_acc : 95.65%\n",
      "40 번째 학습(에폭) --> train_acc : 97.25%, test_acc : 95.42%\n",
      "41 번째 학습(에폭) --> train_acc : 97.35%, test_acc : 95.48%\n",
      "42 번째 학습(에폭) --> train_acc : 97.41%, test_acc : 95.57%\n",
      "43 번째 학습(에폭) --> train_acc : 97.47%, test_acc : 95.26%\n",
      "44 번째 학습(에폭) --> train_acc : 97.59%, test_acc : 95.60%\n",
      "45 번째 학습(에폭) --> train_acc : 97.53%, test_acc : 95.48%\n",
      "46 번째 학습(에폭) --> train_acc : 97.60%, test_acc : 95.62%\n",
      "47 번째 학습(에폭) --> train_acc : 97.50%, test_acc : 95.39%\n",
      "48 번째 학습(에폭) --> train_acc : 97.56%, test_acc : 95.50%\n",
      "49 번째 학습(에폭) --> train_acc : 97.64%, test_acc : 95.53%\n",
      "50 번째 학습(에폭) --> train_acc : 97.60%, test_acc : 95.38%\n",
      "51 번째 학습(에폭) --> train_acc : 97.68%, test_acc : 95.52%\n",
      "52 번째 학습(에폭) --> train_acc : 97.72%, test_acc : 95.55%\n",
      "53 번째 학습(에폭) --> train_acc : 97.64%, test_acc : 95.40%\n",
      "54 번째 학습(에폭) --> train_acc : 97.76%, test_acc : 95.56%\n",
      "55 번째 학습(에폭) --> train_acc : 97.55%, test_acc : 95.37%\n",
      "56 번째 학습(에폭) --> train_acc : 97.82%, test_acc : 95.52%\n",
      "57 번째 학습(에폭) --> train_acc : 97.71%, test_acc : 95.58%\n",
      "58 번째 학습(에폭) --> train_acc : 97.77%, test_acc : 95.57%\n",
      "59 번째 학습(에폭) --> train_acc : 97.85%, test_acc : 95.57%\n",
      "60 번째 학습(에폭) --> train_acc : 97.76%, test_acc : 95.37%\n",
      "61 번째 학습(에폭) --> train_acc : 97.85%, test_acc : 95.60%\n",
      "62 번째 학습(에폭) --> train_acc : 97.91%, test_acc : 95.48%\n",
      "63 번째 학습(에폭) --> train_acc : 97.85%, test_acc : 95.50%\n",
      "64 번째 학습(에폭) --> train_acc : 97.68%, test_acc : 95.41%\n",
      "65 번째 학습(에폭) --> train_acc : 97.84%, test_acc : 95.44%\n",
      "66 번째 학습(에폭) --> train_acc : 97.98%, test_acc : 95.61%\n",
      "67 번째 학습(에폭) --> train_acc : 98.00%, test_acc : 95.56%\n",
      "68 번째 학습(에폭) --> train_acc : 97.95%, test_acc : 95.51%\n",
      "69 번째 학습(에폭) --> train_acc : 98.07%, test_acc : 95.44%\n",
      "70 번째 학습(에폭) --> train_acc : 97.99%, test_acc : 95.43%\n",
      "71 번째 학습(에폭) --> train_acc : 97.84%, test_acc : 95.56%\n",
      "72 번째 학습(에폭) --> train_acc : 98.06%, test_acc : 95.51%\n",
      "73 번째 학습(에폭) --> train_acc : 98.16%, test_acc : 95.61%\n",
      "74 번째 학습(에폭) --> train_acc : 98.09%, test_acc : 95.62%\n",
      "75 번째 학습(에폭) --> train_acc : 98.07%, test_acc : 95.74%\n",
      "76 번째 학습(에폭) --> train_acc : 98.04%, test_acc : 95.44%\n",
      "77 번째 학습(에폭) --> train_acc : 98.07%, test_acc : 95.36%\n",
      "78 번째 학습(에폭) --> train_acc : 98.08%, test_acc : 95.60%\n",
      "79 번째 학습(에폭) --> train_acc : 98.03%, test_acc : 95.58%\n",
      "80 번째 학습(에폭) --> train_acc : 98.13%, test_acc : 95.50%\n",
      "81 번째 학습(에폭) --> train_acc : 98.11%, test_acc : 95.40%\n",
      "82 번째 학습(에폭) --> train_acc : 98.19%, test_acc : 95.43%\n",
      "83 번째 학습(에폭) --> train_acc : 98.21%, test_acc : 95.49%\n",
      "84 번째 학습(에폭) --> train_acc : 98.18%, test_acc : 95.47%\n",
      "최종 학습률 --> train_acc : 98.18%, test_acc : 95.47%\n"
     ]
    }
   ],
   "source": [
    "# 100, [15, 15, 15], 0.011\n",
    "\n",
    "# 287, [15, 15, 15, 15, 15], 0.015\n",
    "\n",
    "\n",
    "iters_num = 10000\n",
    "batch_size = 500\n",
    "#hidden_size = 15 \n",
    "hidden_size = [15, 15, 15, 15, 15]\n",
    "learning_rate = 0.015\n",
    "\n",
    "# 기울기 최적화 함수들\n",
    "sgd = SGD()\n",
    "momentum = Momentum()\n",
    "adaGrad = AdaGrad()\n",
    "\n",
    "train_loss_list = []\n",
    "train_acc_list = []\n",
    "test_acc_list = []\n",
    "\n",
    "train_size = x_train.shape[0]\n",
    "iter_per_epoch = max(train_size / batch_size, 1)\n",
    "\n",
    "network = TwoLayerNet(input_size=784, hidden_size=hidden_size, output_size=10)\n",
    "\n",
    "for i in range(iters_num):\n",
    "    batch_mask = np.random.choice(train_size, batch_size)\n",
    "    x_batch = x_train[batch_mask]\n",
    "    t_batch = t_train[batch_mask]\n",
    "\n",
    "    grad = network.gradient(x_batch, t_batch) # 오차역전파법 방식\n",
    "    \n",
    "    # 일반 갱신\n",
    "    #for key in ('W1', 'b1', 'W2', 'b2'): network.params[key] -= learning_rate * grad[key]\n",
    "        \n",
    "    # SGD 학습, 모멘텀 학습, AdaGrad 학습\n",
    "    #sgd.update(network.params, grad)\n",
    "    momentum.update(network.params, grad)\n",
    "    #adaGrad.update(network.params, grad)\n",
    "    \n",
    "    \n",
    "    loss = network.loss(x_batch, t_batch)\n",
    "    train_loss_list.append(loss)\n",
    "    \n",
    "    if i % iter_per_epoch == 0:\n",
    "        train_acc = network.accuracy(x_train, t_train)\n",
    "        test_acc = network.accuracy(x_test, t_test)\n",
    "        train_acc_list.append(train_acc)\n",
    "        test_acc_list.append(test_acc)\n",
    "        print(\"%2d 번째 학습(에폭) --> train_acc : %.2f%%, test_acc : %.2f%%\" % (len(train_acc_list), train_acc*100, test_acc*100))\n",
    "        \n",
    "print(\"최종 학습률 --> train_acc : %.2f%%, test_acc : %.2f%%\" % (train_acc_list[-1]*100, test_acc_list[-1]*100))"
   ]
  },
  {
   "cell_type": "markdown",
   "id": "0f70fef2-d5d5-4457-93bc-9025cb52b372",
   "metadata": {},
   "source": [
    "----"
   ]
  },
  {
   "cell_type": "markdown",
   "id": "4d75a816-4e04-47c4-ab0a-f4d505b7ab56",
   "metadata": {},
   "source": [
    "# 학습 그래프"
   ]
  },
  {
   "cell_type": "code",
   "execution_count": 249,
   "id": "addc8134-41c7-41dc-b827-1d09d6e5d308",
   "metadata": {},
   "outputs": [],
   "source": [
    "import matplotlib.pyplot as plt\n",
    "def smooth_curve(x):\n",
    "    \"\"\"손실 함수의 그래프를 매끄럽게 하기 위해 사용\n",
    "    \n",
    "    참고：http://glowingpython.blogspot.jp/2012/02/convolution-with-numpy.html\n",
    "    \"\"\"\n",
    "    window_len = 11\n",
    "    s = np.r_[x[window_len-1:0:-1], x, x[-1:-window_len:-1]]\n",
    "    w = np.kaiser(window_len, 2)\n",
    "    y = np.convolve(w/w.sum(), s, mode='valid')\n",
    "    return y[5:len(y)-5]"
   ]
  },
  {
   "cell_type": "markdown",
   "id": "8938cb01-58f0-41f5-b482-26cbc686faf6",
   "metadata": {},
   "source": [
    "### 반복횟수와 손실함수값 추이 (Momentum) ▽"
   ]
  },
  {
   "cell_type": "code",
   "execution_count": 250,
   "id": "7d45435b-1346-4d4d-9209-333d7388fa62",
   "metadata": {},
   "outputs": [
    {
     "data": {
      "image/png": "[encoded data removed]",
      "text/plain": [
       "<Figure size 640x480 with 1 Axes>"
      ]
     },
     "metadata": {},
     "output_type": "display_data"
    }
   ],
   "source": [
    "# 손실 함수 값\n",
    "x = np.arange(len(train_loss_list))\n",
    "plt.plot(x, smooth_curve(train_loss_list), label='Momentum')\n",
    "plt.xlabel(\"iterations\")\n",
    "plt.ylabel(\"loss\")\n",
    "plt.ylim(0, 1)\n",
    "plt.legend()\n",
    "plt.show()"
   ]
  },
  {
   "cell_type": "markdown",
   "id": "bf749abe-ce9b-4cb1-995b-d3c60a0668d5",
   "metadata": {},
   "source": [
    "### 에폭 당 정확도 변화 ▽"
   ]
  },
  {
   "cell_type": "code",
   "execution_count": 251,
   "id": "63b98c3d-ff45-44f4-ae16-66d859c1ae85",
   "metadata": {},
   "outputs": [
    {
     "data": {
      "image/png": "[encoded data removed]",
      "text/plain": [
       "<Figure size 640x480 with 1 Axes>"
      ]
     },
     "metadata": {},
     "output_type": "display_data"
    }
   ],
   "source": [
    "# 에폭 당 정확도\n",
    "markers = {'train': 'o', 'test': 's'}\n",
    "x = np.arange(len(train_acc_list))\n",
    "plt.plot(x, train_acc_list, label='train acc')\n",
    "plt.plot(x, test_acc_list, label='test acc', linestyle='--')\n",
    "plt.xlabel(\"epochs\")\n",
    "plt.ylabel(\"accuracy\")\n",
    "plt.ylim(0, 1.0)\n",
    "plt.legend(loc='lower right')\n",
    "plt.show()"
   ]
  },
  {
   "cell_type": "code",
   "execution_count": null,
   "id": "bff75f82-f5d8-4a70-81d5-e2ec14c98898",
   "metadata": {},
   "outputs": [],
   "source": []
  }
 ],
 "metadata": {
  "kernelspec": {
   "display_name": "Python 3 (ipykernel)",
   "language": "python",
   "name": "python3"
  },
  "language_info": {
   "codemirror_mode": {
    "name": "ipython",
    "version": 3
   },
   "file_extension": ".py",
   "mimetype": "text/x-python",
   "name": "python",
   "nbconvert_exporter": "python",
   "pygments_lexer": "ipython3",
   "version": "3.11.7"
  }
 },
 "nbformat": 4,
 "nbformat_minor": 5
}
