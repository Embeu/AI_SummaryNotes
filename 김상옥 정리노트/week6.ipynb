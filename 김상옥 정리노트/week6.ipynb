{
 "cells": [
  {
   "cell_type": "markdown",
   "id": "278ea9d4-70b4-4d94-8b59-602e1ab65ec0",
   "metadata": {},
   "source": [
    "# 학습 알고리즘 구현\n",
    "- 미니배치\n",
    "- 신경망 학습\n",
    "- 학습 데이터 평가\n",
    "----"
   ]
  },
  {
   "cell_type": "markdown",
   "id": "d7fcd4cc",
   "metadata": {},
   "source": [
    "## **전체적인 학습 과정**\n",
    "1. 학습에 맞게 신경망을 구성하며, 가중치는 랜덤으로, 편향은 0으로 설정한다.\n",
    "2. 학습 데이터를 랜덤하게 선별하여 미니배치를 준비한다 -> **미니배치**\n",
    "3. 미니배치 데이터를 신경망에 넣어 계산한다. -> **sigmoid, softmax**\n",
    "4. 출력값의 손실 함수를 구한다 -> **평균 제곱 오차, 교차 엔트로피 오차**\n",
    "5. 손실 함수를 바탕으로 수치 미분 or 오차역전파를 수행한다 -> **중앙 차분, 편미분**\n",
    "6. 기울기를 구하고 가중치를 설정한다 -> **경사하강법, 학습률, 기울기**\n",
    "7. 2번~6번의 결과를 반복이 끝날 때 까지 수행한다.\n",
    "\n",
    "\n"
   ]
  },
  {
   "cell_type": "markdown",
   "id": "84110f89-7eba-4be5-a231-2ccb6fa94058",
   "metadata": {},
   "source": [
    "#### 필요 라이브러리, 데이터셋 import"
   ]
  },
  {
   "cell_type": "code",
   "execution_count": 64,
   "id": "56c0a67a-694b-4e9d-aece-598d66bbd807",
   "metadata": {},
   "outputs": [],
   "source": [
    "import numpy as np\n",
    "import matplotlib.pylab as plt\n",
    "import sys, os\n",
    "sys.path.append(os.pardir)\n",
    "\n",
    "from dataset.mnist import load_mnist"
   ]
  },
  {
   "cell_type": "markdown",
   "id": "d899b361-d444-4367-b578-c42f75c4f4c8",
   "metadata": {},
   "source": [
    "## --사용 함수--\n",
    "----\n",
    "\n",
    "### 활성화 함수\n",
    "- 시그모이드\n",
    "- 소프트맥스 (크기에 맞게 변경)\n",
    "\n",
    "### 손실 함수\n",
    "- 교차 엔트로피 오차\n",
    "\n",
    "### 기울기\n",
    "- 편미분, 수치 미분 --> 기울기"
   ]
  },
  {
   "cell_type": "code",
   "execution_count": 65,
   "id": "c365b5ad-4ef6-46ec-aba7-8c5d07fbae7d",
   "metadata": {},
   "outputs": [],
   "source": [
    "def sigmoid(x):\n",
    "    y = 1 / (1 + np.exp(-x))\n",
    "    return y"
   ]
  },
  {
   "cell_type": "code",
   "execution_count": 66,
   "id": "56751348-de2e-4978-85d7-fbf4070a5029",
   "metadata": {},
   "outputs": [],
   "source": [
    "def softmax(x):\n",
    "    if x.ndim == 2:\n",
    "        x = x.T\n",
    "        x = x - np.max(x, axis=0)\n",
    "        y = np.exp(x) / np.sum(np.exp(x), axis=0)\n",
    "        return y.T \n",
    "\n",
    "    x = x - np.max(x)\n",
    "    return np.exp(x) / np.sum(np.exp(x))"
   ]
  },
  {
   "cell_type": "code",
   "execution_count": 67,
   "id": "fb8bfb19-0a49-45ac-a998-91fd94e57b1c",
   "metadata": {},
   "outputs": [],
   "source": [
    "def numerical_gradient(f, x):\n",
    "    h = 1e-4\n",
    "    grad = np.zeros_like(x)\n",
    "\n",
    "    for idx in range(x.size):\n",
    "        tmp_val = x[idx]\n",
    "        x[idx] = tmp_val + h\n",
    "        fxh1 = f(x)\n",
    "        \n",
    "        x[idx] = tmp_val - h\n",
    "        fxh2 = f(x)\n",
    "    \n",
    "        grad[idx] = (fxh1 - fxh2) / (2*h)\n",
    "        x[idx] = tmp_val\n",
    "    \n",
    "    return grad"
   ]
  },
  {
   "cell_type": "code",
   "execution_count": 68,
   "id": "82f783e8-112a-4634-a622-d2665d1fa9a6",
   "metadata": {},
   "outputs": [],
   "source": [
    "def cross_entropy_error(y, t):\n",
    "    if y.ndim == 1:\n",
    "        t = t.reshape(1, t.size)\n",
    "        y = y.reshape(1, y.size)\n",
    "        \n",
    "    if t.size == y.size:\n",
    "        t = t.argmax(axis=1)\n",
    "             \n",
    "    batch_size = y.shape[0]\n",
    "    return -np.sum(np.log(y[np.arange(batch_size), t] + 1e-7)) / batch_size"
   ]
  },
  {
   "cell_type": "markdown",
   "id": "1d4ff26c-4310-44bf-94a6-ddd12a40a2a4",
   "metadata": {},
   "source": [
    "## 학습에 사용될 클래스"
   ]
  },
  {
   "cell_type": "code",
   "execution_count": 69,
   "id": "8c4a932b-99f6-46c9-93b5-26622b478882",
   "metadata": {},
   "outputs": [],
   "source": [
    "class TwoLayerNet:\n",
    "\n",
    "    # 가중치 초기화\n",
    "    def __init__(self, input_size, hidden_size, output_size, weight_init_std=0.01):\n",
    "        self.params = {}\n",
    "        self.params['W1'] = weight_init_std * np.random.randn(input_size, hidden_size)\n",
    "        self.params['b1'] = np.zeros(hidden_size)\n",
    "        self.params['W2'] = weight_init_std * np.random.randn(hidden_size, output_size)\n",
    "        self.params['b2'] = np.zeros(output_size)\n",
    "\n",
    "        \n",
    "    # 가중치와 편향으로 계산 신경망 계산\n",
    "    def predict(self, x):\n",
    "        W1, W2 = self.params['W1'], self.params['W2']\n",
    "        b1, b2 = self.params['b1'], self.params['b2']\n",
    "    \n",
    "        a1 = np.dot(x, W1) + b1\n",
    "        z1 = sigmoid(a1)\n",
    "        a2 = np.dot(z1, W2) + b2\n",
    "        y = softmax(a2)\n",
    "        \n",
    "        return y\n",
    "        \n",
    "        \n",
    "    # 교차 엔트로피 오차 손실 함수를 구한다\n",
    "    def loss(self, x, t):\n",
    "        # x : 입력 데이터, t : 정답 레이블\n",
    "        y = self.predict(x)\n",
    "        return cross_entropy_error(y, t)\n",
    "\n",
    "    \n",
    "    # 정확도 구하기\n",
    "    def accuracy(self, x, t):\n",
    "        y = self.predict(x)\n",
    "        y = np.argmax(y, axis=1)\n",
    "        t = np.argmax(t, axis=1)\n",
    "        \n",
    "        accuracy = np.sum(y == t) / float(x.shape[0])\n",
    "        return accuracy\n",
    "        \n",
    "        \n",
    "    # 수치 미분으로 기울기 구하기\n",
    "    def numerical_gradient(self, x, t):\n",
    "        # x : 입력 데이터, t : 정답 레이블\n",
    "        loss_W = lambda W: self.loss(x, t)\n",
    "        \n",
    "        grads = {}\n",
    "        grads['W1'] = numerical_gradient(loss_W, self.params['W1'])\n",
    "        grads['b1'] = numerical_gradient(loss_W, self.params['b1'])\n",
    "        grads['W2'] = numerical_gradient(loss_W, self.params['W2'])\n",
    "        grads['b2'] = numerical_gradient(loss_W, self.params['b2'])\n",
    "        \n",
    "        return grads\n",
    "\n",
    "    \n",
    "    # 오차역전파법으로 기울기 구하기 -> 5장 학습 후 다시 보기\n",
    "    def gradient(self, x, t):\n",
    "        W1, W2 = self.params['W1'], self.params['W2']\n",
    "        b1, b2 = self.params['b1'], self.params['b2']\n",
    "        grads = {}\n",
    "        \n",
    "        batch_num = x.shape[0]\n",
    "        \n",
    "        # forward\n",
    "        a1 = np.dot(x, W1) + b1\n",
    "        z1 = sigmoid(a1)\n",
    "        a2 = np.dot(z1, W2) + b2\n",
    "        y = softmax(a2)\n",
    "        \n",
    "        # backward\n",
    "        dy = (y - t) / batch_num\n",
    "        grads['W2'] = np.dot(z1.T, dy)\n",
    "        grads['b2'] = np.sum(dy, axis=0)\n",
    "        \n",
    "        da1 = np.dot(dy, W2.T)\n",
    "        dz1 = sigmoid_grad(a1) * da1\n",
    "        grads['W1'] = np.dot(x.T, dz1)\n",
    "        grads['b1'] = np.sum(dz1, axis=0)\n",
    "\n",
    "        return grads"
   ]
  },
  {
   "cell_type": "markdown",
   "id": "fa636506-3780-4e47-a8ca-d19ae0f6a862",
   "metadata": {},
   "source": [
    "## 미니배치 학습"
   ]
  },
  {
   "cell_type": "code",
   "execution_count": 70,
   "id": "17ef2723-4b8a-49ad-bbe5-403f5dc18467",
   "metadata": {},
   "outputs": [],
   "source": [
    "(x_train, t_train), (x_test, t_test) = load_mnist(normalize=True, one_hot_label=True)"
   ]
  },
  {
   "cell_type": "code",
   "execution_count": 71,
   "id": "ce1b40a8-91aa-4997-8804-31d714c2b012",
   "metadata": {},
   "outputs": [],
   "source": [
    "network = TwoLayerNet(input_size=784, hidden_size=50, output_size=10)"
   ]
  },
  {
   "cell_type": "code",
   "execution_count": 72,
   "id": "445a31d7-5426-4356-b7d5-fd1dbb1dfdae",
   "metadata": {},
   "outputs": [
    {
     "name": "stdout",
     "output_type": "stream",
     "text": [
      "60000\n"
     ]
    }
   ],
   "source": [
    "iters_num = 10000  \n",
    "train_size = x_train.shape[0]\n",
    "print(train_size)\n",
    "batch_size = 100\n",
    "learning_rate = 0.1\n",
    "\n",
    "train_loss_list = []\n",
    "train_acc_list = []\n",
    "test_acc_list = []"
   ]
  },
  {
   "cell_type": "code",
   "execution_count": 73,
   "id": "5f4b88c8-ba9e-423e-801b-a3b49e79198e",
   "metadata": {},
   "outputs": [
    {
     "name": "stdout",
     "output_type": "stream",
     "text": [
      "600\n"
     ]
    }
   ],
   "source": [
    "iter_per_epoch = max(train_size // batch_size, 1)\n",
    "print(iter_per_epoch)"
   ]
  },
  {
   "cell_type": "code",
   "execution_count": 74,
   "id": "a69210e8-d5e1-46c6-b74b-76d5c3adc19b",
   "metadata": {
    "scrolled": true
   },
   "outputs": [
    {
     "name": "stdout",
     "output_type": "stream",
     "text": [
      "train acc, test acc | 0.09863333333333334, 0.0958\n",
      "train acc, test acc | 0.7907166666666666, 0.7958\n",
      "train acc, test acc | 0.8755666666666667, 0.8801\n",
      "train acc, test acc | 0.8982833333333333, 0.8998\n",
      "train acc, test acc | 0.9070666666666667, 0.9099\n",
      "train acc, test acc | 0.9141666666666667, 0.9153\n",
      "train acc, test acc | 0.9194166666666667, 0.9199\n",
      "train acc, test acc | 0.9236333333333333, 0.923\n",
      "train acc, test acc | 0.9268333333333333, 0.9273\n",
      "train acc, test acc | 0.9303166666666667, 0.93\n",
      "train acc, test acc | 0.9322333333333334, 0.9324\n",
      "train acc, test acc | 0.93715, 0.9352\n",
      "train acc, test acc | 0.9395333333333333, 0.9367\n",
      "train acc, test acc | 0.94095, 0.9381\n",
      "train acc, test acc | 0.94315, 0.9412\n",
      "train acc, test acc | 0.94425, 0.943\n",
      "train acc, test acc | 0.9466166666666667, 0.9432\n"
     ]
    }
   ],
   "source": [
    "for i in range(iters_num):\n",
    "    # 미니배치 획득\n",
    "    batch_mask = np.random.choice(train_size, batch_size)\n",
    "    x_batch = x_train[batch_mask]\n",
    "    t_batch = t_train[batch_mask]\n",
    "\n",
    "    # 기울기 계산 -> \n",
    "    #grad = network.numerical_gradient(x_batch, t_batch)\n",
    "    grad = network.gradient(x_batch, t_batch)\n",
    "    \n",
    "    # 매개변수 갱신\n",
    "    for key in ('W1', 'b1', 'W2', 'b2'):\n",
    "        network.params[key] -= learning_rate * grad[key] \n",
    "    \n",
    "    # 학습 경과 기록\n",
    "    loss = network.loss(x_batch, t_batch)\n",
    "    train_loss_list.append(loss)\n",
    "    \n",
    "    # 1에폭당 정확도 계산\n",
    "    if i % iter_per_epoch == 0:\n",
    "        train_acc = network.accuracy(x_train, t_train)\n",
    "        test_acc = network.accuracy(x_test, t_test)\n",
    "        train_acc_list.append(train_acc)\n",
    "        test_acc_list.append(test_acc)\n",
    "        print(\"train acc, test acc | \" + str(train_acc) + \", \" + str(test_acc))"
   ]
  },
  {
   "cell_type": "code",
   "execution_count": 75,
   "id": "e5414f73-02d7-4035-905b-0bcac8d176af",
   "metadata": {},
   "outputs": [
    {
     "data": {
      "image/png": "[encoded data removed]",
      "text/plain": [
       "<Figure size 640x480 with 1 Axes>"
      ]
     },
     "metadata": {},
     "output_type": "display_data"
    }
   ],
   "source": [
    "markers = {'train': 'o', 'test': 's'}\n",
    "x = np.arange(len(train_acc_list))\n",
    "plt.plot(x, train_acc_list, label='train acc')\n",
    "plt.plot(x, test_acc_list, label='test acc', linestyle='--')\n",
    "plt.xlabel(\"epochs\")\n",
    "plt.ylabel(\"accuracy\")\n",
    "plt.ylim(0, 1.0)\n",
    "plt.legend(loc='lower right')\n",
    "plt.show()\n"
   ]
  },
  {
   "cell_type": "code",
   "execution_count": null,
   "id": "d34b5f68-fded-4e55-a8c4-e77b20a93d84",
   "metadata": {},
   "outputs": [],
   "source": []
  },
  {
   "cell_type": "code",
   "execution_count": null,
   "id": "a5d116b6",
   "metadata": {},
   "outputs": [],
   "source": []
  },
  {
   "cell_type": "code",
   "execution_count": null,
   "id": "65a54021",
   "metadata": {},
   "outputs": [],
   "source": []
  },
  {
   "cell_type": "code",
   "execution_count": null,
   "id": "2e474536",
   "metadata": {},
   "outputs": [],
   "source": []
  },
  {
   "cell_type": "code",
   "execution_count": null,
   "id": "46e14efa",
   "metadata": {},
   "outputs": [],
   "source": []
  }
 ],
 "metadata": {
  "kernelspec": {
   "display_name": "Python 3 (ipykernel)",
   "language": "python",
   "name": "python3"
  },
  "language_info": {
   "codemirror_mode": {
    "name": "ipython",
    "version": 3
   },
   "file_extension": ".py",
   "mimetype": "text/x-python",
   "name": "python",
   "nbconvert_exporter": "python",
   "pygments_lexer": "ipython3",
   "version": "3.11.7"
  }
 },
 "nbformat": 4,
 "nbformat_minor": 5
}
