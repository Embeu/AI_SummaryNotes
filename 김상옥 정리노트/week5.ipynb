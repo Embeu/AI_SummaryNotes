{
 "cells": [
  {
   "cell_type": "code",
   "execution_count": 48,
   "id": "2d8b6fb8-0e9e-4d8e-8163-31b5d9b462d7",
   "metadata": {},
   "outputs": [],
   "source": [
    "import numpy as np\n",
    "import matplotlib.pylab as plt"
   ]
  },
  {
   "cell_type": "markdown",
   "id": "8afde73b-4298-411b-87e9-fd06dd8f3d51",
   "metadata": {},
   "source": [
    "- **신경망 학습** : 최적의 피라미터값을 찾는 과정이다.\n",
    "- **오버 피팅** : 특정 데이터셋에만 너무 집중되어 나타나는 결과."
   ]
  },
  {
   "cell_type": "markdown",
   "id": "d36a82fc-9c49-4bf3-8420-bcd042f7111d",
   "metadata": {},
   "source": [
    "----\n",
    "## 활성화 함수\n",
    "- 시그모이드 함수\n",
    "- 소프트맥스 함수"
   ]
  },
  {
   "cell_type": "code",
   "execution_count": 49,
   "id": "a6349313-a2a1-410f-bb30-08fe3c16002d",
   "metadata": {},
   "outputs": [],
   "source": [
    "def sigmoid(x):\n",
    "    return 1 / (1 + np.exp(-x))"
   ]
  },
  {
   "cell_type": "code",
   "execution_count": 50,
   "id": "8204840a-016a-4a32-9ed7-56fbbf09f3c3",
   "metadata": {},
   "outputs": [],
   "source": [
    "def softmax(x):\n",
    "    c = np.max(x)\n",
    "    exp_x = np.exp(x - c)\n",
    "    sum_exp_x = np.sum(exp_x)\n",
    "    y = exp_x / sum_exp_x\n",
    "    return y"
   ]
  },
  {
   "cell_type": "markdown",
   "id": "7e4d69f6-8bc3-4499-b90b-cd342e2751e1",
   "metadata": {},
   "source": [
    "----\n",
    "## 손실 함수\n",
    "- 평균 제곱 오차\n",
    "- 교차 엔트로피 오차"
   ]
  },
  {
   "cell_type": "markdown",
   "id": "19b1bd87-d574-4d91-b058-bebda5d0ed23",
   "metadata": {},
   "source": [
    "----\n",
    "##### ▽ **평균 제곱 오차 확인하기** ▽"
   ]
  },
  {
   "cell_type": "code",
   "execution_count": 51,
   "id": "a1da72fb-7ad1-4f5d-9981-4ff3b4ad8d16",
   "metadata": {},
   "outputs": [],
   "source": [
    "# 평균 제곱 오차\n",
    "def mean_squared_error(y, t):\n",
    "\treturn 0.5 * np.sum((y-t)**2)"
   ]
  },
  {
   "cell_type": "code",
   "execution_count": 52,
   "id": "ba91bc89-6b8d-4b1d-a2b0-bde12209ce87",
   "metadata": {},
   "outputs": [],
   "source": [
    "y = np.array([0.1, 0.05, 0.6, 0.0, 0.05, 0.1, 0.0, 0.1, 0.0, 0.0])\n",
    "t = np.array([0, 0, 1, 0, 0, 0, 0, 0, 0, 0])"
   ]
  },
  {
   "cell_type": "code",
   "execution_count": 53,
   "id": "bf1aa1b1-d803-47a4-bf6e-976b42a22bb0",
   "metadata": {},
   "outputs": [
    {
     "data": {
      "text/plain": [
       "0.09750000000000003"
      ]
     },
     "execution_count": 53,
     "metadata": {},
     "output_type": "execute_result"
    }
   ],
   "source": [
    "# 추측 결과는 2, 정답은 2로 오답에 매우 멈\n",
    "mean_squared_error(y, t)"
   ]
  },
  {
   "cell_type": "code",
   "execution_count": 54,
   "id": "486e9e63-0ef3-40b6-a21d-5bb2f02ddeea",
   "metadata": {},
   "outputs": [],
   "source": [
    "y = np.array([0.1, 0.05, 0.05, 0.0, 0.05, 0.1, 0.0, 0.1, 0.55, 0.0])\n",
    "t = np.array([0, 0, 1, 0, 0, 0, 0, 0, 0, 0])"
   ]
  },
  {
   "cell_type": "code",
   "execution_count": 55,
   "id": "543eff0f-e5cc-47bc-86dd-362214fbc414",
   "metadata": {},
   "outputs": [
    {
     "data": {
      "text/plain": [
       "0.62"
      ]
     },
     "execution_count": 55,
     "metadata": {},
     "output_type": "execute_result"
    }
   ],
   "source": [
    "# 추측 결과는 8, 정답은 2로 오답에 매우 가까움\n",
    "mean_squared_error(y, t)"
   ]
  },
  {
   "cell_type": "markdown",
   "id": "be04e8bb-984f-4289-a8d8-30370e22aa60",
   "metadata": {},
   "source": [
    "----\n",
    "##### ▽ **교차 엔트로피 오차 확인하기** ▽"
   ]
  },
  {
   "cell_type": "code",
   "execution_count": 56,
   "id": "72327602-752d-4961-9826-4ba7c3a001c4",
   "metadata": {},
   "outputs": [],
   "source": [
    "# 교차 엔트로피 오차\n",
    "def cross_entropy_error(y, t):\n",
    "    delta = 1e-7\n",
    "    return -np.sum(t * np.log(y + delta))"
   ]
  },
  {
   "cell_type": "code",
   "execution_count": 57,
   "id": "94e3ce50-0e55-4415-bc36-ab2e4afa1bfa",
   "metadata": {},
   "outputs": [],
   "source": [
    "y = np.array([0.1, 0.05, 0.6, 0.0, 0.05, 0.1, 0.0, 0.1, 0.0, 0.0])\n",
    "t = np.array([0, 0, 1, 0, 0, 0, 0, 0, 0, 0])"
   ]
  },
  {
   "cell_type": "code",
   "execution_count": 58,
   "id": "c5143aaf-d29b-492c-972b-917f6e2ebb88",
   "metadata": {},
   "outputs": [
    {
     "data": {
      "text/plain": [
       "0.510825457099338"
      ]
     },
     "execution_count": 58,
     "metadata": {},
     "output_type": "execute_result"
    }
   ],
   "source": [
    "# 추측 결과는 2, 정답은 2로 오답에 매우 멈\n",
    "cross_entropy_error(y, t)"
   ]
  },
  {
   "cell_type": "code",
   "execution_count": 59,
   "id": "eb7bb9d5-b45b-47b4-aaef-681b00a763c0",
   "metadata": {},
   "outputs": [],
   "source": [
    "y = np.array([0.1, 0.05, 0.05, 0.0, 0.05, 0.1, 0.0, 0.1, 0.55, 0.0])\n",
    "t = np.array([0, 0, 1, 0, 0, 0, 0, 0, 0, 0])"
   ]
  },
  {
   "cell_type": "code",
   "execution_count": 60,
   "id": "b95e7f93-276b-4301-b387-db0928f8f11e",
   "metadata": {},
   "outputs": [
    {
     "data": {
      "text/plain": [
       "2.9957302735559908"
      ]
     },
     "execution_count": 60,
     "metadata": {},
     "output_type": "execute_result"
    }
   ],
   "source": [
    "# 추측 결과는 8, 정답은 2로 오답에 매우 가까움\n",
    "cross_entropy_error(y, t)"
   ]
  },
  {
   "cell_type": "code",
   "execution_count": null,
   "id": "e2f8b5a2-e14b-4e92-ae5a-8469f94b7c97",
   "metadata": {},
   "outputs": [],
   "source": []
  },
  {
   "cell_type": "markdown",
   "id": "d815d4b6-5f67-4dd5-80d3-a635307fa0c6",
   "metadata": {},
   "source": [
    "----\n",
    "## 미니 배치\n",
    "- 학습 데이터에서 일부분만 미리 골라 손실 함수의 합을 만들고 학습함"
   ]
  },
  {
   "cell_type": "code",
   "execution_count": 61,
   "id": "aac3e469-ecda-46b8-82d3-960b5edce38f",
   "metadata": {},
   "outputs": [
    {
     "name": "stdout",
     "output_type": "stream",
     "text": [
      "(60000, 784)\n",
      "(60000, 10)\n",
      "(10000, 784)\n",
      "(10000, 10)\n"
     ]
    }
   ],
   "source": [
    "import numpy as np\n",
    "import matplotlib.pylab as plt\n",
    "import sys, os\n",
    "from dataset.mnist import load_mnist\n",
    "\n",
    "sys.path.append(os.pardir)\n",
    "\n",
    "(x_train, t_train), (x_text, t_test) = load_mnist(normalize=False, flatten=True, one_hot_label=True)\n",
    "\n",
    "print(x_train.shape)\n",
    "print(t_train.shape)\n",
    "\n",
    "print(x_text.shape)\n",
    "print(t_test.shape)"
   ]
  },
  {
   "cell_type": "markdown",
   "id": "447491d8-03e2-437c-9c1c-394581305f4b",
   "metadata": {},
   "source": [
    "- normalize : 이미지 배열에 값을 0~255로 표현할 지, 소수점으로 표현할 지 결정\n",
    "- flatten : 이미지 배열을 하나의 배열로 묶어서 받을 지, 각 배열로 따로 받을 지 결정\n",
    "- one_hot_label : 정답 배열 값을 정답을 쓸 지, 정답에 해당하는 인덱스가 1로 이외에는 0으로된 배열로 얻을 지 결정"
   ]
  },
  {
   "cell_type": "code",
   "execution_count": 62,
   "id": "fded248a-35cc-4da9-8269-aee1d829e550",
   "metadata": {
    "scrolled": true
   },
   "outputs": [
    {
     "name": "stdout",
     "output_type": "stream",
     "text": [
      "[  0   0   0   0   0   0   0   0   0   0   0   0   0   0   0   0   0   0\n",
      "   0   0   0   0   0   0   0   0   0   0   0   0   0   0   0   0   0   0\n",
      "   0   0   0   0   0   0   0   0   0   0   0   0   0   0   0   0   0   0\n",
      "   0   0   0   0   0   0   0   0   0   0   0   0   0   0   0   0   0   0\n",
      "   0   0   0   0   0   0   0   0   0   0   0   0   0   0   0   0   0   0\n",
      "   0   0   0   0   0   0   0   0   0   0   0   0   0   0   0   0   0   0\n",
      "   0   0   0   0   0   0   0   0   0   0   0   0   0   0   0  42 118 219\n",
      " 166 118 118   6   0   0   0   0   0   0   0   0   0   0   0   0   0   0\n",
      "   0   0   0   0   0   0 103 242 254 254 254 254 254  66   0   0   0   0\n",
      "   0   0   0   0   0   0   0   0   0   0   0   0   0   0   0   0  18 232\n",
      " 254 254 254 254 254 238  70   0   0   0   0   0   0   0   0   0   0   0\n",
      "   0   0   0   0   0   0   0   0   0 104 244 254 224 254 254 254 141   0\n",
      "   0   0   0   0   0   0   0   0   0   0   0   0   0   0   0   0   0   0\n",
      "   0   0 207 254 210 254 254 254  34   0   0   0   0   0   0   0   0   0\n",
      "   0   0   0   0   0   0   0   0   0   0   0   0  84 206 254 254 254 254\n",
      "  41   0   0   0   0   0   0   0   0   0   0   0   0   0   0   0   0   0\n",
      "   0   0   0   0   0  24 209 254 254 254 171   0   0   0   0   0   0   0\n",
      "   0   0   0   0   0   0   0   0   0   0   0   0   0   0  91 137 253 254\n",
      " 254 254 112   0   0   0   0   0   0   0   0   0   0   0   0   0   0   0\n",
      "   0   0   0   0  40 214 250 254 254 254 254 254  34   0   0   0   0   0\n",
      "   0   0   0   0   0   0   0   0   0   0   0   0   0   0  81 247 254 254\n",
      " 254 254 254 254 146   0   0   0   0   0   0   0   0   0   0   0   0   0\n",
      "   0   0   0   0   0   0   0 110 246 254 254 254 254 254 171   0   0   0\n",
      "   0   0   0   0   0   0   0   0   0   0   0   0   0   0   0   0   0   0\n",
      "  73  89  89  93 240 254 171   0   0   0   0   0   0   0   0   0   0   0\n",
      "   0   0   0   0   0   0   0   0   0   0   0   0   0   1 128 254 219  31\n",
      "   0   0   0   0   0   0   0   0   0   0   0   0   0   0   0   0   0   0\n",
      "   0   0   0   0   0   7 254 254 214  28   0   0   0   0   0   0   0   0\n",
      "   0   0   0   0   0   0   0   0   0   0   0   0   0   0   0 138 254 254\n",
      " 116   0   0   0   0   0   0   0   0   0   0   0   0   0   0   0  19 177\n",
      "  90   0   0   0   0   0  25 240 254 254  34   0   0   0   0   0   0   0\n",
      "   0   0   0   0   0   0   0   0 164 254 215  63  36   0  51  89 206 254\n",
      " 254 139   8   0   0   0   0   0   0   0   0   0   0   0   0   0   0   0\n",
      "  57 197 254 254 222 180 241 254 254 253 213  11   0   0   0   0   0   0\n",
      "   0   0   0   0   0   0   0   0   0   0   0 140 105 254 254 254 254 254\n",
      " 254 236   0   0   0   0   0   0   0   0   0   0   0   0   0   0   0   0\n",
      "   0   0   0   0   7 117 117 165 254 254 239  50   0   0   0   0   0   0\n",
      "   0   0   0   0   0   0   0   0   0   0   0   0   0   0   0   0   0   0\n",
      "   0   0   0   0   0   0   0   0   0   0   0   0   0   0   0   0   0   0\n",
      "   0   0   0   0   0   0   0   0   0   0   0   0   0   0   0   0   0   0\n",
      "   0   0   0   0   0   0   0   0   0   0   0   0   0   0   0   0   0   0\n",
      "   0   0   0   0   0   0   0   0   0   0   0   0   0   0   0   0   0   0\n",
      "   0   0   0   0   0   0   0   0   0   0   0   0   0   0   0   0   0   0\n",
      "   0   0   0   0   0   0   0   0   0   0]\n"
     ]
    }
   ],
   "source": [
    "# x_train배열은 숫자 이미지의 행렬로 문제 배열임, 10번째 행렬의 숫자는 3\n",
    "print(x_train[10])"
   ]
  },
  {
   "cell_type": "code",
   "execution_count": 63,
   "id": "daac91bc-31bf-40c8-a232-bcfef289fdc2",
   "metadata": {},
   "outputs": [
    {
     "name": "stdout",
     "output_type": "stream",
     "text": [
      "[0. 0. 0. 1. 0. 0. 0. 0. 0. 0.]\n"
     ]
    }
   ],
   "source": [
    "# t_train배열은 정답 배열로, 10번째 값의 정답은 3\n",
    "print(t_train[10])"
   ]
  },
  {
   "cell_type": "code",
   "execution_count": 64,
   "id": "7a2754b3-4185-4cab-bf58-0d3e159a40ec",
   "metadata": {},
   "outputs": [
    {
     "data": {
      "text/plain": [
       "array([43718, 17474, 15433,  9867,  2546, 17354, 55557, 26235, 33939,\n",
       "       29146])"
      ]
     },
     "execution_count": 64,
     "metadata": {},
     "output_type": "execute_result"
    }
   ],
   "source": [
    "np.random.choice(60000, 10)"
   ]
  },
  {
   "cell_type": "code",
   "execution_count": 65,
   "id": "4c33fdcd-685d-4206-b23a-ad7ee2feb6b1",
   "metadata": {},
   "outputs": [
    {
     "name": "stdout",
     "output_type": "stream",
     "text": [
      "train_size :  60000\n",
      "batch_size :  100\n",
      "60000 에서  100 만큼 랜덤으로 뽑기\n",
      "\n",
      "(100, 784)\n",
      "(100, 10)\n"
     ]
    }
   ],
   "source": [
    "train_size = x_train.shape[0]\n",
    "batch_size = 100\n",
    "\n",
    "print(\"train_size : \", train_size)\n",
    "print(\"batch_size : \", batch_size)\n",
    "print(train_size, \"에서 \", batch_size, \"만큼 랜덤으로 뽑기\\n\")\n",
    "\n",
    "batch_mask = np.random.choice(train_size, batch_size) # np.random.choice(number, amount) number에서 amount만큼 랜덤 뽑기\n",
    "x_batch = x_train[batch_mask]\n",
    "t_batch = t_train[batch_mask]\n",
    "\n",
    "print(x_batch.shape)\n",
    "print(t_batch.shape)"
   ]
  },
  {
   "cell_type": "code",
   "execution_count": 66,
   "id": "b1454a60-afe4-4bfb-8cef-15e1f5923c21",
   "metadata": {},
   "outputs": [],
   "source": [
    "# 교차 엔트로피 오차를 한번에 계산하기\n",
    "def cross_entropy_error2(y, t):\n",
    "    if y.ndim == 1:\n",
    "        t = t.reshape(1, t.size)\n",
    "        y = y.reshape(1, y.size)\n",
    "\n",
    "    delta = 1e-7\n",
    "    batch_size = y.shape[0]\n",
    "    return -np.sum(t * np.log(y + delta)) / batch_size"
   ]
  },
  {
   "cell_type": "markdown",
   "id": "50794ac2-2c0c-4aae-8305-fc3ebe33cbcc",
   "metadata": {},
   "source": [
    "## 수치 미분"
   ]
  },
  {
   "cell_type": "code",
   "execution_count": 67,
   "id": "e5eabfb2-2e00-42b1-98a5-3552818438e8",
   "metadata": {},
   "outputs": [],
   "source": [
    "# 전방 차분\n",
    "def numerical_diff(f, x):\n",
    "    h = 10e-4\n",
    "    return (f(x+h) - f(x)) / h"
   ]
  },
  {
   "cell_type": "code",
   "execution_count": 68,
   "id": "3f4cb6ea-c0ee-400a-b97a-2beaccdf879a",
   "metadata": {},
   "outputs": [],
   "source": [
    "# 중앙 차분\n",
    "def numerical_diff_2(f, x):\n",
    "    h = 10e-4\n",
    "    return (f(x+h) - f(x-h)) / (2*h)"
   ]
  },
  {
   "cell_type": "code",
   "execution_count": 69,
   "id": "fc9838c3-56de-43c8-a0a1-adc80fa5738e",
   "metadata": {},
   "outputs": [],
   "source": [
    "def function_1(x):\n",
    "    return (0.01 * (x**2)) + (0.1*x)"
   ]
  },
  {
   "cell_type": "code",
   "execution_count": 70,
   "id": "53269cda-d4c6-42c2-a70f-fd2c85738549",
   "metadata": {},
   "outputs": [],
   "source": [
    "x = np.arange(0, 20, 0.1)"
   ]
  },
  {
   "cell_type": "code",
   "execution_count": 71,
   "id": "0123e76b-82e5-475f-b4f2-81ce5ba55dc8",
   "metadata": {
    "scrolled": true
   },
   "outputs": [],
   "source": [
    "f = numerical_diff(function_1, x)\n",
    "c = numerical_diff_2(function_1, x)"
   ]
  },
  {
   "cell_type": "code",
   "execution_count": 72,
   "id": "5a076085-31aa-4741-8d6f-1c1ee7c75567",
   "metadata": {},
   "outputs": [],
   "source": [
    "result = function_1(x)"
   ]
  },
  {
   "cell_type": "code",
   "execution_count": 73,
   "id": "60943cd2-9fb8-45a7-85a1-b30663017e4c",
   "metadata": {},
   "outputs": [
    {
     "data": {
      "image/png": "[encoded data removed]",
      "text/plain": [
       "<Figure size 640x480 with 1 Axes>"
      ]
     },
     "metadata": {},
     "output_type": "display_data"
    }
   ],
   "source": [
    "plt.plot(x, result)\n",
    "\n",
    "plt.plot(x, f)\n",
    "plt.plot(x, c)\n",
    "\n",
    "plt.show()"
   ]
  },
  {
   "cell_type": "markdown",
   "id": "cde8af1f-3999-49f1-a69e-ac04d4ac339d",
   "metadata": {},
   "source": [
    "## 편미분"
   ]
  },
  {
   "cell_type": "code",
   "execution_count": 74,
   "id": "c39a3f4c-bfa8-43b0-8017-72d76614d610",
   "metadata": {},
   "outputs": [],
   "source": [
    "def partial_diff(x):\n",
    "    return x[0]**2 + x[1]**2"
   ]
  },
  {
   "cell_type": "code",
   "execution_count": 75,
   "id": "304ed923-5843-43fb-a9ce-e072ceaba8a0",
   "metadata": {},
   "outputs": [],
   "source": [
    "def numerical_gradient(f, x):\n",
    "    h = 1e-4\n",
    "    grad = np.zeros_like(x)\n",
    "\n",
    "    for idx in range(x.size):\n",
    "        tmp_val = x[idx]\n",
    "\n",
    "        x[idx] = float(tmp_val) + h\n",
    "        fxh1 = f(x)\n",
    "\n",
    "        x[idx] = tmp_val - h\n",
    "        fxh2 = f(x)\n",
    "\n",
    "        grad[idx] = (fxh1 - fxh2) / (2*h)\n",
    "        x[idx] = tmp_val\n",
    "\n",
    "    return grad"
   ]
  },
  {
   "cell_type": "code",
   "execution_count": null,
   "id": "c52b83cd-0e66-4d4b-a2a6-01cb743d347f",
   "metadata": {},
   "outputs": [],
   "source": []
  },
  {
   "cell_type": "code",
   "execution_count": 76,
   "id": "d01e9af9-ffa2-4eb4-a4cc-eda1082ad831",
   "metadata": {},
   "outputs": [
    {
     "name": "stdout",
     "output_type": "stream",
     "text": [
      "[6. 8.]\n"
     ]
    }
   ],
   "source": [
    "x2 = np.array([3.0, 4.0])\n",
    "print(numerical_gradient(partial_diff, x2))"
   ]
  },
  {
   "cell_type": "code",
   "execution_count": 77,
   "id": "7ab7fba6-9ebc-40fd-a970-eb41c7eb962d",
   "metadata": {
    "scrolled": true
   },
   "outputs": [
    {
     "name": "stdout",
     "output_type": "stream",
     "text": [
      "[0. 4.]\n"
     ]
    }
   ],
   "source": [
    "x2 = np.array([0.0, 2.0])\n",
    "print(numerical_gradient(partial_diff, x2))"
   ]
  },
  {
   "cell_type": "code",
   "execution_count": 78,
   "id": "7b95c980-22d3-4aa8-af0e-07c37024a590",
   "metadata": {},
   "outputs": [
    {
     "name": "stdout",
     "output_type": "stream",
     "text": [
      "[6. 0.]\n"
     ]
    }
   ],
   "source": [
    "x2 = np.array([3.0, 0.0])\n",
    "print(numerical_gradient(partial_diff, x2))"
   ]
  },
  {
   "cell_type": "code",
   "execution_count": null,
   "id": "a9d03494-a119-40b9-954d-523d90836662",
   "metadata": {},
   "outputs": [],
   "source": []
  },
  {
   "cell_type": "code",
   "execution_count": null,
   "id": "b619e3b5-afeb-4c4e-96b9-0977f9c1649d",
   "metadata": {},
   "outputs": [],
   "source": []
  },
  {
   "cell_type": "code",
   "execution_count": 83,
   "id": "5c3fa2f0-d889-4d2b-841c-7716fb83180c",
   "metadata": {},
   "outputs": [
    {
     "ename": "TypeError",
     "evalue": "only length-1 arrays can be converted to Python scalars",
     "output_type": "error",
     "traceback": [
      "\u001b[1;31m---------------------------------------------------------------------------\u001b[0m",
      "\u001b[1;31mTypeError\u001b[0m                                 Traceback (most recent call last)",
      "Cell \u001b[1;32mIn[83], line 25\u001b[0m\n\u001b[0;32m     22\u001b[0m net \u001b[38;5;241m=\u001b[39m simpleNet()\n\u001b[0;32m     24\u001b[0m f \u001b[38;5;241m=\u001b[39m \u001b[38;5;28;01mlambda\u001b[39;00m w: net\u001b[38;5;241m.\u001b[39mloss(x, t)\n\u001b[1;32m---> 25\u001b[0m dW \u001b[38;5;241m=\u001b[39m numerical_gradient(f, net\u001b[38;5;241m.\u001b[39mW)\n\u001b[0;32m     27\u001b[0m \u001b[38;5;28mprint\u001b[39m(dW)\n",
      "Cell \u001b[1;32mIn[75], line 8\u001b[0m, in \u001b[0;36mnumerical_gradient\u001b[1;34m(f, x)\u001b[0m\n\u001b[0;32m      5\u001b[0m \u001b[38;5;28;01mfor\u001b[39;00m idx \u001b[38;5;129;01min\u001b[39;00m \u001b[38;5;28mrange\u001b[39m(x\u001b[38;5;241m.\u001b[39msize):\n\u001b[0;32m      6\u001b[0m     tmp_val \u001b[38;5;241m=\u001b[39m x[idx]\n\u001b[1;32m----> 8\u001b[0m     x[idx] \u001b[38;5;241m=\u001b[39m \u001b[38;5;28mfloat\u001b[39m(tmp_val) \u001b[38;5;241m+\u001b[39m h\n\u001b[0;32m      9\u001b[0m     fxh1 \u001b[38;5;241m=\u001b[39m f(x)\n\u001b[0;32m     11\u001b[0m     x[idx] \u001b[38;5;241m=\u001b[39m tmp_val \u001b[38;5;241m-\u001b[39m h\n",
      "\u001b[1;31mTypeError\u001b[0m: only length-1 arrays can be converted to Python scalars"
     ]
    }
   ],
   "source": [
    "# coding: utf-8\n",
    "import sys, os\n",
    "sys.path.append(os.pardir)  # 부모 디렉터리의 파일을 가져올 수 있도록 설정\n",
    "import numpy as np\n",
    "\n",
    "class simpleNet:\n",
    "    def __init__(self):\n",
    "        self.W = np.random.randn(2,3) # 정규분포로 초기화\n",
    "\n",
    "    def predict(self, x):\n",
    "        return np.dot(x, self.W)\n",
    "\n",
    "    def loss(self, x, t):\n",
    "        z = self.predict(x)\n",
    "        y = softmax(z)\n",
    "        loss = cross_entropy_error(y, t)\n",
    "        return loss\n",
    "\n",
    "x = np.array([0.6, 0.9])\n",
    "t = np.array([0, 0, 1])\n",
    "\n",
    "net = simpleNet()\n",
    "\n",
    "f = lambda w: net.loss(x, t)\n",
    "dW = numerical_gradient(f, net.W)\n",
    "\n",
    "print(dW)\n"
   ]
  },
  {
   "cell_type": "code",
   "execution_count": null,
   "id": "c4acceca-3083-4d75-ac6b-c80a4cb515ba",
   "metadata": {},
   "outputs": [],
   "source": []
  },
  {
   "cell_type": "code",
   "execution_count": null,
   "id": "d81b2287-30cb-414c-aecc-47781dc8ee50",
   "metadata": {},
   "outputs": [],
   "source": []
  }
 ],
 "metadata": {
  "kernelspec": {
   "display_name": "Python 3 (ipykernel)",
   "language": "python",
   "name": "python3"
  },
  "language_info": {
   "codemirror_mode": {
    "name": "ipython",
    "version": 3
   },
   "file_extension": ".py",
   "mimetype": "text/x-python",
   "name": "python",
   "nbconvert_exporter": "python",
   "pygments_lexer": "ipython3",
   "version": "3.11.7"
  }
 },
 "nbformat": 4,
 "nbformat_minor": 5
}
