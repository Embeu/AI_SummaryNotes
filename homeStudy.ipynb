{
 "cells": [
  {
   "cell_type": "markdown",
   "id": "7dee94f6-e516-40d2-814c-e2b518297aef",
   "metadata": {},
   "source": [
    "# **밑바닥 부터 시작하는 딥러닝1**\n",
    "1. ### 퍼셉트론\n",
    "    1. 단층 퍼셉트론 (AND, OR, NAND)\n",
    "    2. 다층 퍼셉트론 (XOR, 가산기)\n",
    "\n",
    "2. ### 활성화 함수\n",
    "    1. 계단 함수 (Step)\n",
    "    2. 시그모이드 함수 (Sigmoid)\n",
    "    3. 렐루 함수 (ReLU)\n",
    "    4. 소프트맥스 함수 (Softmax)\n",
    "\n",
    "3. ### 손실 함수\n",
    "    1. 오차제곱합 (sum aquares error)\n",
    "    2. 교차 엔트로피 오차 (cross entropy error)\n",
    "  \n",
    "4. ### 수치 미분\n",
    "    1. 수치 미분"
   ]
  },
  {
   "cell_type": "markdown",
   "id": "cb676073-dff9-47e1-a53e-f947751362e9",
   "metadata": {
    "jp-MarkdownHeadingCollapsed": true
   },
   "source": [
    "# **퍼셉트론**\n",
    "- 단층 퍼셉트론 (AND, OR, NAND)\n",
    "- 다층 퍼셉트론 (XOR, 가산기)\n",
    "----"
   ]
  },
  {
   "cell_type": "code",
   "execution_count": 3,
   "id": "59f0c830-530d-4248-b0ee-26b62d6c7add",
   "metadata": {},
   "outputs": [],
   "source": [
    "import numpy as np"
   ]
  },
  {
   "cell_type": "code",
   "execution_count": 4,
   "id": "2df83b8f-1887-4f13-89ac-f8939e23eb10",
   "metadata": {},
   "outputs": [],
   "source": [
    "def AND_Theta(x1, x2):\n",
    "\tw1, w2 = 0.5, 0.5\n",
    "\ttheta = 0.5\n",
    "\ty = x1*w1 + x2*w2\n",
    "\treturn 0 if y <= theta else 1"
   ]
  },
  {
   "cell_type": "code",
   "execution_count": 5,
   "id": "23e551e5-6497-42b4-9b6a-45596b52a455",
   "metadata": {},
   "outputs": [
    {
     "name": "stdout",
     "output_type": "stream",
     "text": [
      "AND 0 0 |  0\n",
      "AND 0 1 |  0\n",
      "AND 1 0 |  0\n",
      "AND 1 1 |  1\n"
     ]
    }
   ],
   "source": [
    "print(\"AND 0 0 | \", AND_Theta(0, 0))\n",
    "print(\"AND 0 1 | \", AND_Theta(0, 1))\n",
    "print(\"AND 1 0 | \", AND_Theta(1, 0))\n",
    "print(\"AND 1 1 | \", AND_Theta(1, 1))"
   ]
  },
  {
   "cell_type": "code",
   "execution_count": 6,
   "id": "b40dd2de-0b93-41fd-9ae5-23fee5774a0e",
   "metadata": {},
   "outputs": [],
   "source": [
    "def OR_Theta(x1, x2):\n",
    "\tw1, w2 = 0.5, 0.5\n",
    "\ttheta = 0.3\n",
    "\ty = x1*w1 + x2*w2\n",
    "\treturn 0 if y <= theta else 1"
   ]
  },
  {
   "cell_type": "code",
   "execution_count": 7,
   "id": "15bc6a74-ed09-4dbe-9d66-961f24732b27",
   "metadata": {},
   "outputs": [
    {
     "name": "stdout",
     "output_type": "stream",
     "text": [
      "OR 0 0 |  0\n",
      "OR 0 1 |  1\n",
      "OR 1 0 |  1\n",
      "OR 1 1 |  1\n"
     ]
    }
   ],
   "source": [
    "print(\"OR 0 0 | \", OR_Theta(0, 0))\n",
    "print(\"OR 0 1 | \", OR_Theta(0, 1))\n",
    "print(\"OR 1 0 | \", OR_Theta(1, 0))\n",
    "print(\"OR 1 1 | \", OR_Theta(1, 1))"
   ]
  },
  {
   "cell_type": "code",
   "execution_count": null,
   "id": "e199a607-bb78-41f5-bac5-902f84171264",
   "metadata": {},
   "outputs": [],
   "source": []
  },
  {
   "cell_type": "code",
   "execution_count": 8,
   "id": "85810653-645f-4d4d-9b48-86746fe320bf",
   "metadata": {},
   "outputs": [],
   "source": [
    "def NAND_Theta(x1, x2):\n",
    "\tw1, w2 = -0.2, -0.2\n",
    "\ttheta = -0.1\n",
    "\ty = x1*w1 + x2*w2\n",
    "\treturn 0 if y <= theta else 1"
   ]
  },
  {
   "cell_type": "code",
   "execution_count": 9,
   "id": "0b10e48e-ffe2-4d1c-8ab9-efb30360ecfb",
   "metadata": {},
   "outputs": [
    {
     "name": "stdout",
     "output_type": "stream",
     "text": [
      "NAND 0 0 |  1\n",
      "NAND 0 1 |  0\n",
      "NAND 1 0 |  0\n",
      "NAND 1 1 |  0\n"
     ]
    }
   ],
   "source": [
    "print(\"NAND 0 0 | \", NAND_Theta(0, 0))\n",
    "print(\"NAND 0 1 | \", NAND_Theta(0, 1))\n",
    "print(\"NAND 1 0 | \", NAND_Theta(1, 0))\n",
    "print(\"NAND 1 1 | \", NAND_Theta(1, 1))"
   ]
  },
  {
   "cell_type": "code",
   "execution_count": null,
   "id": "05d4a119-1154-412d-b39a-32a92a7a5290",
   "metadata": {},
   "outputs": [],
   "source": []
  },
  {
   "cell_type": "code",
   "execution_count": 10,
   "id": "b3943c21-5810-4340-a587-2556011d9089",
   "metadata": {},
   "outputs": [],
   "source": [
    "def AND(x1, x2):\n",
    "    x = np.array([x1, x2])\n",
    "    w = np.array([0.5, 0.5])\n",
    "    b = -0.7\n",
    "    tmp = np.sum(w*x) + b\n",
    "    return 0 if tmp <= 0 else 1\n",
    "\n",
    "def OR(x1, x2):\n",
    "    x = np.array([x1, x2])\n",
    "    w = np.array([0.5, 0.5])\n",
    "    b = -0.2\n",
    "    tmp = np.sum(w*x) + b\n",
    "    return 0 if tmp <= 0 else 1\n",
    "\n",
    "def NAND(x1, x2):\n",
    "    x = np.array([x1, x2])\n",
    "    w = np.array([-0.5, -0.5])\n",
    "    b = 0.7\n",
    "    tmp = np.sum(w*x) + b\n",
    "    return 0 if tmp <= 0 else 1"
   ]
  },
  {
   "cell_type": "code",
   "execution_count": 11,
   "id": "0b24ce9e-7ddd-4cae-a357-a2dfcc0a05ba",
   "metadata": {},
   "outputs": [
    {
     "name": "stdout",
     "output_type": "stream",
     "text": [
      "AND 0 0 |  0\n",
      "AND 0 1 |  0\n",
      "AND 1 0 |  0\n",
      "AND 1 1 |  1\n"
     ]
    }
   ],
   "source": [
    "print(\"AND 0 0 | \", AND(0, 0))\n",
    "print(\"AND 0 1 | \", AND(0, 1))\n",
    "print(\"AND 1 0 | \", AND(1, 0))\n",
    "print(\"AND 1 1 | \", AND(1, 1))"
   ]
  },
  {
   "cell_type": "code",
   "execution_count": 12,
   "id": "0931d9ae-2367-46d7-b65b-c016cbbcd456",
   "metadata": {},
   "outputs": [
    {
     "name": "stdout",
     "output_type": "stream",
     "text": [
      "OR 0 0 |  0\n",
      "OR 0 1 |  1\n",
      "OR 1 0 |  1\n",
      "OR 1 1 |  1\n"
     ]
    }
   ],
   "source": [
    "print(\"OR 0 0 | \", OR(0, 0))\n",
    "print(\"OR 0 1 | \", OR(0, 1))\n",
    "print(\"OR 1 0 | \", OR(1, 0))\n",
    "print(\"OR 1 1 | \", OR(1, 1))"
   ]
  },
  {
   "cell_type": "code",
   "execution_count": 13,
   "id": "b8193e09-7845-4978-867b-63008b50deaa",
   "metadata": {
    "scrolled": true
   },
   "outputs": [
    {
     "name": "stdout",
     "output_type": "stream",
     "text": [
      "NAND 0 0 |  1\n",
      "NAND 0 1 |  1\n",
      "NAND 1 0 |  1\n",
      "NAND 1 1 |  0\n"
     ]
    }
   ],
   "source": [
    "print(\"NAND 0 0 | \", NAND(0, 0))\n",
    "print(\"NAND 0 1 | \", NAND(0, 1))\n",
    "print(\"NAND 1 0 | \", NAND(1, 0))\n",
    "print(\"NAND 1 1 | \", NAND(1, 1))"
   ]
  },
  {
   "cell_type": "code",
   "execution_count": 14,
   "id": "b797c250-98b9-4190-941f-ba85f08ab29c",
   "metadata": {},
   "outputs": [],
   "source": [
    "def XOR(x1, x2):\n",
    "\ts1 = NAND(x1, x2)\n",
    "\ts2 = OR(x1, x2)\n",
    "\ty = AND(s1, s2)\n",
    "\treturn 0 if y <= 0 else 1"
   ]
  },
  {
   "cell_type": "code",
   "execution_count": 15,
   "id": "8a523dec-ef16-46bc-8b59-9eaae773bae6",
   "metadata": {},
   "outputs": [
    {
     "name": "stdout",
     "output_type": "stream",
     "text": [
      "XOR 0 0 |  0\n",
      "XOR 0 1 |  1\n",
      "XOR 1 0 |  1\n",
      "XOR 1 1 |  0\n"
     ]
    }
   ],
   "source": [
    "print(\"XOR 0 0 | \", XOR(0, 0))\n",
    "print(\"XOR 0 1 | \", XOR(0, 1))\n",
    "print(\"XOR 1 0 | \", XOR(1, 0))\n",
    "print(\"XOR 1 1 | \", XOR(1, 1))"
   ]
  },
  {
   "cell_type": "code",
   "execution_count": null,
   "id": "2c6d5470-54f7-4e6c-a00b-18a47b05ec2b",
   "metadata": {},
   "outputs": [],
   "source": []
  },
  {
   "cell_type": "markdown",
   "id": "8923954d-2955-42a5-b5e3-56dc4cedc4e6",
   "metadata": {},
   "source": [
    "## 가산기 만들어보기"
   ]
  },
  {
   "cell_type": "code",
   "execution_count": 16,
   "id": "fde41e72-0aa8-4ed7-995b-a96f4821fa46",
   "metadata": {},
   "outputs": [],
   "source": [
    "def half_adder(x1, x2):\n",
    "    s = XOR(x1, x2)\n",
    "    c = AND(x1, x2)\n",
    "    return s, c"
   ]
  },
  {
   "cell_type": "code",
   "execution_count": 17,
   "id": "0bcd3d96-d44b-4454-bf52-2936c1b3c95a",
   "metadata": {},
   "outputs": [
    {
     "name": "stdout",
     "output_type": "stream",
     "text": [
      "half_adder > 0 0 | 0 0\n",
      "half_adder > 0 1 | 0 1\n",
      "half_adder > 1 0 | 0 1\n",
      "half_adder > 1 1 | 1 0\n"
     ]
    }
   ],
   "source": [
    "s, c = half_adder(0, 0)\n",
    "print(\"half_adder > 0 0 |\", c, s)\n",
    "\n",
    "s, c = half_adder(0, 1)\n",
    "print(\"half_adder > 0 1 |\", c, s)\n",
    "\n",
    "s, c = half_adder(1, 0)\n",
    "print(\"half_adder > 1 0 |\", c, s)\n",
    "\n",
    "s, c = half_adder(1, 1)\n",
    "print(\"half_adder > 1 1 |\", c, s)"
   ]
  },
  {
   "cell_type": "code",
   "execution_count": null,
   "id": "b82124d1-7827-4e15-8d85-6f3f8b5f2d8c",
   "metadata": {},
   "outputs": [],
   "source": []
  },
  {
   "cell_type": "markdown",
   "id": "f01511f1-c085-4039-b92e-3d7fa14a5e2c",
   "metadata": {
    "jp-MarkdownHeadingCollapsed": true
   },
   "source": [
    "# **활성화 함수**\n",
    "- 계단 함수 (Step)\n",
    "- 시그모이드 함수 (Sigmoid)\n",
    "- 렐루 함수 (ReLU)\n",
    "- 소프트맥스 함수 (Softmax)\n",
    "----"
   ]
  },
  {
   "cell_type": "markdown",
   "id": "cca5bdd7-ecae-4ba1-8cbd-d2cf8fae1805",
   "metadata": {},
   "source": [
    "## 계단 함수를 그래프로 만들어보기\n",
    "[계단 함수]"
   ]
  },
  {
   "cell_type": "code",
   "execution_count": 18,
   "id": "fede2115-4b6f-43d5-8ea4-6cdbb93b6a4f",
   "metadata": {},
   "outputs": [],
   "source": [
    "import matplotlib.pylab as plt"
   ]
  },
  {
   "cell_type": "code",
   "execution_count": 19,
   "id": "0ddedd47-8cd1-4e8a-af33-6185641a4bcb",
   "metadata": {},
   "outputs": [],
   "source": [
    "def step_function(x):\n",
    "    y = x > 0\n",
    "    return y.astype(int)"
   ]
  },
  {
   "cell_type": "code",
   "execution_count": 20,
   "id": "853bb021-f95c-410b-967e-695378507d5e",
   "metadata": {},
   "outputs": [],
   "source": [
    "stepX = np.arange(-5.0, 5.0, 0.1)\n",
    "stepY = step_function(stepX)"
   ]
  },
  {
   "cell_type": "code",
   "execution_count": 21,
   "id": "a7fcf5b1-03ec-41f6-98bb-e9479fde75a3",
   "metadata": {},
   "outputs": [
    {
     "data": {
      "image/png": "[encoded data removed]",
      "text/plain": [
       "<Figure size 640x480 with 1 Axes>"
      ]
     },
     "metadata": {},
     "output_type": "display_data"
    }
   ],
   "source": [
    "plt.plot(stepX, stepY)\n",
    "plt.ylim(-0.1, 1.1)\n",
    "plt.show()"
   ]
  },
  {
   "cell_type": "markdown",
   "id": "a8ae6826-9b28-4284-bd20-44e1b9ce8d77",
   "metadata": {
    "jp-MarkdownHeadingCollapsed": true
   },
   "source": [
    "## 시그모이드 함수를 그래프로 표현하기"
   ]
  },
  {
   "cell_type": "code",
   "execution_count": 22,
   "id": "8c652fe4-ab2f-4115-8fea-a388bd37bd86",
   "metadata": {},
   "outputs": [],
   "source": [
    "def sigmoid(x):\n",
    "    y = 1 / (1 + np.exp(-x))\n",
    "    return y"
   ]
  },
  {
   "cell_type": "code",
   "execution_count": 23,
   "id": "df0fe5d6-5ada-4e03-830c-566d3b919a3f",
   "metadata": {},
   "outputs": [],
   "source": [
    "sigmoidX = np.arange(-5.0, 5.0, 0.1)\n",
    "sigmoidY = sigmoid(sigmoidX)"
   ]
  },
  {
   "cell_type": "code",
   "execution_count": 24,
   "id": "3ef7b0da-e75c-4b6b-afa0-a0baf0466c96",
   "metadata": {},
   "outputs": [
    {
     "data": {
      "image/png": "[encoded data removed]",
      "text/plain": [
       "<Figure size 640x480 with 1 Axes>"
      ]
     },
     "metadata": {},
     "output_type": "display_data"
    }
   ],
   "source": [
    "plt.plot(sigmoidX, sigmoidY)\n",
    "plt.ylim(-0.1, 1.1)\n",
    "plt.show()"
   ]
  },
  {
   "cell_type": "markdown",
   "id": "be469da5-8cb9-42d2-a680-dddbb66f9b62",
   "metadata": {},
   "source": [
    "## 계단 함수와 시그모이드 함수를 그래프로 비교하기"
   ]
  },
  {
   "cell_type": "code",
   "execution_count": 25,
   "id": "c6f666b9-8d82-486d-ad21-67a19f909598",
   "metadata": {},
   "outputs": [
    {
     "data": {
      "image/png": "[encoded data removed]",
      "text/plain": [
       "<Figure size 640x480 with 1 Axes>"
      ]
     },
     "metadata": {},
     "output_type": "display_data"
    }
   ],
   "source": [
    "plt.plot(stepX, stepY, linestyle=\"--\")\n",
    "plt.plot(sigmoidX, sigmoidY)\n",
    "plt.show()"
   ]
  },
  {
   "cell_type": "code",
   "execution_count": null,
   "id": "cc076490-cb7c-4391-b5c7-3e207a6a8a9e",
   "metadata": {},
   "outputs": [],
   "source": []
  },
  {
   "cell_type": "markdown",
   "id": "56954f09-f96c-419e-98dd-59c2ff5741a8",
   "metadata": {},
   "source": [
    "## ReLU 함수 구현"
   ]
  },
  {
   "cell_type": "code",
   "execution_count": 26,
   "id": "56f8fb0b-26f8-4cd5-86a1-d925e12f36fe",
   "metadata": {},
   "outputs": [],
   "source": [
    "def ReLU(x):\n",
    "    return np.maximum(0, x)"
   ]
  },
  {
   "cell_type": "code",
   "execution_count": 27,
   "id": "c64120bf-5e74-4760-a4f3-cd480ee75f90",
   "metadata": {},
   "outputs": [],
   "source": [
    "ReLUX = np.arange(-5.0, 1.0, 0.1)\n",
    "ReLUY = ReLU(ReLUX)"
   ]
  },
  {
   "cell_type": "code",
   "execution_count": 28,
   "id": "3e6ecfab-554b-402d-91a4-2786f6c749be",
   "metadata": {},
   "outputs": [
    {
     "data": {
      "image/png": "[encoded data removed]",
      "text/plain": [
       "<Figure size 640x480 with 1 Axes>"
      ]
     },
     "metadata": {},
     "output_type": "display_data"
    }
   ],
   "source": [
    "plt.plot(ReLUX, ReLUY)\n",
    "plt.ylim(-0.1, 1.1)\n",
    "plt.show()"
   ]
  },
  {
   "cell_type": "code",
   "execution_count": null,
   "id": "1ad075e5-f6d5-48d9-a3bf-ac4162ad9997",
   "metadata": {},
   "outputs": [],
   "source": []
  },
  {
   "cell_type": "markdown",
   "id": "52c84f61-8f90-4454-a371-66442605ab54",
   "metadata": {},
   "source": [
    "## Step, Sigmoid, ReLU 함수 그래프 표현"
   ]
  },
  {
   "cell_type": "code",
   "execution_count": 29,
   "id": "e564885b-c2f6-4aba-a7d5-05594c36ac3f",
   "metadata": {},
   "outputs": [
    {
     "data": {
      "image/png": "[encoded data removed]",
      "text/plain": [
       "<Figure size 640x480 with 1 Axes>"
      ]
     },
     "metadata": {},
     "output_type": "display_data"
    }
   ],
   "source": [
    "plt.plot(stepX, stepY, linestyle=\"--\")\n",
    "plt.plot(sigmoidX, sigmoidY)\n",
    "plt.plot(ReLUX, ReLUY, linestyle=\"-\")\n",
    "plt.show()"
   ]
  },
  {
   "cell_type": "code",
   "execution_count": null,
   "id": "578593d5-73cf-4bf9-b2f0-ce2beeeda9c4",
   "metadata": {},
   "outputs": [],
   "source": []
  },
  {
   "cell_type": "code",
   "execution_count": 30,
   "id": "766f252a-7bfb-43c9-9f56-386117713445",
   "metadata": {},
   "outputs": [
    {
     "name": "stdout",
     "output_type": "stream",
     "text": [
      "[0.3 0.7 1.1]\n",
      "[0.57444252 0.66818777 0.75026011]\n"
     ]
    }
   ],
   "source": [
    "# 0층에서 1층으로\n",
    "x = np.array([1.0, 0.5])\n",
    "b = np.array([0.1, 0.2, 0.3])\n",
    "w = np.array([\n",
    "    [0.1, 0.3, 0.5],\n",
    "    [0.2, 0.4, 0.6]\n",
    "])\n",
    "\n",
    "# a = xw + b\n",
    "a = np.dot(x, w) + b\n",
    "print(a)\n",
    "z = sigmoid(a)\n",
    "print(z)"
   ]
  },
  {
   "cell_type": "code",
   "execution_count": 31,
   "id": "b3a6e299-e76d-42c3-9054-5ec10efdbea4",
   "metadata": {},
   "outputs": [
    {
     "name": "stdout",
     "output_type": "stream",
     "text": [
      "[0.51615984 1.21402696]\n",
      "[0.62624937 0.7710107 ]\n"
     ]
    }
   ],
   "source": [
    "# 1층에서 2층으로\n",
    "x2 = z\n",
    "w2 = np.array([\n",
    "    [0.1, 0.4],\n",
    "    [0.2, 0.5],\n",
    "    [0.3, 0.6]\n",
    "])\n",
    "b2 = np.array([0.1, 0.2])\n",
    "\n",
    "a2 = np.dot(x2, w2) + b2\n",
    "print(a2)\n",
    "z2 = sigmoid(a2)\n",
    "print(z2)"
   ]
  },
  {
   "cell_type": "code",
   "execution_count": 32,
   "id": "082469cf-84a9-4c47-8798-8e7907b408ed",
   "metadata": {},
   "outputs": [
    {
     "name": "stdout",
     "output_type": "stream",
     "text": [
      "[0.31682708 0.69627909]\n"
     ]
    }
   ],
   "source": [
    "# 2층에서 3층으로\n",
    "x3 = z2\n",
    "w3 = np.array([\n",
    "    [0.1, 0.3],\n",
    "    [0.2, 0.4]\n",
    "])\n",
    "b3 = np.array([0.1, 0.2])\n",
    "\n",
    "y = np.dot(x3, w3) + b3\n",
    "print(y)"
   ]
  },
  {
   "cell_type": "code",
   "execution_count": null,
   "id": "057d4a1f-5def-42ba-96da-e6aea40e0375",
   "metadata": {},
   "outputs": [],
   "source": []
  },
  {
   "cell_type": "markdown",
   "id": "e4f520af-1473-4374-a84b-ba98a19ee1f7",
   "metadata": {},
   "source": [
    "## 소프트맥스 함수 구현"
   ]
  },
  {
   "cell_type": "code",
   "execution_count": 33,
   "id": "0c5f42b5-7658-4b57-8e54-d7cc6a2f8724",
   "metadata": {},
   "outputs": [],
   "source": [
    "def softmax(a):\n",
    "    c = np.max(a)\n",
    "    exp_a = np.exp(a - c)\n",
    "    sum_exp_a = np.sum(exp_a)\n",
    "    y = exp_a / sum_exp_a\n",
    "    return y"
   ]
  },
  {
   "cell_type": "code",
   "execution_count": 34,
   "id": "6a5d0491-36eb-4df6-8d85-1d3c4c109a81",
   "metadata": {},
   "outputs": [
    {
     "name": "stdout",
     "output_type": "stream",
     "text": [
      "[1.11651476e-04 9.99871649e-01 1.66995571e-05]\n",
      "1.0\n"
     ]
    }
   ],
   "source": [
    "a = np.array([2.1, 11.2, 0.2])\n",
    "y = softmax(a)\n",
    "print(y)\n",
    "print(np.sum(y))"
   ]
  },
  {
   "cell_type": "markdown",
   "id": "fc8700a2-4446-4761-ba3e-0138a74fb369",
   "metadata": {},
   "source": [
    "# **MNIST 사용**\n",
    "- MNIST불러오기 및 PIL 라이브러리\n",
    "- MNIST 추론하기"
   ]
  },
  {
   "cell_type": "markdown",
   "id": "12b81003-457e-4d95-9f47-9ed9f80d41dc",
   "metadata": {
    "jp-MarkdownHeadingCollapsed": true
   },
   "source": [
    "## MNIST 불러오기"
   ]
  },
  {
   "cell_type": "code",
   "execution_count": 35,
   "id": "265e8b0c-d1ee-4e48-a0ce-07f50c9411c6",
   "metadata": {},
   "outputs": [
    {
     "name": "stdout",
     "output_type": "stream",
     "text": [
      "(60000, 784)\n",
      "(60000,)\n",
      "(10000, 784)\n",
      "(10000,)\n"
     ]
    }
   ],
   "source": [
    "import numpy as np\n",
    "import matplotlib.pylab as plt\n",
    "import sys, os, pickle\n",
    "from PIL import Image\n",
    "sys.path.append(os.pardir)\n",
    "\n",
    "from dataset.mnist import load_mnist\n",
    "\n",
    "(x_train, t_train), (x_text, t_test) = \\\n",
    "    load_mnist(flatten=True, normalize=False)\n",
    "\n",
    "print(x_train.shape)\n",
    "print(t_train.shape)\n",
    "print(x_text.shape)\n",
    "print(t_test.shape)"
   ]
  },
  {
   "cell_type": "code",
   "execution_count": 36,
   "id": "ba137ac3-7376-4150-b83e-c81da4564fcf",
   "metadata": {},
   "outputs": [],
   "source": [
    "def sigmoid(x):\n",
    "    y = 1 / (1 + np.exp(-x))\n",
    "    return y"
   ]
  },
  {
   "cell_type": "code",
   "execution_count": 37,
   "id": "8336a3b5-bbef-4830-b94a-3adb3cc5a574",
   "metadata": {},
   "outputs": [],
   "source": [
    "def softmax(a):\n",
    "    c = np.max(a)\n",
    "    exp_a = np.exp(a - c)\n",
    "    sum_exp_a = np.sum(exp_a)\n",
    "    y = exp_a / sum_exp_a\n",
    "    return y"
   ]
  },
  {
   "cell_type": "code",
   "execution_count": 38,
   "id": "ce6029e5-e61e-4b5d-aee3-6e8b9c16a480",
   "metadata": {},
   "outputs": [],
   "source": [
    "def img_show(img):\n",
    "    pil_img = Image.fromarray(np.uint8(img))\n",
    "    pil_img.show()"
   ]
  },
  {
   "cell_type": "code",
   "execution_count": 39,
   "id": "834f467a-75eb-479d-9cef-6fcca70b5e32",
   "metadata": {},
   "outputs": [
    {
     "name": "stdout",
     "output_type": "stream",
     "text": [
      "1\n"
     ]
    }
   ],
   "source": [
    "img = x_train[3] # img는 0번째 이미지의 행렬을 의미\n",
    "label = t_train[3] # label은 0번째 이미지의 숫자값을 의미\n",
    "print(label)"
   ]
  },
  {
   "cell_type": "code",
   "execution_count": 40,
   "id": "d9e66461-3b34-44a6-9cc5-5a13222892b6",
   "metadata": {},
   "outputs": [
    {
     "name": "stdout",
     "output_type": "stream",
     "text": [
      "(784,)\n",
      "(28, 28)\n"
     ]
    }
   ],
   "source": [
    "print(img.shape)\n",
    "img = img.reshape(28, 28)\n",
    "print(img.shape)\n",
    "#img_show(img)"
   ]
  },
  {
   "cell_type": "markdown",
   "id": "cf008ec4-1f97-4158-bea7-6c79f0926d8d",
   "metadata": {},
   "source": [
    "## MNIST를 신경망을 이용하여 추론해보기"
   ]
  },
  {
   "cell_type": "code",
   "execution_count": 41,
   "id": "63a6067a-8b74-45d6-8ffb-c3ada6f3fa17",
   "metadata": {},
   "outputs": [],
   "source": [
    "def get_data():\n",
    "    (x_train, t_train), (x_test, t_test) = load_mnist(normalize=True, flatten=True, one_hot_label=False)\n",
    "    return x_test, t_test"
   ]
  },
  {
   "cell_type": "code",
   "execution_count": 42,
   "id": "2a17dfaa-31f8-4d88-9121-63322a53c0e8",
   "metadata": {},
   "outputs": [],
   "source": [
    "def init_network():\n",
    "    with open(\"sample_weight.pkl\", 'rb') as f:\n",
    "        network = pickle.load(f)\n",
    "    return network"
   ]
  },
  {
   "cell_type": "code",
   "execution_count": 43,
   "id": "7bf23dd8-76b0-4cfe-9f47-ab222a55fcce",
   "metadata": {},
   "outputs": [],
   "source": [
    "def predict(network, x):\n",
    "    W1, W2, W3 = network['W1'], network['W2'], network['W3']\n",
    "    b1, b2, b3 = network['b1'], network['b2'], network['b3']\n",
    "\n",
    "    a1 = np.dot(x, W1) + b1\n",
    "    z1 = sigmoid(a1)\n",
    "    a2 = np.dot(z1, W2) + b2\n",
    "    z2 = sigmoid(a2)\n",
    "    a3 = np.dot(z2, W3) + b3\n",
    "    y = softmax(a3)\n",
    "\n",
    "    return y"
   ]
  },
  {
   "cell_type": "code",
   "execution_count": 44,
   "id": "9b2463a4-a2b6-4d06-8914-2985eafe1bd4",
   "metadata": {},
   "outputs": [
    {
     "name": "stdout",
     "output_type": "stream",
     "text": [
      "Accuracy:0.9352\n"
     ]
    }
   ],
   "source": [
    "x, t = get_data()\n",
    "network = init_network()\n",
    "\n",
    "accuracy_cnt = 0\n",
    "for i in range(len(x)):\n",
    "    y = predict(network, x[i]) # 이미 정의된 피라미터 network와 i번째 이미지의 행렬값을 보내준다.\n",
    "    p= np.argmax(y) # 확률이 가장 높은 원소의 인덱스를 얻는다.\n",
    "    if p == t[i]: # 가장 높은 확률의 숫자가 현재 정답과 일치하면 카운트를 한다\n",
    "        accuracy_cnt += 1\n",
    "\n",
    "print(\"Accuracy:\" + str(float(accuracy_cnt) / len(x)))"
   ]
  },
  {
   "cell_type": "markdown",
   "id": "5a70cb5c-71e1-4f29-b370-cb344709aa95",
   "metadata": {},
   "source": [
    "## 실제 과정을 수동으로 계산하기"
   ]
  },
  {
   "cell_type": "code",
   "execution_count": 45,
   "id": "bb7c07e2-d022-48b1-960a-a613688e918f",
   "metadata": {},
   "outputs": [
    {
     "name": "stdout",
     "output_type": "stream",
     "text": [
      "x :  (784,)\n",
      "\n",
      "W1 :  (784, 50)\n",
      "W2 :  (50, 100)\n",
      "W3 :  (100, 10)\n",
      "\n",
      "b1 :  (50,)\n",
      "b2 :  (100,)\n",
      "b3 :  (10,)\n",
      "\n",
      "입력층 -> 은닉층\n",
      "(784,)  *  (784, 50)\n",
      "\n",
      "은닉층1 -> 은닉층 2\n",
      "(50,)  *  (50, 100)\n",
      "\n",
      "은닉층2 -> 은닉층3\n",
      "(100,)  *  (100, 10)\n",
      "\n",
      "은닉층3 -> 출력층\n",
      "(10,)\n",
      "4.722437\n",
      "[0.00425427 0.04815251 0.0219804  0.1389664  0.99908686 0.90706533\n",
      " 0.39322525 0.43514013 0.8571234  0.9174423 ]\n",
      "\n",
      "계산 결과 추론된 숫자 :  4\n",
      "실제 정답 :  4\n"
     ]
    }
   ],
   "source": [
    "print(\"x : \", x[6].shape)\n",
    "print()\n",
    "print(\"W1 : \", network['W1'].shape)\n",
    "print(\"W2 : \", network['W2'].shape)\n",
    "print(\"W3 : \", network['W3'].shape)\n",
    "print()\n",
    "print(\"b1 : \", network['b1'].shape)\n",
    "print(\"b2 : \", network['b2'].shape)\n",
    "print(\"b3 : \", network['b3'].shape)\n",
    "print()\n",
    "\n",
    "# 입력층 -> 은닉층\n",
    "print(\"입력층 -> 은닉층\")\n",
    "print(x[6].shape, \" * \", network['W1'].shape)\n",
    "\n",
    "# 은닉층1 -> 은닉층 2\n",
    "print(\"\\n은닉층1 -> 은닉층 2\")\n",
    "r = np.dot(x[6],network['W1']) +  network['b1']\n",
    "r = sigmoid(r)\n",
    "print(r.shape, \" * \", network['W2'].shape)\n",
    "\n",
    "# 은닉층2 -> 은닉층3\n",
    "print(\"\\n은닉층2 -> 은닉층3\")\n",
    "r2 = np.dot(r,network['W2']) +  network['b2']\n",
    "r2 = sigmoid(r2)\n",
    "print(r2.shape, \" * \", network['W3'].shape)\n",
    "\n",
    "# 은닉층3 -> 출력층\n",
    "print(\"\\n은닉층3 -> 출력층\")\n",
    "r3 = np.dot(r2,network['W3']) +  network['b3']\n",
    "r3 = sigmoid(r3)\n",
    "print(r3.shape)\n",
    "print(np.sum(r3))\n",
    "print(r3)\n",
    "\n",
    "print(\"\\n계산 결과 추론된 숫자 : \", np.argmax(r3))\n",
    "\n",
    "label = t[6] # label은 0번째 이미지의 숫자값을 의미\n",
    "print(\"실제 정답 : \", label)"
   ]
  },
  {
   "cell_type": "markdown",
   "id": "954b8676-0542-403e-bd56-d03a76eb6d67",
   "metadata": {},
   "source": [
    "## 배치 크기를 늘려 계산하는 방식\n",
    "- 일반적으로 작은 배열을 여러번 계산하는 것 보다\n",
    "- 큰 배열을 한번에 계산하는게 컴퓨터 연산에 더 이점이 있다"
   ]
  },
  {
   "cell_type": "code",
   "execution_count": 46,
   "id": "bfdde144-9159-451c-b17d-d599c7e48ff1",
   "metadata": {},
   "outputs": [
    {
     "name": "stdout",
     "output_type": "stream",
     "text": [
      "\n",
      "Accuracy:0.9352\n"
     ]
    }
   ],
   "source": [
    "x, t = get_data()\n",
    "network = init_network()\n",
    "batch_size = 100 # 배치 크기\n",
    "accuracy_cnt = 0\n",
    "\n",
    "for i in range(0, len(x), batch_size):\n",
    "    x_batch = x[i:i+batch_size]\n",
    "    y_batch = predict(network, x_batch)\n",
    "    p = np.argmax(y_batch, axis=1)\n",
    "    accuracy_cnt += np.sum(p == t[i:i+batch_size])\n",
    "\n",
    "print(\"\\nAccuracy:\" + str(float(accuracy_cnt) / len(x)))"
   ]
  },
  {
   "cell_type": "markdown",
   "id": "60497b58-3d89-4c14-ae76-97c5ba89166b",
   "metadata": {},
   "source": [
    "## 전체를 한번에 계산 (행렬의 곱이 가능하게 피연산자의 행, 열의 개수를 맞추면 계산이 가능)"
   ]
  },
  {
   "cell_type": "code",
   "execution_count": 47,
   "id": "a1e89c43-99c5-4cfd-8648-b8ef1875f96b",
   "metadata": {},
   "outputs": [
    {
     "name": "stdout",
     "output_type": "stream",
     "text": [
      "Accuracy:0.9352\n"
     ]
    }
   ],
   "source": [
    "x, t = get_data()\n",
    "network = init_network()\n",
    "accuracy_cnt = 0\n",
    "\n",
    "x_batch = x\n",
    "y_batch = predict(network, x_batch)\n",
    "p = np.argmax(y_batch, axis=1)\n",
    "accuracy_cnt += np.sum(p == t)\n",
    "\n",
    "print(\"Accuracy:\" + str(float(accuracy_cnt) / len(x)))"
   ]
  },
  {
   "cell_type": "markdown",
   "id": "1b69ad05-9899-4973-afd9-c3d5434ed333",
   "metadata": {},
   "source": [
    "# **신경망 학습**\n",
    "- 손실 함수 (위에 작성)\n",
    "- 미니 배치 학습\n",
    "----"
   ]
  },
  {
   "cell_type": "markdown",
   "id": "afcf76e7-2d21-4634-85ca-18e3e89f21a5",
   "metadata": {},
   "source": [
    "## 손실 함수\n",
    "- 오차제곱합\n",
    "- 교차 엔트로피 오차"
   ]
  },
  {
   "cell_type": "code",
   "execution_count": 48,
   "id": "8422ff2e-bfe5-47e6-a5e2-cd1189fb6091",
   "metadata": {},
   "outputs": [],
   "source": [
    "def sum_squares_error(y, t):\n",
    "\treturn 0.5 * np.sum((y-t)**2)"
   ]
  },
  {
   "cell_type": "code",
   "execution_count": 49,
   "id": "68ca4a50-5d71-4672-b09d-098a5dfb56f7",
   "metadata": {},
   "outputs": [],
   "source": [
    "def cross_entropy_error(y, t):\n",
    "    delta = 1e-7\n",
    "    return -np.sum(t * np.log(y + delta))"
   ]
  },
  {
   "cell_type": "markdown",
   "id": "aa71b3c7-8ba1-43e2-8dc0-a80ebecee75b",
   "metadata": {},
   "source": [
    "## 미니 배치 학습"
   ]
  },
  {
   "cell_type": "code",
   "execution_count": 50,
   "id": "78ade8f4-3047-4dde-a43b-4699bf0e5539",
   "metadata": {},
   "outputs": [],
   "source": [
    "import numpy as np\n",
    "import matplotlib.pylab as plt\n",
    "import sys, os, pickle\n",
    "from PIL import Image\n",
    "sys.path.append(os.pardir)\n",
    "\n",
    "from dataset.mnist import load_mnist\n",
    "(x_train, t_train), (x_text, t_test) = load_mnist(normalize=True, one_hot_label=True)"
   ]
  },
  {
   "cell_type": "code",
   "execution_count": 51,
   "id": "602b5611-3046-460e-b795-869fc5925b41",
   "metadata": {},
   "outputs": [
    {
     "name": "stdout",
     "output_type": "stream",
     "text": [
      "[[0. 0. 0. ... 0. 0. 0.]\n",
      " [0. 0. 0. ... 0. 0. 0.]\n",
      " [0. 0. 0. ... 0. 0. 0.]\n",
      " ...\n",
      " [0. 0. 0. ... 0. 0. 0.]\n",
      " [0. 0. 0. ... 0. 0. 0.]\n",
      " [0. 0. 0. ... 0. 0. 0.]]\n",
      "----------------------------------------------------------------------------------\n",
      "[[0. 0. 0. 0. 0. 0. 0. 0. 1. 0.]\n",
      " [0. 0. 0. 0. 0. 0. 0. 0. 0. 1.]\n",
      " [0. 0. 0. 0. 0. 0. 0. 0. 1. 0.]\n",
      " [0. 0. 0. 0. 0. 0. 0. 0. 1. 0.]\n",
      " [0. 0. 1. 0. 0. 0. 0. 0. 0. 0.]\n",
      " [0. 0. 0. 0. 0. 0. 0. 0. 0. 1.]\n",
      " [0. 0. 0. 1. 0. 0. 0. 0. 0. 0.]\n",
      " [0. 0. 0. 1. 0. 0. 0. 0. 0. 0.]\n",
      " [0. 0. 1. 0. 0. 0. 0. 0. 0. 0.]\n",
      " [0. 0. 0. 0. 1. 0. 0. 0. 0. 0.]]\n"
     ]
    }
   ],
   "source": [
    "train_size = x_train.shape[0]\n",
    "batch_size = 10\n",
    "batch_mask = np.random.choice(train_size, batch_size) # np.random.choice(number, amount) number에서 amount만큼 랜덤 뽑기\n",
    "x_batch = x_train[batch_mask]\n",
    "t_batch = t_train[batch_mask]\n",
    "print(x_batch)\n",
    "print(\"----------------------------------------------------------------------------------\")\n",
    "print(t_batch)"
   ]
  },
  {
   "cell_type": "code",
   "execution_count": 52,
   "id": "89b11782-cbdd-409b-a877-5c3e201679e0",
   "metadata": {},
   "outputs": [],
   "source": [
    "def cross_entropy_error2(y, t):\n",
    "    if y.ndim == 1:\n",
    "        t = t.reshape(1, t.size)\n",
    "        y = y.reshape(1, y.size)\n",
    "\n",
    "    delta = 1e-7\n",
    "    batch_size = y.shape[0]\n",
    "    return -np.sum(t * np.log(y + delta)) / batch_size"
   ]
  },
  {
   "cell_type": "markdown",
   "id": "cac3b02b-aa97-45ad-b317-73cd4e0f6bf1",
   "metadata": {},
   "source": [
    "# **수치 미분**\n",
    "----"
   ]
  },
  {
   "cell_type": "code",
   "execution_count": 53,
   "id": "9733e212-3d37-4205-9bd7-9913fcd3f09e",
   "metadata": {},
   "outputs": [],
   "source": [
    "import numpy as np\n",
    "import matplotlib.pylab as plt"
   ]
  },
  {
   "cell_type": "code",
   "execution_count": 54,
   "id": "93789c6a-a016-43b3-b81e-4e675e63ef62",
   "metadata": {},
   "outputs": [],
   "source": [
    "def numerical_diff(f, x):\n",
    "    h = 1e-4\n",
    "    return (f(x+h) - f(x-h)) / (2*h)"
   ]
  },
  {
   "cell_type": "code",
   "execution_count": 55,
   "id": "3b819641-993e-46ad-8d1a-546f6d098b7f",
   "metadata": {},
   "outputs": [],
   "source": [
    "def function_1(x):\n",
    "    return 0.01*x**2 + 0.1*x"
   ]
  },
  {
   "cell_type": "code",
   "execution_count": 56,
   "id": "2e3e1912-1ada-4fea-8cf2-aec2021c02cf",
   "metadata": {},
   "outputs": [
    {
     "data": {
      "image/png": "[encoded data removed]",
      "text/plain": [
       "<Figure size 640x480 with 1 Axes>"
      ]
     },
     "metadata": {},
     "output_type": "display_data"
    }
   ],
   "source": [
    "x = np.arange(0., 20, 0.1)\n",
    "y = function_1(x)\n",
    "plt.xlabel(\"X\")\n",
    "plt.ylabel(\"f(x)\")\n",
    "plt.plot(x, y)\n",
    "plt.show()"
   ]
  },
  {
   "cell_type": "code",
   "execution_count": 57,
   "id": "875790ed-ba39-40f0-bbca-18bbd8f838da",
   "metadata": {},
   "outputs": [
    {
     "name": "stdout",
     "output_type": "stream",
     "text": [
      "-0.0999999999995449\n"
     ]
    }
   ],
   "source": [
    "print(numerical_diff(function_1, -10))"
   ]
  },
  {
   "cell_type": "code",
   "execution_count": 58,
   "id": "b07bf6b3-c191-4324-bbaa-2586864af733",
   "metadata": {},
   "outputs": [
    {
     "name": "stdout",
     "output_type": "stream",
     "text": [
      "0.2999999999986347\n"
     ]
    }
   ],
   "source": [
    "print(numerical_diff(function_1, 10))"
   ]
  },
  {
   "cell_type": "code",
   "execution_count": null,
   "id": "8c481550-87a5-4501-8491-d268ae00eeb4",
   "metadata": {},
   "outputs": [],
   "source": []
  },
  {
   "cell_type": "code",
   "execution_count": null,
   "id": "b456e742-017b-4534-b1eb-b83d30d7c450",
   "metadata": {},
   "outputs": [],
   "source": []
  }
 ],
 "metadata": {
  "kernelspec": {
   "display_name": "Python 3 (ipykernel)",
   "language": "python",
   "name": "python3"
  },
  "language_info": {
   "codemirror_mode": {
    "name": "ipython",
    "version": 3
   },
   "file_extension": ".py",
   "mimetype": "text/x-python",
   "name": "python",
   "nbconvert_exporter": "python",
   "pygments_lexer": "ipython3",
   "version": "3.11.7"
  }
 },
 "nbformat": 4,
 "nbformat_minor": 5
}
