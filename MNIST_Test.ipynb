{
 "cells": [
  {
   "cell_type": "markdown",
   "id": "27dde742-a1da-4d48-80fb-11bc17dc33f0",
   "metadata": {},
   "source": [
    "## MNIST 테스트 및 미니배치 학습 해보기"
   ]
  },
  {
   "cell_type": "code",
   "execution_count": 3,
   "id": "3ca4f15a-d5da-42da-90c1-44936f3665b8",
   "metadata": {
    "scrolled": true
   },
   "outputs": [
    {
     "name": "stdout",
     "output_type": "stream",
     "text": [
      "(60000, 784)\n",
      "(60000,)\n",
      "(10000, 784)\n",
      "(10000,)\n"
     ]
    }
   ],
   "source": [
    "import numpy as np\n",
    "import matplotlib.pylab as plt\n",
    "import sys, os, pickle\n",
    "from PIL import Image\n",
    "sys.path.append(os.pardir)\n",
    "from dataset.mnist import load_mnist\n",
    "\n",
    "(x_train, t_train), (x_text, t_test) = \\\n",
    "    load_mnist(flatten=True, normalize=False)\n",
    "\n",
    "print(x_train.shape)\n",
    "print(t_train.shape)\n",
    "print(x_text.shape)\n",
    "print(t_test.shape)"
   ]
  },
  {
   "cell_type": "code",
   "execution_count": 4,
   "id": "bb364910-4b6f-458f-bbe6-fa60abc79d8b",
   "metadata": {},
   "outputs": [],
   "source": [
    "def sigmoid(x):\n",
    "    y = 1 / (1 + np.exp(-x))\n",
    "    return y"
   ]
  },
  {
   "cell_type": "code",
   "execution_count": 5,
   "id": "594559ca-e748-4694-8278-c20e86d51ab7",
   "metadata": {},
   "outputs": [],
   "source": [
    "def softmax(a):\n",
    "    c = np.max(a)\n",
    "    exp_a = np.exp(a - c)\n",
    "    sum_exp_a = np.sum(exp_a)\n",
    "    y = exp_a / sum_exp_a\n",
    "    return y"
   ]
  },
  {
   "cell_type": "code",
   "execution_count": 6,
   "id": "bde83204-8cba-4e44-9cd3-52622bf6e653",
   "metadata": {},
   "outputs": [],
   "source": [
    "def img_show(img):\n",
    "    pil_img = Image.fromarray(np.uint8(img))\n",
    "    pil_img.show()"
   ]
  },
  {
   "cell_type": "code",
   "execution_count": 7,
   "id": "f0083e64-8fc7-4a9f-8213-5aa483d1fb29",
   "metadata": {},
   "outputs": [
    {
     "name": "stdout",
     "output_type": "stream",
     "text": [
      "1\n"
     ]
    }
   ],
   "source": [
    "img = x_train[3] # img는 0번째 이미지의 행렬을 의미\n",
    "label = t_train[3] # label은 0번째 이미지의 숫자값을 의미\n",
    "print(label)"
   ]
  },
  {
   "cell_type": "code",
   "execution_count": 8,
   "id": "c0b186a8-853c-46b0-b0fb-1377c0c27b70",
   "metadata": {
    "scrolled": true
   },
   "outputs": [
    {
     "name": "stdout",
     "output_type": "stream",
     "text": [
      "(784,)\n",
      "(28, 28)\n"
     ]
    }
   ],
   "source": [
    "print(img.shape)\n",
    "img = img.reshape(28, 28)\n",
    "print(img.shape)\n",
    "img_show(img)"
   ]
  },
  {
   "cell_type": "code",
   "execution_count": null,
   "id": "42e655f9-0cae-42d8-b2b2-0dc34a663037",
   "metadata": {},
   "outputs": [],
   "source": []
  },
  {
   "cell_type": "markdown",
   "id": "6ada7513-1e71-4046-b509-ae28a62b8b71",
   "metadata": {},
   "source": [
    "# MNIST를 신경망을 이용하여 추론해보기"
   ]
  },
  {
   "cell_type": "code",
   "execution_count": 8,
   "id": "1e716d5a-0697-44fb-bdd1-20dc4e71c606",
   "metadata": {},
   "outputs": [],
   "source": [
    "def get_data():\n",
    "    (x_train, t_train), (x_test, t_test) = load_mnist(normalize=True, flatten=True, one_hot_label=False)\n",
    "    return x_test, t_test"
   ]
  },
  {
   "cell_type": "code",
   "execution_count": 9,
   "id": "6e3251de-10c8-42e7-ae17-b2fe89c34c52",
   "metadata": {},
   "outputs": [],
   "source": [
    "def init_network():\n",
    "    with open(\"sample_weight.pkl\", 'rb') as f:\n",
    "        network = pickle.load(f)\n",
    "    return network\n"
   ]
  },
  {
   "cell_type": "code",
   "execution_count": 10,
   "id": "0ce0c113-a914-4560-b6b7-c442ae036e86",
   "metadata": {},
   "outputs": [],
   "source": [
    "def predict(network, x):\n",
    "    W1, W2, W3 = network['W1'], network['W2'], network['W3']\n",
    "    b1, b2, b3 = network['b1'], network['b2'], network['b3']\n",
    "\n",
    "    a1 = np.dot(x, W1) + b1\n",
    "    z1 = sigmoid(a1)\n",
    "    a2 = np.dot(z1, W2) + b2\n",
    "    z2 = sigmoid(a2)\n",
    "    a3 = np.dot(z2, W3) + b3\n",
    "    y = softmax(a3)\n",
    "\n",
    "\n",
    "    return y"
   ]
  },
  {
   "cell_type": "code",
   "execution_count": 11,
   "id": "aeb50e8d-1059-45b2-af77-bcdceaf50beb",
   "metadata": {},
   "outputs": [
    {
     "name": "stdout",
     "output_type": "stream",
     "text": [
      "Accuracy:0.9352\n"
     ]
    }
   ],
   "source": [
    "x, t = get_data()\n",
    "network = init_network()\n",
    "\n",
    "accuracy_cnt = 0\n",
    "for i in range(len(x)):\n",
    "    y = predict(network, x[i]) # 이미 정의된 피라미터 network와 i번째 이미지의 행렬값을 보내준다.\n",
    "    p= np.argmax(y) # 확률이 가장 높은 원소의 인덱스를 얻는다.\n",
    "    if p == t[i]: # 가장 높은 확률의 숫자가 현재 정답과 일치하면 카운트를 한다\n",
    "        accuracy_cnt += 1\n",
    "\n",
    "print(\"Accuracy:\" + str(float(accuracy_cnt) / len(x)))"
   ]
  },
  {
   "cell_type": "markdown",
   "id": "a87f78b2-3702-4007-ba5f-5d77bf3f4e27",
   "metadata": {},
   "source": [
    "### 실제 과정을 수동으로 계산하기"
   ]
  },
  {
   "cell_type": "code",
   "execution_count": 12,
   "id": "b728fba4-f5a3-4328-8da2-dd381096e2f1",
   "metadata": {},
   "outputs": [
    {
     "name": "stdout",
     "output_type": "stream",
     "text": [
      "x :  (784,)\n",
      "\n",
      "W1 :  (784, 50)\n",
      "W2 :  (50, 100)\n",
      "W3 :  (100, 10)\n",
      "\n",
      "b1 :  (50,)\n",
      "b2 :  (100,)\n",
      "b3 :  (10,)\n",
      "\n",
      "입력층 -> 은닉층\n",
      "(784,)  *  (784, 50)\n",
      "\n",
      "은닉층1 -> 은닉층 2\n",
      "(50,)  *  (50, 100)\n",
      "\n",
      "은닉층2 -> 은닉층3\n",
      "(100,)  *  (100, 10)\n",
      "\n",
      "은닉층3 -> 출력층\n",
      "(10,)\n",
      "4.722437\n",
      "[0.00425427 0.04815251 0.0219804  0.1389664  0.99908686 0.90706533\n",
      " 0.39322525 0.43514013 0.8571234  0.9174423 ]\n",
      "\n",
      "계산 결과 추론된 숫자 :  4\n",
      "실제 정답 :  4\n"
     ]
    }
   ],
   "source": [
    "print(\"x : \", x[6].shape)\n",
    "print()\n",
    "print(\"W1 : \", network['W1'].shape)\n",
    "print(\"W2 : \", network['W2'].shape)\n",
    "print(\"W3 : \", network['W3'].shape)\n",
    "print()\n",
    "print(\"b1 : \", network['b1'].shape)\n",
    "print(\"b2 : \", network['b2'].shape)\n",
    "print(\"b3 : \", network['b3'].shape)\n",
    "print()\n",
    "\n",
    "# 입력층 -> 은닉층\n",
    "print(\"입력층 -> 은닉층\")\n",
    "print(x[6].shape, \" * \", network['W1'].shape)\n",
    "\n",
    "# 은닉층1 -> 은닉층 2\n",
    "print(\"\\n은닉층1 -> 은닉층 2\")\n",
    "r = np.dot(x[6],network['W1']) +  network['b1']\n",
    "r = sigmoid(r)\n",
    "print(r.shape, \" * \", network['W2'].shape)\n",
    "\n",
    "# 은닉층2 -> 은닉층3\n",
    "print(\"\\n은닉층2 -> 은닉층3\")\n",
    "r2 = np.dot(r,network['W2']) +  network['b2']\n",
    "r2 = sigmoid(r2)\n",
    "print(r2.shape, \" * \", network['W3'].shape)\n",
    "\n",
    "# 은닉층3 -> 출력층\n",
    "print(\"\\n은닉층3 -> 출력층\")\n",
    "r3 = np.dot(r2,network['W3']) +  network['b3']\n",
    "r3 = sigmoid(r3)\n",
    "print(r3.shape)\n",
    "print(np.sum(r3))\n",
    "print(r3)\n",
    "\n",
    "print(\"\\n계산 결과 추론된 숫자 : \", np.argmax(r3))\n",
    "\n",
    "label = t[6] # label은 0번째 이미지의 숫자값을 의미\n",
    "print(\"실제 정답 : \", label)"
   ]
  },
  {
   "cell_type": "markdown",
   "id": "1fd7f681-952c-4867-b2d4-0bdb0abcf2bc",
   "metadata": {},
   "source": [
    "## 배치 크기를 늘려 계산하는 방식\n",
    "- 일반적으로 작은 배열을 여러번 계산하는 것 보다\n",
    "- 큰 배열을 한번에 계산하는게 컴퓨터 연산에 더 이점이 있다"
   ]
  },
  {
   "cell_type": "code",
   "execution_count": 13,
   "id": "15114e2b-0ad9-46ec-b225-f52b9e1c9d2f",
   "metadata": {},
   "outputs": [
    {
     "name": "stdout",
     "output_type": "stream",
     "text": [
      "\n",
      "Accuracy:0.9352\n"
     ]
    }
   ],
   "source": [
    "x, t = get_data()\n",
    "network = init_network()\n",
    "batch_size = 100 # 배치 크기\n",
    "accuracy_cnt = 0\n",
    "\n",
    "for i in range(0, len(x), batch_size):\n",
    "    x_batch = x[i:i+batch_size]\n",
    "    y_batch = predict(network, x_batch)\n",
    "    p = np.argmax(y_batch, axis=1)\n",
    "    accuracy_cnt += np.sum(p == t[i:i+batch_size])\n",
    "\n",
    "print(\"\\nAccuracy:\" + str(float(accuracy_cnt) / len(x)))"
   ]
  },
  {
   "cell_type": "markdown",
   "id": "3d69a83b-36ad-45a1-b0b4-7b52559d02ba",
   "metadata": {},
   "source": [
    "### 전체를 한번에 계산 (행렬의 곱이 가능하게 피연산자의 행, 열의 개수를 맞추면 계산이 가능)"
   ]
  },
  {
   "cell_type": "code",
   "execution_count": 14,
   "id": "80284a4c-1cff-47bf-beab-24b56159a6f7",
   "metadata": {},
   "outputs": [
    {
     "name": "stdout",
     "output_type": "stream",
     "text": [
      "Accuracy:0.9352\n"
     ]
    }
   ],
   "source": [
    "x, t = get_data()\n",
    "network = init_network()\n",
    "accuracy_cnt = 0\n",
    "\n",
    "x_batch = x\n",
    "y_batch = predict(network, x_batch)\n",
    "p = np.argmax(y_batch, axis=1)\n",
    "accuracy_cnt += np.sum(p == t)\n",
    "\n",
    "print(\"Accuracy:\" + str(float(accuracy_cnt) / len(x)))"
   ]
  },
  {
   "cell_type": "code",
   "execution_count": null,
   "id": "62fd221f-c969-42bd-9b13-ba3e86655488",
   "metadata": {},
   "outputs": [],
   "source": []
  },
  {
   "cell_type": "code",
   "execution_count": null,
   "id": "62b0daa3-ce21-448e-96cd-ed622dd782b2",
   "metadata": {},
   "outputs": [],
   "source": []
  },
  {
   "cell_type": "code",
   "execution_count": null,
   "id": "7d1fd2ab-7863-4530-9f8a-02d34199e008",
   "metadata": {},
   "outputs": [],
   "source": []
  },
  {
   "cell_type": "code",
   "execution_count": null,
   "id": "67c8b110-aa4b-4338-9ade-ce6ec0bcc54c",
   "metadata": {},
   "outputs": [],
   "source": []
  },
  {
   "cell_type": "code",
   "execution_count": null,
   "id": "be3af077-0406-4534-9cf0-af54808488a6",
   "metadata": {},
   "outputs": [],
   "source": []
  },
  {
   "cell_type": "code",
   "execution_count": null,
   "id": "9b7cce23-287d-4201-8d8b-09a47b076a9d",
   "metadata": {},
   "outputs": [],
   "source": []
  },
  {
   "cell_type": "code",
   "execution_count": null,
   "id": "c3a37baf-4afd-4d00-a61d-63a395f957bd",
   "metadata": {},
   "outputs": [],
   "source": []
  },
  {
   "cell_type": "code",
   "execution_count": null,
   "id": "9fb8fd25-3d02-4da2-90d5-71045c14aa3c",
   "metadata": {},
   "outputs": [],
   "source": []
  },
  {
   "cell_type": "code",
   "execution_count": null,
   "id": "c23803a5-24ad-47e9-8e7a-1b6e45f11934",
   "metadata": {},
   "outputs": [],
   "source": []
  }
 ],
 "metadata": {
  "kernelspec": {
   "display_name": "Python 3 (ipykernel)",
   "language": "python",
   "name": "python3"
  },
  "language_info": {
   "codemirror_mode": {
    "name": "ipython",
    "version": 3
   },
   "file_extension": ".py",
   "mimetype": "text/x-python",
   "name": "python",
   "nbconvert_exporter": "python",
   "pygments_lexer": "ipython3",
   "version": "3.11.7"
  }
 },
 "nbformat": 4,
 "nbformat_minor": 5
}
