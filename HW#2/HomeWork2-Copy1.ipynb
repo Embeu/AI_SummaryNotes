{
 "cells": [
  {
   "cell_type": "markdown",
   "id": "512447ed-ca6f-4d09-bf72-ab84587f7798",
   "metadata": {},
   "source": [
    "# ◇ 라이브러리 설정 numpy, maplotlib"
   ]
  },
  {
   "cell_type": "code",
   "execution_count": 2,
   "id": "703a29df-fcf6-41e2-a7f6-8f9123a1d087",
   "metadata": {
    "scrolled": true
   },
   "outputs": [],
   "source": [
    "import sys, os\n",
    "sys.path.append(os.pardir)  # 부모 디렉터리의 파일을 가져올 수 있도록 설정\n",
    "import pickle\n",
    "import numpy as np\n",
    "import matplotlib.pyplot as plt\n",
    "from collections import OrderedDict"
   ]
  },
  {
   "cell_type": "markdown",
   "id": "3b6385ba",
   "metadata": {},
   "source": [
    "# ◇ Fashion-MNIST 데이터 가져오기\n",
    "- ### https://github.com/zalandoresearch/fashion-mnist/tree/master/data/fashion\n",
    "- ### 깃허브에서 받은 4개의 .gz 데이터 파일을 가져오기 위해 gzip라이브러리를 import\n",
    "- ### 데이터를 불러오는 함수를 정의하고, 경로를 설정\n",
    "- ### 실제 가져오는 코드는 아래쪽 학습하기 전에 가져옴"
   ]
  },
  {
   "cell_type": "code",
   "execution_count": 3,
   "id": "6332f0b1",
   "metadata": {},
   "outputs": [],
   "source": [
    "import gzip\n",
    "def load_mnist_images(filename):\n",
    "    with gzip.open(filename, 'rb') as f:\n",
    "        # 파일에서 데이터를 읽어 들입니다.\n",
    "        data = f.read()\n",
    "        # 이미지는 16바이트 헤더를 가지고 있으므로, 이를 건너뛰고 나머지 데이터를 읽어옵니다.\n",
    "        images = np.frombuffer(data, np.uint8, offset=16)\n",
    "        # 이미지를 (num_samples, 28, 28) 형식으로 재구성합니다.\n",
    "        images = images.reshape(-1, 1, 28, 28)\n",
    "    return images\n",
    "\n",
    "def load_mnist_labels(filename):\n",
    "    with gzip.open(filename, 'rb') as f:\n",
    "        # 파일에서 데이터를 읽어 들입니다.\n",
    "        data = f.read()\n",
    "        # 레이블은 8바이트 헤더를 가지고 있으므로, 이를 건너뛰고 나머지 데이터를 읽어옵니다.\n",
    "        labels = np.frombuffer(data, np.uint8, offset=8)\n",
    "    return labels\n",
    "\n",
    "# 파일 경로를 설정합니다.\n",
    "train_images_path = 'Fashion-MNIST/train-images-idx3-ubyte.gz'\n",
    "train_labels_path = 'Fashion-MNIST/train-labels-idx1-ubyte.gz'\n",
    "test_images_path = 'Fashion-MNIST/t10k-images-idx3-ubyte.gz'\n",
    "test_labels_path = 'Fashion-MNIST/t10k-labels-idx1-ubyte.gz'"
   ]
  },
  {
   "attachments": {
    "8d7f22dd-1fe5-4f25-9a13-ed54f875196f.png": {
     "image/png": "[encoded data removed]"
    }
   },
   "cell_type": "markdown",
   "id": "f203ffeb-9f3c-4afb-99c2-ff7548439c2f",
   "metadata": {},
   "source": [
    "# ◇ 계층 클래스 Affine\n",
    "#### Affine클래스는 해당 부분을 저장\n",
    "![image.png](attachment:8d7f22dd-1fe5-4f25-9a13-ed54f875196f.png)"
   ]
  },
  {
   "cell_type": "code",
   "execution_count": 4,
   "id": "416b1d0a-13ea-44e5-9bdc-a7dbcbae826b",
   "metadata": {},
   "outputs": [],
   "source": [
    "class Affine:\n",
    "    def __init__(self, W, b):\n",
    "        self.W = W\n",
    "        self.b = b\n",
    "        \n",
    "        self.x = None\n",
    "        self.original_x_shape = None\n",
    "        # 가중치와 편향 매개변수의 미분\n",
    "        self.dW = None\n",
    "        self.db = None\n",
    "\n",
    "    def forward(self, x):\n",
    "        # 텐서 대응\n",
    "        self.original_x_shape = x.shape\n",
    "        x = x.reshape(x.shape[0], -1)\n",
    "        self.x = x\n",
    "\n",
    "        #print(self.x.shape, self.W.shape)\n",
    "        out = np.dot(self.x, self.W) + self.b\n",
    "\n",
    "        return out\n",
    "\n",
    "    def backward(self, dout):\n",
    "        dx = np.dot(dout, self.W.T)\n",
    "        self.dW = np.dot(self.x.T, dout)\n",
    "        self.db = np.sum(dout, axis=0)\n",
    "        \n",
    "        dx = dx.reshape(*self.original_x_shape)  # 입력 데이터 모양 변경(텐서 대응)\n",
    "        return dx"
   ]
  },
  {
   "cell_type": "markdown",
   "id": "0f833bc6-a684-4aae-bfe6-1dc5eb1deea7",
   "metadata": {},
   "source": [
    "# ◇ 활성화 함수 Relu, softmax\n",
    "# ◇ 손실 함수 cross_entropy_error (교차 엔트로피 오차)\n",
    "# ◇ 수치미분-기울기 numerical_gradient\n",
    "# ◇ 출력층 클래스 -> 소프트맥스, 손실 함수 값을 계산-저장 SoftmaxWithLoss"
   ]
  },
  {
   "attachments": {
    "bd1cf732-a572-423f-b55b-73b2ffe87b4d.png": {
     "image/png": "[encoded data removed]"
    }
   },
   "cell_type": "markdown",
   "id": "5b826560-ed44-4924-a0b6-505c35fdb261",
   "metadata": {},
   "source": [
    "----\n",
    "#### class Relu는 해당 부분을 저장\n",
    "![image.png](attachment:bd1cf732-a572-423f-b55b-73b2ffe87b4d.png)"
   ]
  },
  {
   "cell_type": "code",
   "execution_count": 5,
   "id": "900abb2e-bfb9-445b-a126-c27b6a04fc56",
   "metadata": {},
   "outputs": [],
   "source": [
    "# Relu 활성화 함수 순전파, 역전파를 저장하는 클래스\n",
    "class Relu:\n",
    "    def __init__(self):\n",
    "        self.mask = None\n",
    "\n",
    "    def forward(self, x):\n",
    "        self.mask = (x <= 0)\n",
    "        out = x.copy()\n",
    "        out[self.mask] = 0\n",
    "\n",
    "        return out\n",
    "\n",
    "    def backward(self, dout):\n",
    "        dout[self.mask] = 0\n",
    "        dx = dout\n",
    "\n",
    "        return dx"
   ]
  },
  {
   "cell_type": "code",
   "execution_count": 6,
   "id": "0269eb61-553f-439e-a374-83fc8f58d409",
   "metadata": {},
   "outputs": [],
   "source": [
    "def softmax(x):\n",
    "    if x.ndim == 2:\n",
    "        x = x.T\n",
    "        x = x - np.max(x, axis=0)\n",
    "        y = np.exp(x) / np.sum(np.exp(x), axis=0)\n",
    "        return y.T \n",
    "\n",
    "    x = x - np.max(x) # 오버플로 대책\n",
    "    return np.exp(x) / np.sum(np.exp(x))"
   ]
  },
  {
   "cell_type": "code",
   "execution_count": 7,
   "id": "b7b8e697-02c5-4dfe-b1ae-58b68d3a9c41",
   "metadata": {},
   "outputs": [],
   "source": [
    "def cross_entropy_error(y, t):\n",
    "    if y.ndim == 1:\n",
    "        t = t.reshape(1, t.size)\n",
    "        y = y.reshape(1, y.size)\n",
    "        \n",
    "    if t.size == y.size:\n",
    "        t = t.argmax(axis=1)\n",
    "             \n",
    "    batch_size = y.shape[0]\n",
    "    return -np.sum(np.log(y[np.arange(batch_size), t] + 1e-7)) / batch_size"
   ]
  },
  {
   "cell_type": "code",
   "execution_count": 8,
   "id": "03e460e1-bfc6-4a06-818b-02c9051cf088",
   "metadata": {},
   "outputs": [],
   "source": [
    "def numerical_gradient(f, x):\n",
    "    h = 1e-4 # 0.0001\n",
    "    grad = np.zeros_like(x)\n",
    "    \n",
    "    it = np.nditer(x, flags=['multi_index'], op_flags=['readwrite'])\n",
    "    while not it.finished:\n",
    "        idx = it.multi_index\n",
    "        tmp_val = x[idx]\n",
    "        x[idx] = float(tmp_val) + h\n",
    "        fxh1 = f(x) # f(x+h)\n",
    "        \n",
    "        x[idx] = tmp_val - h \n",
    "        fxh2 = f(x) # f(x-h)\n",
    "        grad[idx] = (fxh1 - fxh2) / (2*h)\n",
    "        \n",
    "        x[idx] = tmp_val # 값 복원\n",
    "        it.iternext()   \n",
    "        \n",
    "    return grad"
   ]
  },
  {
   "cell_type": "code",
   "execution_count": 9,
   "id": "161c7d2d-c4cc-4ce3-89c3-5ceac9417267",
   "metadata": {},
   "outputs": [],
   "source": [
    "class SoftmaxWithLoss:\n",
    "    def __init__(self):\n",
    "        self.loss = None # 손실함수\n",
    "        self.y = None    # softmax의 출력\n",
    "        self.t = None    # 정답 레이블(원-핫 인코딩 형태)\n",
    "        \n",
    "    def forward(self, x, t):\n",
    "        self.t = t\n",
    "        self.y = softmax(x)\n",
    "        self.loss = cross_entropy_error(self.y, self.t)\n",
    "        \n",
    "        return self.loss\n",
    "\n",
    "    def backward(self, dout=1):\n",
    "        batch_size = self.t.shape[0]\n",
    "        if self.t.size == self.y.size: # 정답 레이블이 원-핫 인코딩 형태일 때\n",
    "            dx = (self.y - self.t) / batch_size\n",
    "        else:\n",
    "            dx = self.y.copy()\n",
    "            dx[np.arange(batch_size), self.t] -= 1\n",
    "            dx = dx / batch_size\n",
    "        \n",
    "        return dx"
   ]
  },
  {
   "cell_type": "markdown",
   "id": "2537370a-1915-42f0-9c91-f5cc11998fc8",
   "metadata": {},
   "source": [
    "# ◇ 최적화 함수 SGD, Momentum, AdaGrad"
   ]
  },
  {
   "cell_type": "code",
   "execution_count": 10,
   "id": "30cb3c94-71ab-480f-ad5c-911166b74ffc",
   "metadata": {},
   "outputs": [],
   "source": [
    "class SGD:\n",
    "    def __init__(self, Ir=0.01):\n",
    "        self.Ir =Ir\n",
    "\n",
    "    def update(self, params, grads):\n",
    "        for key in params.keys():\n",
    "            params[key] -= self.Ir * grads[key]"
   ]
  },
  {
   "cell_type": "code",
   "execution_count": 11,
   "id": "0f0c4a9c-4131-4946-962d-154d22eddf8b",
   "metadata": {},
   "outputs": [],
   "source": [
    "class Momentum:\n",
    "    def __init__(self, lr=0.01, momentum=0.9):\n",
    "        self.lr = lr\n",
    "        self.momentum = momentum\n",
    "        self.v = None\n",
    "\n",
    "    def update(self, params, grads):\n",
    "        if self.v is None:\n",
    "            self.v = {}\n",
    "            for key, val in params.items():\n",
    "                self.v[key] = np.zeros_like(val)\n",
    "\n",
    "        for key in params.keys():\n",
    "            self.v[key] = self.momentum * self.v[key] - self.lr * grads[key]\n",
    "            params[key] += self.v[key]"
   ]
  },
  {
   "cell_type": "code",
   "execution_count": 12,
   "id": "df7ccc05-fa98-4a9a-8e0a-adf50ac4d2d3",
   "metadata": {},
   "outputs": [],
   "source": [
    "class AdaGrad:\n",
    "    def __init__ (self, Ir=0.005):\n",
    "        self.Ir =Ir\n",
    "        self.h = None\n",
    "        \n",
    "    def update(self, params, grads):\n",
    "        if self.h is None:\n",
    "            self.h = {}\n",
    "            for key, val in params.items():\n",
    "                self.h[key] = np.zeros_like(val)\n",
    "\n",
    "        for key in params.keys() :\n",
    "            self.h[key] += grads[key] * grads[key]\n",
    "            params[key] -= self.Ir * grads[key] / (np.sqrt(self.h[key]) + 1e-7)\n"
   ]
  },
  {
   "cell_type": "markdown",
   "id": "705ad2f6-185b-4724-a432-2e4638118105",
   "metadata": {},
   "source": [
    "# ◇  배치 정규화 클래스"
   ]
  },
  {
   "cell_type": "code",
   "execution_count": 13,
   "id": "e592201f-c9dc-49a6-a6d9-3f52dad159bf",
   "metadata": {},
   "outputs": [],
   "source": [
    "class BatchNormalization:\n",
    "    \"\"\"\n",
    "    http://arxiv.org/abs/1502.03167\n",
    "    \"\"\"\n",
    "    def __init__(self, gamma=1, beta=0, momentum=0.9, running_mean=None, running_var=None):\n",
    "        self.gamma = gamma\n",
    "        self.beta = beta\n",
    "        self.momentum = momentum\n",
    "        self.input_shape = None # 합성곱 계층은 4차원, 완전연결 계층은 2차원  \n",
    "\n",
    "        # 시험할 때 사용할 평균과 분산\n",
    "        self.running_mean = running_mean\n",
    "        self.running_var = running_var  \n",
    "        \n",
    "        # backward 시에 사용할 중간 데이터\n",
    "        self.batch_size = None\n",
    "        self.xc = None\n",
    "        self.std = None\n",
    "        self.dgamma = None\n",
    "        self.dbeta = None\n",
    "\n",
    "    def forward(self, x, train_flg=True):\n",
    "        self.input_shape = x.shape\n",
    "        if x.ndim != 2:\n",
    "            N, C, H, W = x.shape\n",
    "            x = x.reshape(N, -1)\n",
    "\n",
    "        out = self.__forward(x, train_flg)\n",
    "        \n",
    "        return out.reshape(*self.input_shape)\n",
    "            \n",
    "    def __forward(self, x, train_flg):\n",
    "        if self.running_mean is None:\n",
    "            N, D = x.shape\n",
    "            self.running_mean = np.zeros(D)\n",
    "            self.running_var = np.zeros(D)\n",
    "                        \n",
    "        if train_flg:\n",
    "            mu = x.mean(axis=0)\n",
    "            xc = x - mu\n",
    "            var = np.mean(xc**2, axis=0)\n",
    "            std = np.sqrt(var + 10e-7)\n",
    "            xn = xc / std\n",
    "            \n",
    "            self.batch_size = x.shape[0]\n",
    "            self.xc = xc\n",
    "            self.xn = xn\n",
    "            self.std = std\n",
    "            self.running_mean = self.momentum * self.running_mean + (1-self.momentum) * mu\n",
    "            self.running_var = self.momentum * self.running_var + (1-self.momentum) * var            \n",
    "        else:\n",
    "            xc = x - self.running_mean\n",
    "            xn = xc / ((np.sqrt(self.running_var + 10e-7)))\n",
    "            \n",
    "        out = self.gamma * xn + self.beta \n",
    "        return out\n",
    "\n",
    "    def backward(self, dout):\n",
    "        if dout.ndim != 2:\n",
    "            N, C, H, W = dout.shape\n",
    "            dout = dout.reshape(N, -1)\n",
    "\n",
    "        dx = self.__backward(dout)\n",
    "\n",
    "        dx = dx.reshape(*self.input_shape)\n",
    "        return dx\n",
    "\n",
    "    def __backward(self, dout):\n",
    "        dbeta = dout.sum(axis=0)\n",
    "        dgamma = np.sum(self.xn * dout, axis=0)\n",
    "        dxn = self.gamma * dout\n",
    "        dxc = dxn / self.std\n",
    "        dstd = -np.sum((dxn * self.xc) / (self.std * self.std), axis=0)\n",
    "        dvar = 0.5 * dstd / self.std\n",
    "        dxc += (2.0 / self.batch_size) * self.xc * dvar\n",
    "        dmu = np.sum(dxc, axis=0)\n",
    "        dx = dxc - dmu / self.batch_size\n",
    "        \n",
    "        self.dgamma = dgamma\n",
    "        self.dbeta = dbeta\n",
    "        \n",
    "        return dx"
   ]
  },
  {
   "cell_type": "markdown",
   "id": "91626951",
   "metadata": {},
   "source": [
    "# ◇ CNN im2col, col2im함수"
   ]
  },
  {
   "cell_type": "code",
   "execution_count": 14,
   "id": "61f7c6d5",
   "metadata": {},
   "outputs": [],
   "source": [
    "def im2col(input_data, filter_h, filter_w, stride=1, pad=0):\n",
    "    \"\"\"다수의 이미지를 입력받아 2차원 배열로 변환한다(평탄화).\n",
    "    \n",
    "    Parameters\n",
    "    ----------\n",
    "    input_data : 4차원 배열 형태의 입력 데이터(이미지 수, 채널 수, 높이, 너비)\n",
    "    filter_h : 필터의 높이\n",
    "    filter_w : 필터의 너비\n",
    "    stride : 스트라이드\n",
    "    pad : 패딩\n",
    "    \n",
    "    Returns\n",
    "    -------\n",
    "    col : 2차원 배열\n",
    "    \"\"\"\n",
    "    \n",
    "    # 행렬의 차원을 가져옴\n",
    "    N, C, H, W = input_data.shape\n",
    "    \n",
    "    # 그 행렬과 필터를 계산했을 때 나오는 사이즈를 계산\n",
    "    out_h = (H + 2*pad - filter_h)//stride + 1\n",
    "    out_w = (W + 2*pad - filter_w)//stride + 1\n",
    "    \n",
    "    # 패딩 적용\n",
    "    img = np.pad(input_data, [(0,0), (0,0), (pad, pad), (pad, pad)], 'constant')\n",
    "    \n",
    "    # 출력 행렬 사이즈만큼 0으로 초기화\n",
    "    col = np.zeros((N, C, filter_h, filter_w, out_h, out_w))\n",
    "\n",
    "    \n",
    "    for y in range(filter_h):\n",
    "        # 현재 y번째에서 y(열)의 범위 지정\n",
    "        y_max = y + stride*out_h\n",
    "        for x in range(filter_w):\n",
    "            # 현재 x번째에서 x(행)의 범위 지정\n",
    "            x_max = x + stride*out_w\n",
    "            \n",
    "            # 입력에서 현재 열, 행부터 범위까지만큼 값을 col에 적용\n",
    "            col[:, :, y, x, :, :] = img[:, :, y:y_max:stride, x:x_max:stride]\n",
    "\n",
    "    # col을 2차원으로 변경 \n",
    "    # transpose - 정한 인덱스 순서로 변경? -> reshape - 차원 변경\n",
    "    col = col.transpose(0, 4, 5, 1, 2, 3).reshape(N*out_h*out_w, -1)\n",
    "    return col"
   ]
  },
  {
   "cell_type": "code",
   "execution_count": 15,
   "id": "380a2334",
   "metadata": {},
   "outputs": [],
   "source": [
    "def col2im(col, input_shape, filter_h, filter_w, stride=1, pad=0):\n",
    "    \"\"\"(im2col과 반대) 2차원 배열을 입력받아 다수의 이미지 묶음으로 변환한다.\n",
    "    \n",
    "    Parameters\n",
    "    ----------\n",
    "    col : 2차원 배열(입력 데이터)\n",
    "    input_shape : 원래 이미지 데이터의 형상（예：(10, 1, 28, 28)）\n",
    "    filter_h : 필터의 높이\n",
    "    filter_w : 필터의 너비\n",
    "    stride : 스트라이드\n",
    "    pad : 패딩\n",
    "    \n",
    "    Returns\n",
    "    -------\n",
    "    img : 변환된 이미지들\n",
    "    \"\"\"\n",
    "    N, C, H, W = input_shape\n",
    "    out_h = (H + 2*pad - filter_h)//stride + 1\n",
    "    out_w = (W + 2*pad - filter_w)//stride + 1\n",
    "    col = col.reshape(N, out_h, out_w, C, filter_h, filter_w).transpose(0, 3, 4, 5, 1, 2)\n",
    "\n",
    "    img = np.zeros((N, C, H + 2*pad + stride - 1, W + 2*pad + stride - 1))\n",
    "    for y in range(filter_h):\n",
    "        y_max = y + stride*out_h\n",
    "        for x in range(filter_w):\n",
    "            x_max = x + stride*out_w\n",
    "            img[:, :, y:y_max:stride, x:x_max:stride] += col[:, :, y, x, :, :]\n",
    "\n",
    "    return img[:, :, pad:H + pad, pad:W + pad]\n"
   ]
  },
  {
   "cell_type": "markdown",
   "id": "4c097414",
   "metadata": {},
   "source": [
    "# ◇ CNN, Pooling 계층"
   ]
  },
  {
   "cell_type": "code",
   "execution_count": 16,
   "id": "059cc87c",
   "metadata": {},
   "outputs": [],
   "source": [
    "class Convolution:\n",
    "    def __init__(self, W, b, stride=1, pad=0):\n",
    "        self.W = W\n",
    "        self.b = b\n",
    "        self.stride = stride\n",
    "        self.pad = pad\n",
    "        \n",
    "        # 중간 데이터（backward 시 사용）\n",
    "        self.x = None   \n",
    "        self.col = None\n",
    "        self.col_W = None\n",
    "        \n",
    "        # 가중치와 편향 매개변수의 기울기\n",
    "        self.dW = None\n",
    "        self.db = None\n",
    "\n",
    "    def forward(self, x):\n",
    "        FN, C, FH, FW = self.W.shape\n",
    "        N, C, H, W = x.shape\n",
    "        out_h = 1 + int((H + 2*self.pad - FH) / self.stride)\n",
    "        out_w = 1 + int((W + 2*self.pad - FW) / self.stride)\n",
    "\n",
    "        col = im2col(x, FH, FW, self.stride, self.pad)\n",
    "        col_W = self.W.reshape(FN, -1).T\n",
    "\n",
    "        out = np.dot(col, col_W) + self.b\n",
    "        out = out.reshape(N, out_h, out_w, -1).transpose(0, 3, 1, 2)\n",
    "\n",
    "        self.x = x\n",
    "        self.col = col\n",
    "        self.col_W = col_W\n",
    "\n",
    "        return out\n",
    "\n",
    "    def backward(self, dout):\n",
    "        FN, C, FH, FW = self.W.shape\n",
    "        dout = dout.transpose(0,2,3,1).reshape(-1, FN)\n",
    "\n",
    "        self.db = np.sum(dout, axis=0)\n",
    "        self.dW = np.dot(self.col.T, dout)\n",
    "        self.dW = self.dW.transpose(1, 0).reshape(FN, C, FH, FW)\n",
    "\n",
    "        dcol = np.dot(dout, self.col_W.T)\n",
    "        dx = col2im(dcol, self.x.shape, FH, FW, self.stride, self.pad)\n",
    "\n",
    "        return dx"
   ]
  },
  {
   "cell_type": "code",
   "execution_count": 17,
   "id": "9e4105ef",
   "metadata": {},
   "outputs": [],
   "source": [
    "class Pooling:\n",
    "    def __init__(self, pool_h, pool_w, stride=1, pad=0):\n",
    "        self.pool_h = pool_h\n",
    "        self.pool_w = pool_w\n",
    "        self.stride = stride\n",
    "        self.pad = pad\n",
    "        \n",
    "        self.x = None\n",
    "        self.arg_max = None\n",
    "\n",
    "    def forward(self, x):\n",
    "        N, C, H, W = x.shape\n",
    "        out_h = int(1 + (H - self.pool_h) / self.stride)\n",
    "        out_w = int(1 + (W - self.pool_w) / self.stride)\n",
    "\n",
    "        col = im2col(x, self.pool_h, self.pool_w, self.stride, self.pad)\n",
    "        col = col.reshape(-1, self.pool_h*self.pool_w)\n",
    "\n",
    "        arg_max = np.argmax(col, axis=1)\n",
    "        out = np.max(col, axis=1)\n",
    "        out = out.reshape(N, out_h, out_w, C).transpose(0, 3, 1, 2)\n",
    "\n",
    "        self.x = x\n",
    "        self.arg_max = arg_max\n",
    "\n",
    "        return out\n",
    "\n",
    "    def backward(self, dout):\n",
    "        dout = dout.transpose(0, 2, 3, 1)\n",
    "        \n",
    "        pool_size = self.pool_h * self.pool_w\n",
    "        dmax = np.zeros((dout.size, pool_size))\n",
    "        dmax[np.arange(self.arg_max.size), self.arg_max.flatten()] = dout.flatten()\n",
    "        dmax = dmax.reshape(dout.shape + (pool_size,)) \n",
    "        \n",
    "        dcol = dmax.reshape(dmax.shape[0] * dmax.shape[1] * dmax.shape[2], -1)\n",
    "        dx = col2im(dcol, self.x.shape, self.pool_h, self.pool_w, self.stride, self.pad)\n",
    "        \n",
    "        return dx\n"
   ]
  },
  {
   "cell_type": "markdown",
   "id": "e8d61b57-e961-4aba-907a-a7363c23a617",
   "metadata": {},
   "source": [
    "# ◇ 가중치 초기화 He"
   ]
  },
  {
   "cell_type": "code",
   "execution_count": 18,
   "id": "6e97a344-d757-4dfd-8c54-74d3316db214",
   "metadata": {},
   "outputs": [],
   "source": [
    "def He_init(input, ouput):\n",
    "    return np.sqrt(1.5 / input) * np.random.randn(input, ouput)"
   ]
  },
  {
   "cell_type": "markdown",
   "id": "ebca134e-acc5-4564-8087-4359506948b9",
   "metadata": {},
   "source": [
    "# ◇ SimpleConvNet 클래스  \n",
    "\n",
    "<br/>\n",
    "\n",
    "1. ## 첫번째 변경 - 배치 정규화 계층 추가 \n",
    "- - --> 이후 정확도가 올라가는 것을 확인\n",
    " \n",
    "<br/>\n",
    "\n",
    "2. ## 하이퍼피라미터 튜닝 - 배치사이즈 300, 학습률 0.005, 필터 수 32, 필터 사이즈 3\n",
    "- - --> 테스트 정확도는 올라가나 시험 정확도와의 차이가 발생 (오버피팅?)\n",
    "\n",
    "<br/>\n",
    "\n",
    "3. ## He초기화 적용, 하이퍼피라티머 튜닝 조절 - 배치사이즈 100으로 변경(테스트와 시험 정확도가 차이나는 이유로 생각)\n",
    "- - --> 테스트중"
   ]
  },
  {
   "cell_type": "code",
   "execution_count": 19,
   "id": "16742bf4",
   "metadata": {},
   "outputs": [],
   "source": [
    "class SimpleConvNet:\n",
    "    \"\"\"단순한 합성곱 신경망\n",
    "    \n",
    "    conv - relu - pool - affine - relu - affine - softmax\n",
    "    \n",
    "    Parameters\n",
    "    ----------\n",
    "    input_size : 입력 크기（MNIST의 경우엔 784）\n",
    "    hidden_size_list : 각 은닉층의 뉴런 수를 담은 리스트（e.g. [100, 100, 100]）\n",
    "    output_size : 출력 크기（MNIST의 경우엔 10）\n",
    "    activation : 활성화 함수 - 'relu' 혹은 'sigmoid'\n",
    "    weight_init_std : 가중치의 표준편차 지정（e.g. 0.01）\n",
    "        'relu'나 'he'로 지정하면 'He 초깃값'으로 설정\n",
    "        'sigmoid'나 'xavier'로 지정하면 'Xavier 초깃값'으로 설정\n",
    "    \"\"\"\n",
    "    def __init__(self, input_dim=(1, 28, 28), \n",
    "                 conv_param={'filter_num':30, 'filter_size':5, 'pad':0, 'stride':1},\n",
    "                 hidden_size=100, output_size=10, weight_init_std=0.01):\n",
    "        filter_num = conv_param['filter_num']\n",
    "        filter_size = conv_param['filter_size']\n",
    "        filter_pad = conv_param['pad']\n",
    "        filter_stride = conv_param['stride']\n",
    "        input_size = input_dim[1]\n",
    "        conv_output_size = (input_size - filter_size + 2*filter_pad) / filter_stride + 1\n",
    "        pool_output_size = int(filter_num * (conv_output_size/2) * (conv_output_size/2))\n",
    "\n",
    "        # 가중치 초기화\n",
    "        self.params = {}\n",
    "        \n",
    "        \n",
    "        self.params['W1'] = weight_init_std * \\\n",
    "                            np.random.randn(filter_num, input_dim[0], filter_size, filter_size)\n",
    "        \n",
    "        self.params['b1'] = np.zeros(filter_num)\n",
    "        self.params['W2'] = He_init(pool_output_size, hidden_size)  # weight_init_std * np.random.randn(pool_output_size, hidden_size)\n",
    "                   \n",
    "        self.params['b2'] = np.zeros(hidden_size)\n",
    "        self.params['W3'] = He_init(hidden_size, output_size) # weight_init_std * np.random.randn(hidden_size, output_size)\n",
    "        \n",
    "        self.params['b3'] = np.zeros(output_size)\n",
    "\n",
    "        # 계층 생성\n",
    "        self.layers = OrderedDict()\n",
    "        self.layers['Conv1'] = Convolution(self.params['W1'], self.params['b1'], conv_param['stride'], conv_param['pad'])\n",
    "        \n",
    "        self.layers['BatchNormalization1'] = BatchNormalization()\n",
    "        \n",
    "        self.layers['Relu1'] = Relu()\n",
    "        self.layers['Pool1'] = Pooling(pool_h=2, pool_w=2, stride=2)\n",
    "        self.layers['Affine1'] = Affine(self.params['W2'], self.params['b2'])\n",
    "        \n",
    "        self.layers['BatchNormalization2'] = BatchNormalization()\n",
    "        \n",
    "        self.layers['Relu2'] = Relu()\n",
    "        self.layers['Affine2'] = Affine(self.params['W3'], self.params['b3'])\n",
    "\n",
    "        self.last_layer = SoftmaxWithLoss()\n",
    "\n",
    "    def predict(self, x):\n",
    "        for layer in self.layers.values():\n",
    "            x = layer.forward(x)\n",
    "\n",
    "        return x\n",
    "\n",
    "    def loss(self, x, t):\n",
    "        \"\"\"손실 함수를 구한다.\n",
    "\n",
    "        Parameters\n",
    "        ----------\n",
    "        x : 입력 데이터\n",
    "        t : 정답 레이블\n",
    "        \"\"\"\n",
    "        y = self.predict(x)\n",
    "        return self.last_layer.forward(y, t)\n",
    "\n",
    "    def accuracy(self, x, t, batch_size=100):\n",
    "        if t.ndim != 1 : t = np.argmax(t, axis=1)\n",
    "        \n",
    "        acc = 0.0\n",
    "        \n",
    "        for i in range(int(x.shape[0] / batch_size)):\n",
    "            tx = x[i*batch_size:(i+1)*batch_size]\n",
    "            tt = t[i*batch_size:(i+1)*batch_size]\n",
    "            y = self.predict(tx)\n",
    "            y = np.argmax(y, axis=1)\n",
    "            acc += np.sum(y == tt) \n",
    "        \n",
    "        return acc / x.shape[0]\n",
    "\n",
    "    def numerical_gradient(self, x, t):\n",
    "        \"\"\"기울기를 구한다（수치미분）.\n",
    "\n",
    "        Parameters\n",
    "        ----------\n",
    "        x : 입력 데이터\n",
    "        t : 정답 레이블\n",
    "\n",
    "        Returns\n",
    "        -------\n",
    "        각 층의 기울기를 담은 사전(dictionary) 변수\n",
    "            grads['W1']、grads['W2']、... 각 층의 가중치\n",
    "            grads['b1']、grads['b2']、... 각 층의 편향\n",
    "        \"\"\"\n",
    "        loss_w = lambda w: self.loss(x, t)\n",
    "\n",
    "        grads = {}\n",
    "        for idx in (1, 2, 3):\n",
    "            grads['W' + str(idx)] = numerical_gradient(loss_w, self.params['W' + str(idx)])\n",
    "            grads['b' + str(idx)] = numerical_gradient(loss_w, self.params['b' + str(idx)])\n",
    "\n",
    "        return grads\n",
    "\n",
    "    def gradient(self, x, t):\n",
    "        \"\"\"기울기를 구한다(오차역전파법).\n",
    "\n",
    "        Parameters\n",
    "        ----------\n",
    "        x : 입력 데이터\n",
    "        t : 정답 레이블\n",
    "\n",
    "        Returns\n",
    "        -------\n",
    "        각 층의 기울기를 담은 사전(dictionary) 변수\n",
    "            grads['W1']、grads['W2']、... 각 층의 가중치\n",
    "            grads['b1']、grads['b2']、... 각 층의 편향\n",
    "        \"\"\"\n",
    "        # forward\n",
    "        self.loss(x, t)\n",
    "\n",
    "        # backward\n",
    "        dout = 1\n",
    "        dout = self.last_layer.backward(dout)\n",
    "\n",
    "        layers = list(self.layers.values())\n",
    "        layers.reverse()\n",
    "        for layer in layers:\n",
    "            dout = layer.backward(dout)\n",
    "\n",
    "        # 결과 저장\n",
    "        grads = {}\n",
    "        grads['W1'], grads['b1'] = self.layers['Conv1'].dW, self.layers['Conv1'].db\n",
    "        grads['W2'], grads['b2'] = self.layers['Affine1'].dW, self.layers['Affine1'].db\n",
    "        grads['W3'], grads['b3'] = self.layers['Affine2'].dW, self.layers['Affine2'].db\n",
    "\n",
    "        return grads\n",
    "        \n",
    "    def save_params(self, file_name=\"params.pkl\"):\n",
    "        params = {}\n",
    "        for key, val in self.params.items():\n",
    "            params[key] = val\n",
    "        with open(file_name, 'wb') as f:\n",
    "            pickle.dump(params, f)\n",
    "\n",
    "    def load_params(self, file_name=\"params.pkl\"):\n",
    "        with open(file_name, 'rb') as f:\n",
    "            params = pickle.load(f)\n",
    "        for key, val in params.items():\n",
    "            self.params[key] = val\n",
    "\n",
    "        for i, key in enumerate(['Conv1', 'Affine1', 'Affine2']):\n",
    "            self.layers[key].W = self.params['W' + str(i+1)]\n",
    "            self.layers[key].b = self.params['b' + str(i+1)]\n"
   ]
  },
  {
   "cell_type": "markdown",
   "id": "fe045263-ea41-4b2d-9b4e-e6355b8731bf",
   "metadata": {},
   "source": [
    "# ◇ Fashion-MNIST CNN 학습 데이터 불러오기"
   ]
  },
  {
   "cell_type": "code",
   "execution_count": 20,
   "id": "dbcf2bcc",
   "metadata": {},
   "outputs": [],
   "source": [
    "# 데이터를 로드합니다.\n",
    "x_train = load_mnist_images(train_images_path)\n",
    "t_train = load_mnist_labels(train_labels_path)\n",
    "x_test = load_mnist_images(test_images_path)\n",
    "t_test = load_mnist_labels(test_labels_path)"
   ]
  },
  {
   "cell_type": "markdown",
   "id": "db07be11",
   "metadata": {},
   "source": [
    "# ◇ Fashion-MNIST 학습 데이터 확인"
   ]
  },
  {
   "cell_type": "code",
   "execution_count": 21,
   "id": "bac8b5d5-172c-4d85-b11a-47e141c19710",
   "metadata": {},
   "outputs": [
    {
     "name": "stdout",
     "output_type": "stream",
     "text": [
      "Train images shape: (60000, 1, 28, 28)\n",
      "Train labels shape: (60000,)\n",
      "Test images shape: (10000, 1, 28, 28)\n",
      "Test labels shape: (10000,)\n"
     ]
    },
    {
     "data": {
      "image/png": "[encoded data removed]",
      "text/plain": [
       "<Figure size 640x480 with 1 Axes>"
      ]
     },
     "metadata": {},
     "output_type": "display_data"
    }
   ],
   "source": [
    "print(f'Train images shape: {x_train.shape}')\n",
    "print(f'Train labels shape: {t_train.shape}')\n",
    "print(f'Test images shape: {x_test.shape}')\n",
    "print(f'Test labels shape: {t_test.shape}')\n",
    "\n",
    "# Fashion-MNIST 클래스 이름 정의\n",
    "class_names = ['T-shirt/top', 'Trouser', 'Pullover', 'Dress', 'Coat', \n",
    "               'Sandal', 'Shirt', 'Sneaker', 'Bag', 'Ankle boot']\n",
    "\n",
    "# 이미지 한 장과 해당 레이블을 선택합니다.\n",
    "index = 0  # 0번 인덱스를 선택\n",
    "image = x_train[index][0, :, :]\n",
    "label = t_train[index]\n",
    "\n",
    "# 이미지와 레이블을 출력합니다.\n",
    "plt.imshow(image)\n",
    "plt.show()"
   ]
  },
  {
   "cell_type": "code",
   "execution_count": 22,
   "id": "a4eb85f2-7534-48d2-a079-75bf36710c6d",
   "metadata": {
    "scrolled": true
   },
   "outputs": [],
   "source": [
    "iters_num = 10000\n",
    "batch_size = 100\n",
    "learning_rate = 0.005\n",
    "\n",
    "# 기울기 최적화 함수들\n",
    "#sgd = SGD(Ir=learning_rate)\n",
    "#momentum = Momentum(Ir=learning_rate)\n",
    "adaGrad = AdaGrad(Ir=learning_rate)\n",
    "\n",
    "train_loss_list = []\n",
    "train_acc_list = []\n",
    "test_acc_list = []\n",
    "\n",
    "train_size = x_train.shape[0]\n",
    "iter_per_epoch = max(train_size / batch_size, 1)\n",
    "\n",
    "# CNN계층이 적용된 클래스\n",
    "network = SimpleConvNet(input_dim=(1,28,28), \n",
    "                        conv_param = {'filter_num': 32, 'filter_size': 3, 'pad': 0, 'stride': 1},\n",
    "                        hidden_size=100, output_size=10, weight_init_std=0.01)\n",
    "\n",
    "verbose = True # 실행되는 과정(손실값, 에폭당 정확도)를 로그로 남길 것인가\n",
    "current_epoch = 0 # 현재 에폭 수\n",
    "evaluate_sample_num_per_epoch = None # 모름 옵션인듯\n"
   ]
  },
  {
   "cell_type": "code",
   "execution_count": 23,
   "id": "2a7f211f",
   "metadata": {},
   "outputs": [
    {
     "name": "stdout",
     "output_type": "stream",
     "text": [
      "학습 시작 ~~~~\n",
      "=== epoch:1, train acc:0.4723, test acc:0.4653 ===\n",
      "=== epoch:2, train acc:0.90565, test acc:0.8863 ===\n",
      "=== epoch:3, train acc:0.9219166666666667, test acc:0.8921 ===\n",
      "=== epoch:4, train acc:0.9325, test acc:0.9024 ===\n",
      "=== epoch:5, train acc:0.9370833333333334, test acc:0.9039 ===\n",
      "=== epoch:6, train acc:0.9402833333333334, test acc:0.9052 ===\n",
      "=== epoch:7, train acc:0.9477, test acc:0.908 ===\n",
      "=== epoch:8, train acc:0.9514333333333334, test acc:0.9073 ===\n",
      "=== epoch:9, train acc:0.9555166666666667, test acc:0.9105 ===\n",
      "=== epoch:10, train acc:0.95925, test acc:0.9093 ===\n",
      "=== epoch:11, train acc:0.9612833333333334, test acc:0.9118 ===\n",
      "=== epoch:12, train acc:0.9627, test acc:0.913 ===\n",
      "=== epoch:13, train acc:0.9672166666666666, test acc:0.9124 ===\n",
      "=== epoch:14, train acc:0.9679666666666666, test acc:0.9134 ===\n",
      "=== epoch:15, train acc:0.9698, test acc:0.9133 ===\n",
      "=== epoch:16, train acc:0.9721, test acc:0.9149 ===\n",
      "=== epoch:17, train acc:0.97245, test acc:0.9137 ===\n",
      "최종 학습률 --> train_acc : 97.25%, test_acc : 91.37%\n"
     ]
    }
   ],
   "source": [
    "print(\"학습 시작 ~~~~\")\n",
    "\n",
    "for i in range(iters_num):\n",
    "    \n",
    "    # 배치 사이즈만큼 랜덤판 데이터를 가져옴\n",
    "    batch_mask = np.random.choice(train_size, batch_size)\n",
    "    x_batch = x_train[batch_mask]\n",
    "    t_batch = t_train[batch_mask]\n",
    "\n",
    "    # 기울기를 구함\n",
    "    grads = network.gradient(x_batch, t_batch)\n",
    "    \n",
    "    # 모멘텀 방식으로 기울기 업데이트\n",
    "    adaGrad.update(network.params, grads)\n",
    "\n",
    "    # 현재 손실 함수를 구하고 저장 - 그래프 그리기 위한 데이터\n",
    "    loss = network.loss(x_batch, t_batch)\n",
    "    train_loss_list.append(loss)\n",
    "    \n",
    "    #if verbose: print(\"train loss:\" + str(loss))\n",
    "\n",
    "    # 데이터셋을 한번 학습하면\n",
    "    if i % iter_per_epoch == 0:\n",
    "        current_epoch += 1\n",
    "\n",
    "        x_train_sample, t_train_sample = x_train, t_train\n",
    "        x_test_sample, t_test_sample = x_test, t_test\n",
    "        if not evaluate_sample_num_per_epoch is None:\n",
    "            t = evaluate_sample_num_per_epoch\n",
    "            x_train_sample, t_train_sample = x_train[:t], t_train[:t]\n",
    "            x_test_sample, t_test_sample = x_test[:t], t_test[:t]\n",
    "\n",
    "        # 에폭당 정확도를 구하고 저장 - 그래프 그리기 위한 데이터\n",
    "        train_acc = network.accuracy(x_train_sample, t_train_sample)\n",
    "        test_acc = network.accuracy(x_test_sample, t_test_sample)\n",
    "        train_acc_list.append(train_acc)\n",
    "        test_acc_list.append(test_acc)\n",
    "\n",
    "        # 에폭마다 정확도를 체크\n",
    "        if verbose: print(\"=== epoch:\" + str(current_epoch) + \", train acc:\" + str(train_acc) + \", test acc:\" + str(test_acc) + \" ===\")\n",
    "\n",
    "\n",
    "print(\"최종 학습률 --> train_acc : %.2f%%, test_acc : %.2f%%\" % (train_acc_list[-1]*100, test_acc_list[-1]*100))"
   ]
  },
  {
   "cell_type": "code",
   "execution_count": 24,
   "id": "12264dca",
   "metadata": {},
   "outputs": [
    {
     "name": "stdout",
     "output_type": "stream",
     "text": [
      "Saved Network Parameters!\n"
     ]
    }
   ],
   "source": [
    "# 매개변수 보존\n",
    "network.save_params(\"params.pkl\")\n",
    "print(\"Saved Network Parameters!\")"
   ]
  },
  {
   "cell_type": "markdown",
   "id": "0f70fef2-d5d5-4457-93bc-9025cb52b372",
   "metadata": {},
   "source": [
    "----"
   ]
  },
  {
   "cell_type": "markdown",
   "id": "4d75a816-4e04-47c4-ab0a-f4d505b7ab56",
   "metadata": {},
   "source": [
    "# 학습 그래프"
   ]
  },
  {
   "cell_type": "code",
   "execution_count": 25,
   "id": "addc8134-41c7-41dc-b827-1d09d6e5d308",
   "metadata": {},
   "outputs": [],
   "source": [
    "import matplotlib.pyplot as plt\n",
    "def smooth_curve(x):\n",
    "    \"\"\"손실 함수의 그래프를 매끄럽게 하기 위해 사용\n",
    "    \n",
    "    참고：http://glowingpython.blogspot.jp/2012/02/convolution-with-numpy.html\n",
    "    \"\"\"\n",
    "    window_len = 11\n",
    "    s = np.r_[x[window_len-1:0:-1], x, x[-1:-window_len:-1]]\n",
    "    w = np.kaiser(window_len, 2)\n",
    "    y = np.convolve(w/w.sum(), s, mode='valid')\n",
    "    return y[5:len(y)-5]"
   ]
  },
  {
   "cell_type": "markdown",
   "id": "8938cb01-58f0-41f5-b482-26cbc686faf6",
   "metadata": {},
   "source": [
    "### 반복횟수와 손실함수값 추이 (AdaGrad사용했습니다) ▽"
   ]
  },
  {
   "cell_type": "code",
   "execution_count": 26,
   "id": "7d45435b-1346-4d4d-9209-333d7388fa62",
   "metadata": {},
   "outputs": [
    {
     "data": {
      "image/png": "[encoded data removed]",
      "text/plain": [
       "<Figure size 640x480 with 1 Axes>"
      ]
     },
     "metadata": {},
     "output_type": "display_data"
    }
   ],
   "source": [
    "# 손실 함수 값\n",
    "x = np.arange(len(train_loss_list))\n",
    "plt.plot(x, smooth_curve(train_loss_list), label='Momentum')\n",
    "plt.xlabel(\"iterations\")\n",
    "plt.ylabel(\"loss\")\n",
    "plt.ylim(0, 1)\n",
    "plt.legend()\n",
    "plt.show()"
   ]
  },
  {
   "cell_type": "markdown",
   "id": "bf749abe-ce9b-4cb1-995b-d3c60a0668d5",
   "metadata": {},
   "source": [
    "### 에폭 당 정확도 변화 ▽"
   ]
  },
  {
   "cell_type": "code",
   "execution_count": 27,
   "id": "63b98c3d-ff45-44f4-ae16-66d859c1ae85",
   "metadata": {},
   "outputs": [
    {
     "data": {
      "image/png": "[encoded data removed]",
      "text/plain": [
       "<Figure size 640x480 with 1 Axes>"
      ]
     },
     "metadata": {},
     "output_type": "display_data"
    }
   ],
   "source": [
    "# 에폭 당 정확도\n",
    "markers = {'train': 'o', 'test': 's'}\n",
    "x = np.arange(len(train_acc_list))\n",
    "plt.plot(x, train_acc_list, label='train acc')\n",
    "plt.plot(x, test_acc_list, label='test acc', linestyle='--')\n",
    "plt.xlabel(\"epochs\")\n",
    "plt.ylabel(\"accuracy\")\n",
    "plt.ylim(0, 1.0)\n",
    "plt.legend(loc='lower right')\n",
    "plt.show()"
   ]
  },
  {
   "cell_type": "code",
   "execution_count": null,
   "id": "bff75f82-f5d8-4a70-81d5-e2ec14c98898",
   "metadata": {},
   "outputs": [],
   "source": []
  },
  {
   "cell_type": "code",
   "execution_count": null,
   "id": "80d1318d",
   "metadata": {},
   "outputs": [],
   "source": []
  },
  {
   "cell_type": "code",
   "execution_count": null,
   "id": "06571773",
   "metadata": {},
   "outputs": [],
   "source": []
  },
  {
   "cell_type": "code",
   "execution_count": null,
   "id": "964d0f34",
   "metadata": {},
   "outputs": [],
   "source": []
  },
  {
   "cell_type": "code",
   "execution_count": null,
   "id": "0dae1c37",
   "metadata": {},
   "outputs": [],
   "source": []
  },
  {
   "cell_type": "code",
   "execution_count": null,
   "id": "1f4ff808",
   "metadata": {},
   "outputs": [],
   "source": []
  },
  {
   "cell_type": "code",
   "execution_count": null,
   "id": "c345ec1e",
   "metadata": {},
   "outputs": [],
   "source": []
  },
  {
   "cell_type": "code",
   "execution_count": null,
   "id": "9c23c6d1",
   "metadata": {},
   "outputs": [],
   "source": []
  },
  {
   "cell_type": "code",
   "execution_count": null,
   "id": "e698ce12",
   "metadata": {},
   "outputs": [],
   "source": []
  },
  {
   "cell_type": "code",
   "execution_count": null,
   "id": "569ef762",
   "metadata": {},
   "outputs": [],
   "source": []
  },
  {
   "cell_type": "code",
   "execution_count": null,
   "id": "4b301e01",
   "metadata": {},
   "outputs": [],
   "source": []
  },
  {
   "cell_type": "code",
   "execution_count": null,
   "id": "0e8f837b",
   "metadata": {},
   "outputs": [],
   "source": []
  },
  {
   "cell_type": "code",
   "execution_count": null,
   "id": "9c68df9b",
   "metadata": {},
   "outputs": [],
   "source": []
  },
  {
   "cell_type": "code",
   "execution_count": null,
   "id": "e7e212d0",
   "metadata": {},
   "outputs": [],
   "source": []
  },
  {
   "cell_type": "code",
   "execution_count": null,
   "id": "9ebcfa4f",
   "metadata": {},
   "outputs": [],
   "source": []
  },
  {
   "cell_type": "code",
   "execution_count": null,
   "id": "bacca3a9",
   "metadata": {},
   "outputs": [],
   "source": []
  },
  {
   "cell_type": "code",
   "execution_count": null,
   "id": "534a1e2c",
   "metadata": {},
   "outputs": [],
   "source": []
  },
  {
   "cell_type": "code",
   "execution_count": null,
   "id": "d88de446",
   "metadata": {},
   "outputs": [],
   "source": []
  },
  {
   "cell_type": "code",
   "execution_count": null,
   "id": "a50c485d",
   "metadata": {},
   "outputs": [],
   "source": []
  },
  {
   "cell_type": "code",
   "execution_count": null,
   "id": "93f1bf9e",
   "metadata": {},
   "outputs": [],
   "source": []
  },
  {
   "cell_type": "code",
   "execution_count": null,
   "id": "b0b485e6",
   "metadata": {},
   "outputs": [],
   "source": []
  },
  {
   "cell_type": "code",
   "execution_count": null,
   "id": "b58edee6",
   "metadata": {},
   "outputs": [],
   "source": []
  },
  {
   "cell_type": "code",
   "execution_count": null,
   "id": "aebb5d96",
   "metadata": {},
   "outputs": [],
   "source": []
  },
  {
   "cell_type": "code",
   "execution_count": null,
   "id": "a5363bb2",
   "metadata": {},
   "outputs": [],
   "source": []
  },
  {
   "cell_type": "code",
   "execution_count": null,
   "id": "591cae41",
   "metadata": {},
   "outputs": [],
   "source": []
  },
  {
   "cell_type": "code",
   "execution_count": null,
   "id": "80569aaf",
   "metadata": {},
   "outputs": [],
   "source": []
  },
  {
   "cell_type": "code",
   "execution_count": null,
   "id": "a0ad4dac-8a29-4cf8-bae7-99d5e7b6ed53",
   "metadata": {},
   "outputs": [],
   "source": []
  },
  {
   "cell_type": "code",
   "execution_count": null,
   "id": "7b48d23a-ce73-49ff-9aae-903df0094561",
   "metadata": {},
   "outputs": [],
   "source": []
  }
 ],
 "metadata": {
  "kernelspec": {
   "display_name": "Python 3 (ipykernel)",
   "language": "python",
   "name": "python3"
  },
  "language_info": {
   "codemirror_mode": {
    "name": "ipython",
    "version": 3
   },
   "file_extension": ".py",
   "mimetype": "text/x-python",
   "name": "python",
   "nbconvert_exporter": "python",
   "pygments_lexer": "ipython3",
   "version": "3.11.7"
  }
 },
 "nbformat": 4,
 "nbformat_minor": 5
}
